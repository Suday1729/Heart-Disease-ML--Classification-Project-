{
 "cells": [
  {
   "cell_type": "code",
   "execution_count": 1,
   "id": "9c5ca6ec",
   "metadata": {},
   "outputs": [],
   "source": [
    "import numpy as np\n",
    "import pandas as pd"
   ]
  },
  {
   "cell_type": "code",
   "execution_count": 2,
   "id": "96df140c",
   "metadata": {},
   "outputs": [],
   "source": [
    "import matplotlib.pyplot as plt\n",
    "import seaborn as sns\n",
    "import warnings\n",
    "warnings.filterwarnings(\"ignore\")"
   ]
  },
  {
   "cell_type": "code",
   "execution_count": 3,
   "id": "1f5cd8b9",
   "metadata": {},
   "outputs": [],
   "source": [
    "from statsmodels.stats.proportion import proportions_ztest\n",
    "import scipy.stats as st\n",
    "from sklearn.model_selection import train_test_split\n",
    "from sklearn.preprocessing import StandardScaler"
   ]
  },
  {
   "cell_type": "code",
   "execution_count": 143,
   "id": "934dbb5a",
   "metadata": {},
   "outputs": [],
   "source": [
    "from sklearn.metrics import plot_roc_curve, recall_score"
   ]
  },
  {
   "cell_type": "code",
   "execution_count": 5,
   "id": "2932cb92",
   "metadata": {},
   "outputs": [],
   "source": [
    "from sklearn.metrics import plot_confusion_matrix,accuracy_score,precision_score,f1_score,roc_auc_score,classification_report,confusion_matrix"
   ]
  },
  {
   "cell_type": "code",
   "execution_count": 6,
   "id": "e950a208",
   "metadata": {},
   "outputs": [
    {
     "data": {
      "text/html": [
       "<div>\n",
       "<style scoped>\n",
       "    .dataframe tbody tr th:only-of-type {\n",
       "        vertical-align: middle;\n",
       "    }\n",
       "\n",
       "    .dataframe tbody tr th {\n",
       "        vertical-align: top;\n",
       "    }\n",
       "\n",
       "    .dataframe thead th {\n",
       "        text-align: right;\n",
       "    }\n",
       "</style>\n",
       "<table border=\"1\" class=\"dataframe\">\n",
       "  <thead>\n",
       "    <tr style=\"text-align: right;\">\n",
       "      <th></th>\n",
       "      <th>HeartDisease</th>\n",
       "      <th>BMI</th>\n",
       "      <th>Smoking</th>\n",
       "      <th>AlcoholDrinking</th>\n",
       "      <th>Stroke</th>\n",
       "      <th>PhysicalHealth</th>\n",
       "      <th>MentalHealth</th>\n",
       "      <th>DiffWalking</th>\n",
       "      <th>Sex</th>\n",
       "      <th>AgeCategory</th>\n",
       "      <th>Race</th>\n",
       "      <th>Diabetic</th>\n",
       "      <th>PhysicalActivity</th>\n",
       "      <th>GenHealth</th>\n",
       "      <th>SleepTime</th>\n",
       "      <th>Asthma</th>\n",
       "      <th>KidneyDisease</th>\n",
       "      <th>SkinCancer</th>\n",
       "    </tr>\n",
       "  </thead>\n",
       "  <tbody>\n",
       "    <tr>\n",
       "      <th>0</th>\n",
       "      <td>No</td>\n",
       "      <td>16.60</td>\n",
       "      <td>Yes</td>\n",
       "      <td>No</td>\n",
       "      <td>No</td>\n",
       "      <td>3.0</td>\n",
       "      <td>30.0</td>\n",
       "      <td>No</td>\n",
       "      <td>Female</td>\n",
       "      <td>55-59</td>\n",
       "      <td>White</td>\n",
       "      <td>Yes</td>\n",
       "      <td>Yes</td>\n",
       "      <td>Very good</td>\n",
       "      <td>5.0</td>\n",
       "      <td>Yes</td>\n",
       "      <td>No</td>\n",
       "      <td>Yes</td>\n",
       "    </tr>\n",
       "    <tr>\n",
       "      <th>1</th>\n",
       "      <td>No</td>\n",
       "      <td>20.34</td>\n",
       "      <td>No</td>\n",
       "      <td>No</td>\n",
       "      <td>Yes</td>\n",
       "      <td>0.0</td>\n",
       "      <td>0.0</td>\n",
       "      <td>No</td>\n",
       "      <td>Female</td>\n",
       "      <td>80 or older</td>\n",
       "      <td>White</td>\n",
       "      <td>No</td>\n",
       "      <td>Yes</td>\n",
       "      <td>Very good</td>\n",
       "      <td>7.0</td>\n",
       "      <td>No</td>\n",
       "      <td>No</td>\n",
       "      <td>No</td>\n",
       "    </tr>\n",
       "    <tr>\n",
       "      <th>2</th>\n",
       "      <td>No</td>\n",
       "      <td>26.58</td>\n",
       "      <td>Yes</td>\n",
       "      <td>No</td>\n",
       "      <td>No</td>\n",
       "      <td>20.0</td>\n",
       "      <td>30.0</td>\n",
       "      <td>No</td>\n",
       "      <td>Male</td>\n",
       "      <td>65-69</td>\n",
       "      <td>White</td>\n",
       "      <td>Yes</td>\n",
       "      <td>Yes</td>\n",
       "      <td>Fair</td>\n",
       "      <td>8.0</td>\n",
       "      <td>Yes</td>\n",
       "      <td>No</td>\n",
       "      <td>No</td>\n",
       "    </tr>\n",
       "    <tr>\n",
       "      <th>3</th>\n",
       "      <td>No</td>\n",
       "      <td>24.21</td>\n",
       "      <td>No</td>\n",
       "      <td>No</td>\n",
       "      <td>No</td>\n",
       "      <td>0.0</td>\n",
       "      <td>0.0</td>\n",
       "      <td>No</td>\n",
       "      <td>Female</td>\n",
       "      <td>75-79</td>\n",
       "      <td>White</td>\n",
       "      <td>No</td>\n",
       "      <td>No</td>\n",
       "      <td>Good</td>\n",
       "      <td>6.0</td>\n",
       "      <td>No</td>\n",
       "      <td>No</td>\n",
       "      <td>Yes</td>\n",
       "    </tr>\n",
       "    <tr>\n",
       "      <th>4</th>\n",
       "      <td>No</td>\n",
       "      <td>23.71</td>\n",
       "      <td>No</td>\n",
       "      <td>No</td>\n",
       "      <td>No</td>\n",
       "      <td>28.0</td>\n",
       "      <td>0.0</td>\n",
       "      <td>Yes</td>\n",
       "      <td>Female</td>\n",
       "      <td>40-44</td>\n",
       "      <td>White</td>\n",
       "      <td>No</td>\n",
       "      <td>Yes</td>\n",
       "      <td>Very good</td>\n",
       "      <td>8.0</td>\n",
       "      <td>No</td>\n",
       "      <td>No</td>\n",
       "      <td>No</td>\n",
       "    </tr>\n",
       "  </tbody>\n",
       "</table>\n",
       "</div>"
      ],
      "text/plain": [
       "  HeartDisease    BMI Smoking AlcoholDrinking Stroke  PhysicalHealth  \\\n",
       "0           No  16.60     Yes              No     No             3.0   \n",
       "1           No  20.34      No              No    Yes             0.0   \n",
       "2           No  26.58     Yes              No     No            20.0   \n",
       "3           No  24.21      No              No     No             0.0   \n",
       "4           No  23.71      No              No     No            28.0   \n",
       "\n",
       "   MentalHealth DiffWalking     Sex  AgeCategory   Race Diabetic  \\\n",
       "0          30.0          No  Female        55-59  White      Yes   \n",
       "1           0.0          No  Female  80 or older  White       No   \n",
       "2          30.0          No    Male        65-69  White      Yes   \n",
       "3           0.0          No  Female        75-79  White       No   \n",
       "4           0.0         Yes  Female        40-44  White       No   \n",
       "\n",
       "  PhysicalActivity  GenHealth  SleepTime Asthma KidneyDisease SkinCancer  \n",
       "0              Yes  Very good        5.0    Yes            No        Yes  \n",
       "1              Yes  Very good        7.0     No            No         No  \n",
       "2              Yes       Fair        8.0    Yes            No         No  \n",
       "3               No       Good        6.0     No            No        Yes  \n",
       "4              Yes  Very good        8.0     No            No         No  "
      ]
     },
     "execution_count": 6,
     "metadata": {},
     "output_type": "execute_result"
    }
   ],
   "source": [
    "df= pd.read_csv(\"heart_2020.csv\")\n",
    "df.head()"
   ]
  },
  {
   "cell_type": "code",
   "execution_count": 7,
   "id": "21552401",
   "metadata": {},
   "outputs": [
    {
     "name": "stdout",
     "output_type": "stream",
     "text": [
      "<class 'pandas.core.frame.DataFrame'>\n",
      "RangeIndex: 319795 entries, 0 to 319794\n",
      "Data columns (total 18 columns):\n",
      " #   Column            Non-Null Count   Dtype  \n",
      "---  ------            --------------   -----  \n",
      " 0   HeartDisease      319795 non-null  object \n",
      " 1   BMI               319795 non-null  float64\n",
      " 2   Smoking           319795 non-null  object \n",
      " 3   AlcoholDrinking   319795 non-null  object \n",
      " 4   Stroke            319795 non-null  object \n",
      " 5   PhysicalHealth    319795 non-null  float64\n",
      " 6   MentalHealth      319795 non-null  float64\n",
      " 7   DiffWalking       319795 non-null  object \n",
      " 8   Sex               319795 non-null  object \n",
      " 9   AgeCategory       319795 non-null  object \n",
      " 10  Race              319795 non-null  object \n",
      " 11  Diabetic          319795 non-null  object \n",
      " 12  PhysicalActivity  319795 non-null  object \n",
      " 13  GenHealth         319795 non-null  object \n",
      " 14  SleepTime         319795 non-null  float64\n",
      " 15  Asthma            319795 non-null  object \n",
      " 16  KidneyDisease     319795 non-null  object \n",
      " 17  SkinCancer        319795 non-null  object \n",
      "dtypes: float64(4), object(14)\n",
      "memory usage: 43.9+ MB\n"
     ]
    }
   ],
   "source": [
    "df.info()"
   ]
  },
  {
   "cell_type": "code",
   "execution_count": 8,
   "id": "5c26f76e",
   "metadata": {},
   "outputs": [
    {
     "data": {
      "text/plain": [
       "(319795, 18)"
      ]
     },
     "execution_count": 8,
     "metadata": {},
     "output_type": "execute_result"
    }
   ],
   "source": [
    "df.shape"
   ]
  },
  {
   "cell_type": "code",
   "execution_count": 9,
   "id": "76121c1f",
   "metadata": {},
   "outputs": [
    {
     "data": {
      "text/plain": [
       "HeartDisease        0\n",
       "BMI                 0\n",
       "Smoking             0\n",
       "AlcoholDrinking     0\n",
       "Stroke              0\n",
       "PhysicalHealth      0\n",
       "MentalHealth        0\n",
       "DiffWalking         0\n",
       "Sex                 0\n",
       "AgeCategory         0\n",
       "Race                0\n",
       "Diabetic            0\n",
       "PhysicalActivity    0\n",
       "GenHealth           0\n",
       "SleepTime           0\n",
       "Asthma              0\n",
       "KidneyDisease       0\n",
       "SkinCancer          0\n",
       "dtype: int64"
      ]
     },
     "execution_count": 9,
     "metadata": {},
     "output_type": "execute_result"
    }
   ],
   "source": [
    "df.isnull().sum()"
   ]
  },
  {
   "cell_type": "code",
   "execution_count": 10,
   "id": "00651664",
   "metadata": {},
   "outputs": [
    {
     "data": {
      "text/plain": [
       "18078"
      ]
     },
     "execution_count": 10,
     "metadata": {},
     "output_type": "execute_result"
    }
   ],
   "source": [
    "df.duplicated().sum()"
   ]
  },
  {
   "cell_type": "code",
   "execution_count": 11,
   "id": "b5c0b9a2",
   "metadata": {},
   "outputs": [],
   "source": [
    "df.drop_duplicates(keep= 'first' , inplace= True)"
   ]
  },
  {
   "cell_type": "code",
   "execution_count": 12,
   "id": "383724d8",
   "metadata": {},
   "outputs": [
    {
     "data": {
      "text/plain": [
       "0"
      ]
     },
     "execution_count": 12,
     "metadata": {},
     "output_type": "execute_result"
    }
   ],
   "source": [
    "df.duplicated().sum()"
   ]
  },
  {
   "cell_type": "code",
   "execution_count": 13,
   "id": "20645e7a",
   "metadata": {},
   "outputs": [
    {
     "data": {
      "text/plain": [
       "(301717, 18)"
      ]
     },
     "execution_count": 13,
     "metadata": {},
     "output_type": "execute_result"
    }
   ],
   "source": [
    "df.shape"
   ]
  },
  {
   "cell_type": "code",
   "execution_count": 14,
   "id": "d56d9f96",
   "metadata": {},
   "outputs": [
    {
     "data": {
      "text/plain": [
       "No                         251796\n",
       "Yes                         40589\n",
       "No, borderline diabetes      6776\n",
       "Yes (during pregnancy)       2556\n",
       "Name: Diabetic, dtype: int64"
      ]
     },
     "execution_count": 14,
     "metadata": {},
     "output_type": "execute_result"
    }
   ],
   "source": [
    "df[\"Diabetic\"].value_counts()"
   ]
  },
  {
   "cell_type": "code",
   "execution_count": 15,
   "id": "f1977567",
   "metadata": {},
   "outputs": [],
   "source": [
    "#replacing \"No, borderline diabetes\" with \"No\" and \"Yes (during pregnancy)\"\" with \"Yes\"\n",
    "\n",
    "df[\"Diabetic\"].replace({\"No, borderline diabetes\": \"No\",\"Yes (during pregnancy)\": \"Yes\" }, inplace=True)"
   ]
  },
  {
   "cell_type": "code",
   "execution_count": 16,
   "id": "528e3096",
   "metadata": {},
   "outputs": [
    {
     "data": {
      "text/plain": [
       "No     258572\n",
       "Yes     43145\n",
       "Name: Diabetic, dtype: int64"
      ]
     },
     "execution_count": 16,
     "metadata": {},
     "output_type": "execute_result"
    }
   ],
   "source": [
    "df[\"Diabetic\"].value_counts()"
   ]
  },
  {
   "cell_type": "code",
   "execution_count": 17,
   "id": "5beaf347",
   "metadata": {},
   "outputs": [
    {
     "data": {
      "text/plain": [
       "(301717, 18)"
      ]
     },
     "execution_count": 17,
     "metadata": {},
     "output_type": "execute_result"
    }
   ],
   "source": [
    "df.shape"
   ]
  },
  {
   "cell_type": "code",
   "execution_count": 18,
   "id": "ef749a44",
   "metadata": {},
   "outputs": [
    {
     "data": {
      "text/plain": [
       "Index(['HeartDisease', 'BMI', 'Smoking', 'AlcoholDrinking', 'Stroke',\n",
       "       'PhysicalHealth', 'MentalHealth', 'DiffWalking', 'Sex', 'AgeCategory',\n",
       "       'Race', 'Diabetic', 'PhysicalActivity', 'GenHealth', 'SleepTime',\n",
       "       'Asthma', 'KidneyDisease', 'SkinCancer'],\n",
       "      dtype='object')"
      ]
     },
     "execution_count": 18,
     "metadata": {},
     "output_type": "execute_result"
    }
   ],
   "source": [
    "df.columns"
   ]
  },
  {
   "cell_type": "code",
   "execution_count": 19,
   "id": "8df3254b",
   "metadata": {},
   "outputs": [],
   "source": [
    "num_cols= [\"BMI\", \"PhysicalHealth\", 'MentalHealth', 'SleepTime']"
   ]
  },
  {
   "cell_type": "code",
   "execution_count": 20,
   "id": "9e4c2e74",
   "metadata": {},
   "outputs": [
    {
     "data": {
      "text/plain": [
       "4"
      ]
     },
     "execution_count": 20,
     "metadata": {},
     "output_type": "execute_result"
    }
   ],
   "source": [
    "len(num_cols)"
   ]
  },
  {
   "cell_type": "code",
   "execution_count": 21,
   "id": "4688c05b",
   "metadata": {},
   "outputs": [],
   "source": [
    "cat_cols= ['Smoking', 'AlcoholDrinking', 'Stroke',\n",
    "         'DiffWalking', 'Sex', 'AgeCategory',\n",
    "       'Race', 'Diabetic', 'PhysicalActivity', 'GenHealth', \n",
    "       'Asthma', 'KidneyDisease', 'SkinCancer']"
   ]
  },
  {
   "cell_type": "code",
   "execution_count": 22,
   "id": "5118e81c",
   "metadata": {},
   "outputs": [
    {
     "data": {
      "text/plain": [
       "13"
      ]
     },
     "execution_count": 22,
     "metadata": {},
     "output_type": "execute_result"
    }
   ],
   "source": [
    "len(cat_cols)"
   ]
  },
  {
   "cell_type": "code",
   "execution_count": 23,
   "id": "34ac3a27",
   "metadata": {},
   "outputs": [
    {
     "name": "stdout",
     "output_type": "stream",
     "text": [
      "Smoking : 2\n",
      "AlcoholDrinking : 2\n",
      "Stroke : 2\n",
      "DiffWalking : 2\n",
      "Sex : 2\n",
      "AgeCategory : 13\n",
      "Race : 6\n",
      "Diabetic : 2\n",
      "PhysicalActivity : 2\n",
      "GenHealth : 5\n",
      "Asthma : 2\n",
      "KidneyDisease : 2\n",
      "SkinCancer : 2\n"
     ]
    }
   ],
   "source": [
    "# Checking no: of sub-categories for each categorical columns\n",
    "for i in cat_cols:\n",
    "    print(i,\":\",df[i].nunique())\n",
    "\n"
   ]
  },
  {
   "cell_type": "markdown",
   "id": "19629e70",
   "metadata": {},
   "source": [
    "### Result: AgeCategory is having the highest number of sub-categories (13)"
   ]
  },
  {
   "cell_type": "code",
   "execution_count": null,
   "id": "3719f6db",
   "metadata": {},
   "outputs": [],
   "source": []
  },
  {
   "cell_type": "code",
   "execution_count": 24,
   "id": "f833e1f5",
   "metadata": {},
   "outputs": [
    {
     "data": {
      "text/plain": [
       "65-69          31670\n",
       "60-64          31219\n",
       "70-74          29273\n",
       "55-59          27610\n",
       "50-54          23736\n",
       "80 or older    23352\n",
       "75-79          20713\n",
       "45-49          20518\n",
       "18-24          19998\n",
       "40-44          19837\n",
       "35-39          19526\n",
       "30-34          17953\n",
       "25-29          16312\n",
       "Name: AgeCategory, dtype: int64"
      ]
     },
     "execution_count": 24,
     "metadata": {},
     "output_type": "execute_result"
    }
   ],
   "source": [
    "df[\"AgeCategory\"].value_counts()"
   ]
  },
  {
   "cell_type": "code",
   "execution_count": 25,
   "id": "3d6daecc",
   "metadata": {},
   "outputs": [],
   "source": [
    "# combining sub-categories in Age category\n",
    "\n",
    "df[\"AgeCategory\"].replace({\"18-24\": \"18-29\", \"25-29\" : \"18-29\" ,\n",
    "                         \"30-34\": \"30-39\", \"35-39\": \"30-39\",\n",
    "                         \"40-44\": \"40-49\", \"45-49\": \"40-49\", \n",
    "                         \"50-54\": \"50-59\", \"55-59\": \"50-59\",\n",
    "                          \"60-64\": \"60-69\", \"65-69\": \"60-69\", \n",
    "                          \"70-74\": \"70-79\", \"75-79\": \"70-79\"}, inplace=True)"
   ]
  },
  {
   "cell_type": "code",
   "execution_count": 26,
   "id": "14f8994f",
   "metadata": {},
   "outputs": [
    {
     "data": {
      "text/plain": [
       "60-69          62889\n",
       "50-59          51346\n",
       "70-79          49986\n",
       "40-49          40355\n",
       "30-39          37479\n",
       "18-29          36310\n",
       "80 or older    23352\n",
       "Name: AgeCategory, dtype: int64"
      ]
     },
     "execution_count": 26,
     "metadata": {},
     "output_type": "execute_result"
    }
   ],
   "source": [
    "df[\"AgeCategory\"].value_counts()"
   ]
  },
  {
   "cell_type": "code",
   "execution_count": null,
   "id": "18b967ff",
   "metadata": {},
   "outputs": [],
   "source": []
  },
  {
   "cell_type": "code",
   "execution_count": 27,
   "id": "bf28c5f7",
   "metadata": {},
   "outputs": [
    {
     "data": {
      "image/png": "[encoded data removed]",
      "text/plain": [
       "<Figure size 1296x6120 with 13 Axes>"
      ]
     },
     "metadata": {
      "needs_background": "light"
     },
     "output_type": "display_data"
    }
   ],
   "source": [
    "# Countplot for categorical variables\n",
    "\n",
    "plt.figure(figsize=(18,85))\n",
    "plot_num=1\n",
    "for i in cat_cols:\n",
    "    ax=plt.subplot(12,3,plot_num)\n",
    "    sns.countplot(x=i,data=df)\n",
    "    plt.xticks(rotation=45)\n",
    "    plot_num+=1\n",
    "plt.show()\n"
   ]
  },
  {
   "cell_type": "markdown",
   "id": "2f84467b",
   "metadata": {},
   "source": [
    "## Observations: \n",
    "\n",
    "- Non-smoking test subjects are slightly more\n",
    "- Non-Alcohol drinking test subjects are very high\n",
    "- Test subjects with no stroke are very high\n",
    "- Test subjects with no difficulty in walking are very high\n",
    "- White test subjects are dominating in the sample\n",
    "- Test subjects with no diabetics are dominating\n",
    "- Test subjects with no asthma are dominating\n",
    "- Test subjects with no kidney disease are dominating\n",
    "- Test subjects with no skin cancer are dominating"
   ]
  },
  {
   "cell_type": "code",
   "execution_count": null,
   "id": "a03c37c4",
   "metadata": {},
   "outputs": [],
   "source": []
  },
  {
   "cell_type": "code",
   "execution_count": 28,
   "id": "e0741819",
   "metadata": {},
   "outputs": [
    {
     "data": {
      "image/png": "[encoded data removed]",
      "text/plain": [
       "<Figure size 1080x6120 with 4 Axes>"
      ]
     },
     "metadata": {
      "needs_background": "light"
     },
     "output_type": "display_data"
    }
   ],
   "source": [
    "# Distplot for Numerical variables\n",
    "plt.figure(figsize=(15,85))\n",
    "plot_num=1\n",
    "for i in num_cols:\n",
    "    ax=plt.subplot(12,3,plot_num)\n",
    "    sns.distplot(df[i])\n",
    "    plot_num+=1\n",
    "plt.show()\n"
   ]
  },
  {
   "cell_type": "code",
   "execution_count": null,
   "id": "786e0bbe",
   "metadata": {},
   "outputs": [],
   "source": []
  },
  {
   "cell_type": "code",
   "execution_count": 29,
   "id": "da08da26",
   "metadata": {},
   "outputs": [
    {
     "data": {
      "image/png": "[encoded data removed]",
      "text/plain": [
       "<Figure size 1080x6120 with 4 Axes>"
      ]
     },
     "metadata": {
      "needs_background": "light"
     },
     "output_type": "display_data"
    }
   ],
   "source": [
    "# Plotting boxplot of features with respect to target variable.\n",
    "plt.figure(figsize=(15,85))\n",
    "plot_num=1\n",
    "for i in num_cols:\n",
    "    ax=plt.subplot(12,3,plot_num)\n",
    "    sns.boxplot(x='HeartDisease',y=df[i],data=df)\n",
    "    plt.xlabel(i)\n",
    "    plot_num+=1\n",
    "plt.show()\n"
   ]
  },
  {
   "cell_type": "code",
   "execution_count": 30,
   "id": "27601acf",
   "metadata": {},
   "outputs": [
    {
     "data": {
      "image/png": "[encoded data removed]",
      "text/plain": [
       "<Figure size 1080x6120 with 4 Axes>"
      ]
     },
     "metadata": {
      "needs_background": "light"
     },
     "output_type": "display_data"
    }
   ],
   "source": [
    "# Boxplot for outliers\n",
    "\n",
    "plt.figure(figsize=(15,85))\n",
    "plot_num=1\n",
    "for i in num_cols:\n",
    "    ax=plt.subplot(12,3,plot_num)\n",
    "    sns.boxplot(df[i])\n",
    "    plt.xlabel(i)\n",
    "    plot_num+=1\n",
    "plt.show()\n",
    "\n"
   ]
  },
  {
   "cell_type": "code",
   "execution_count": null,
   "id": "6582ce59",
   "metadata": {},
   "outputs": [],
   "source": []
  },
  {
   "cell_type": "code",
   "execution_count": 31,
   "id": "a82e0003",
   "metadata": {},
   "outputs": [],
   "source": [
    "df_num = df[[\"BMI\", \"PhysicalHealth\", 'MentalHealth', 'SleepTime']]"
   ]
  },
  {
   "cell_type": "code",
   "execution_count": 32,
   "id": "0e22c5a9",
   "metadata": {},
   "outputs": [
    {
     "data": {
      "image/png": "[encoded data removed]",
      "text/plain": [
       "<Figure size 864x432 with 2 Axes>"
      ]
     },
     "metadata": {
      "needs_background": "light"
     },
     "output_type": "display_data"
    }
   ],
   "source": [
    "# Plotting heatmap to see the correlation among numerical variables\n",
    "plt.figure(figsize=(12,6))\n",
    "sns.heatmap(df_num.corr(),annot=True)\n",
    "plt.xticks(rotation=25)\n",
    "plt.show()\n"
   ]
  },
  {
   "cell_type": "markdown",
   "id": "b48c21c0",
   "metadata": {},
   "source": [
    "## Observations: \n",
    "\n",
    "- Positive correlation between Physical Health & Mental Health (0.28)\n",
    "- Weak negative correlation between Mental Health & Sleep Time (-0.12)"
   ]
  },
  {
   "cell_type": "code",
   "execution_count": null,
   "id": "7c86a70e",
   "metadata": {},
   "outputs": [],
   "source": []
  },
  {
   "cell_type": "code",
   "execution_count": 33,
   "id": "ebc2748c",
   "metadata": {},
   "outputs": [],
   "source": [
    "## Plotting Heart Disease (Target) Category"
   ]
  },
  {
   "cell_type": "code",
   "execution_count": 34,
   "id": "d50fdbfa",
   "metadata": {},
   "outputs": [
    {
     "data": {
      "text/plain": [
       "No     274456\n",
       "Yes     27261\n",
       "Name: HeartDisease, dtype: int64"
      ]
     },
     "execution_count": 34,
     "metadata": {},
     "output_type": "execute_result"
    }
   ],
   "source": [
    "df[\"HeartDisease\"].value_counts()"
   ]
  },
  {
   "cell_type": "code",
   "execution_count": 35,
   "id": "2f76b095",
   "metadata": {},
   "outputs": [
    {
     "data": {
      "text/plain": [
       "9.04"
      ]
     },
     "execution_count": 35,
     "metadata": {},
     "output_type": "execute_result"
    }
   ],
   "source": [
    "# Percentage of subjects with Heart Disease\n",
    "\n",
    "hrt_yes= round((df['HeartDisease'].value_counts()[1]/df.shape[0])*100,2)\n",
    "hrt_yes"
   ]
  },
  {
   "cell_type": "code",
   "execution_count": 36,
   "id": "a3254344",
   "metadata": {},
   "outputs": [
    {
     "data": {
      "text/plain": [
       "<AxesSubplot:xlabel='HeartDisease', ylabel='count'>"
      ]
     },
     "execution_count": 36,
     "metadata": {},
     "output_type": "execute_result"
    },
    {
     "data": {
      "image/png": "[encoded data removed]",
      "text/plain": [
       "<Figure size 432x288 with 1 Axes>"
      ]
     },
     "metadata": {
      "needs_background": "light"
     },
     "output_type": "display_data"
    }
   ],
   "source": [
    "sns.countplot(x=\"HeartDisease\", data=df)"
   ]
  },
  {
   "cell_type": "markdown",
   "id": "ad4028f6",
   "metadata": {},
   "source": [
    "## Result: Heart Disease (Target) is imbalanced"
   ]
  },
  {
   "cell_type": "code",
   "execution_count": null,
   "id": "f63815c2",
   "metadata": {},
   "outputs": [],
   "source": []
  },
  {
   "cell_type": "code",
   "execution_count": 37,
   "id": "fe2174e4",
   "metadata": {},
   "outputs": [],
   "source": [
    "df['HeartDisease'].replace({\"Yes\":1, \"No\":0}, inplace= True)"
   ]
  },
  {
   "cell_type": "code",
   "execution_count": 38,
   "id": "0ac300d2",
   "metadata": {},
   "outputs": [
    {
     "data": {
      "text/plain": [
       "0    274456\n",
       "1     27261\n",
       "Name: HeartDisease, dtype: int64"
      ]
     },
     "execution_count": 38,
     "metadata": {},
     "output_type": "execute_result"
    }
   ],
   "source": [
    "df['HeartDisease'].value_counts()"
   ]
  },
  {
   "cell_type": "code",
   "execution_count": 39,
   "id": "107a0bed",
   "metadata": {},
   "outputs": [
    {
     "data": {
      "text/plain": [
       "(27261, 18)"
      ]
     },
     "execution_count": 39,
     "metadata": {},
     "output_type": "execute_result"
    }
   ],
   "source": [
    "hrt_yes= df[df['HeartDisease']==1]\n",
    "hrt_yes.shape\n"
   ]
  },
  {
   "cell_type": "code",
   "execution_count": null,
   "id": "4c859c24",
   "metadata": {},
   "outputs": [],
   "source": []
  },
  {
   "cell_type": "markdown",
   "id": "f54a0260",
   "metadata": {},
   "source": [
    "## Statistical Tests"
   ]
  },
  {
   "cell_type": "code",
   "execution_count": null,
   "id": "82e77014",
   "metadata": {},
   "outputs": [],
   "source": []
  },
  {
   "cell_type": "markdown",
   "id": "e6953a3f",
   "metadata": {},
   "source": [
    "## 1) Plotting Smoking count plot among heart disease subjects"
   ]
  },
  {
   "cell_type": "code",
   "execution_count": 40,
   "id": "271f9545",
   "metadata": {},
   "outputs": [
    {
     "data": {
      "text/plain": [
       "<AxesSubplot:xlabel='Smoking', ylabel='count'>"
      ]
     },
     "execution_count": 40,
     "metadata": {},
     "output_type": "execute_result"
    },
    {
     "data": {
      "image/png": "[encoded data removed]",
      "text/plain": [
       "<Figure size 432x288 with 1 Axes>"
      ]
     },
     "metadata": {
      "needs_background": "light"
     },
     "output_type": "display_data"
    }
   ],
   "source": [
    "sns.countplot(x=\"Smoking\", data=hrt_yes)"
   ]
  },
  {
   "cell_type": "code",
   "execution_count": 41,
   "id": "e18ae183",
   "metadata": {},
   "outputs": [
    {
     "data": {
      "text/plain": [
       "Yes    15977\n",
       "No     11284\n",
       "Name: Smoking, dtype: int64"
      ]
     },
     "execution_count": 41,
     "metadata": {},
     "output_type": "execute_result"
    }
   ],
   "source": [
    "hrt_yes[\"Smoking\"].value_counts()"
   ]
  },
  {
   "cell_type": "markdown",
   "id": "1ea4e230",
   "metadata": {},
   "source": [
    "## From the graph, subjects who smoke are more among heart disease cases"
   ]
  },
  {
   "cell_type": "code",
   "execution_count": null,
   "id": "de2d8217",
   "metadata": {},
   "outputs": [],
   "source": []
  },
  {
   "cell_type": "markdown",
   "id": "2f526e19",
   "metadata": {},
   "source": [
    "## Hypothesis Test\n",
    "\n",
    "- Test whether the heart disease proportion is higher for smoking case\n",
    "\n",
    "## One Sample Test of proportion @ 5% significance level\n",
    "\n",
    "- H0: Heart Disease Proportion of P_Smoking <= 0.5\n",
    "\n",
    "- H1: Heart Disease Proportion of P_Smoking > 0.5\n",
    "\n"
   ]
  },
  {
   "cell_type": "code",
   "execution_count": 42,
   "id": "4489ebf1",
   "metadata": {},
   "outputs": [
    {
     "data": {
      "text/html": [
       "<div>\n",
       "<style scoped>\n",
       "    .dataframe tbody tr th:only-of-type {\n",
       "        vertical-align: middle;\n",
       "    }\n",
       "\n",
       "    .dataframe tbody tr th {\n",
       "        vertical-align: top;\n",
       "    }\n",
       "\n",
       "    .dataframe thead th {\n",
       "        text-align: right;\n",
       "    }\n",
       "</style>\n",
       "<table border=\"1\" class=\"dataframe\">\n",
       "  <thead>\n",
       "    <tr style=\"text-align: right;\">\n",
       "      <th>HeartDisease</th>\n",
       "      <th>0</th>\n",
       "      <th>1</th>\n",
       "      <th>All</th>\n",
       "    </tr>\n",
       "    <tr>\n",
       "      <th>Smoking</th>\n",
       "      <th></th>\n",
       "      <th></th>\n",
       "      <th></th>\n",
       "    </tr>\n",
       "  </thead>\n",
       "  <tbody>\n",
       "    <tr>\n",
       "      <th>No</th>\n",
       "      <td>163028</td>\n",
       "      <td>11284</td>\n",
       "      <td>174312</td>\n",
       "    </tr>\n",
       "    <tr>\n",
       "      <th>Yes</th>\n",
       "      <td>111428</td>\n",
       "      <td>15977</td>\n",
       "      <td>127405</td>\n",
       "    </tr>\n",
       "    <tr>\n",
       "      <th>All</th>\n",
       "      <td>274456</td>\n",
       "      <td>27261</td>\n",
       "      <td>301717</td>\n",
       "    </tr>\n",
       "  </tbody>\n",
       "</table>\n",
       "</div>"
      ],
      "text/plain": [
       "HeartDisease       0      1     All\n",
       "Smoking                            \n",
       "No            163028  11284  174312\n",
       "Yes           111428  15977  127405\n",
       "All           274456  27261  301717"
      ]
     },
     "execution_count": 42,
     "metadata": {},
     "output_type": "execute_result"
    }
   ],
   "source": [
    "pd.crosstab(df.Smoking,df.HeartDisease,margins=True)"
   ]
  },
  {
   "cell_type": "code",
   "execution_count": 43,
   "id": "093fc020",
   "metadata": {},
   "outputs": [],
   "source": [
    "P=0.5\n",
    "x= 15977\n",
    "n= 27261"
   ]
  },
  {
   "cell_type": "code",
   "execution_count": 44,
   "id": "c66b6429",
   "metadata": {},
   "outputs": [
    {
     "data": {
      "text/plain": [
       "(28.85441631768778, 2.2300018239258836e-183)"
      ]
     },
     "execution_count": 44,
     "metadata": {},
     "output_type": "execute_result"
    }
   ],
   "source": [
    "proportions_ztest(x,n,0.5,alternative='larger')"
   ]
  },
  {
   "cell_type": "markdown",
   "id": "4e227dfb",
   "metadata": {},
   "source": [
    "## Since p value < alpha(0.05) --> reject H0\n",
    "## We can conclude that Heart Disease proportion of smoking cases is higher than Non smoking"
   ]
  },
  {
   "cell_type": "code",
   "execution_count": null,
   "id": "b483bced",
   "metadata": {},
   "outputs": [],
   "source": []
  },
  {
   "cell_type": "code",
   "execution_count": null,
   "id": "cfed892a",
   "metadata": {},
   "outputs": [],
   "source": []
  },
  {
   "cell_type": "markdown",
   "id": "46d1e3b3",
   "metadata": {},
   "source": [
    "## 2) Plotting Stroke count plot among heart disease subjects"
   ]
  },
  {
   "cell_type": "code",
   "execution_count": 45,
   "id": "9ea3405b",
   "metadata": {},
   "outputs": [
    {
     "data": {
      "text/plain": [
       "<AxesSubplot:xlabel='Stroke', ylabel='count'>"
      ]
     },
     "execution_count": 45,
     "metadata": {},
     "output_type": "execute_result"
    },
    {
     "data": {
      "image/png": "[encoded data removed]",
      "text/plain": [
       "<Figure size 432x288 with 1 Axes>"
      ]
     },
     "metadata": {
      "needs_background": "light"
     },
     "output_type": "display_data"
    }
   ],
   "source": [
    "sns.countplot(x=\"Stroke\", data=hrt_yes)"
   ]
  },
  {
   "cell_type": "code",
   "execution_count": 46,
   "id": "3e0732a7",
   "metadata": {},
   "outputs": [
    {
     "data": {
      "text/plain": [
       "No     83.900077\n",
       "Yes    16.099923\n",
       "Name: Stroke, dtype: float64"
      ]
     },
     "execution_count": 46,
     "metadata": {},
     "output_type": "execute_result"
    }
   ],
   "source": [
    "hrt_yes[\"Stroke\"].value_counts(normalize=True)*100"
   ]
  },
  {
   "cell_type": "markdown",
   "id": "f3954371",
   "metadata": {},
   "source": [
    "## From the graph, subjects who had stroke are less among heart disease cases"
   ]
  },
  {
   "cell_type": "code",
   "execution_count": null,
   "id": "8d2c1dd9",
   "metadata": {},
   "outputs": [],
   "source": []
  },
  {
   "cell_type": "markdown",
   "id": "952fa2cc",
   "metadata": {},
   "source": [
    "## Hypothesis Test\n",
    "\n",
    "- Test whether the heart disease proportion is lower for stroke cases\n",
    "\n",
    "## One Sample Test of proportion @ 5% significance level\n",
    "\n",
    "- H0: Heart Disease Proportion of P_Stroke >= 0.5\n",
    "\n",
    "- H1: Heart Disease Proportion of P_Stroke < 0.5\n",
    "\n"
   ]
  },
  {
   "cell_type": "code",
   "execution_count": 47,
   "id": "ce4142ac",
   "metadata": {},
   "outputs": [
    {
     "data": {
      "text/html": [
       "<div>\n",
       "<style scoped>\n",
       "    .dataframe tbody tr th:only-of-type {\n",
       "        vertical-align: middle;\n",
       "    }\n",
       "\n",
       "    .dataframe tbody tr th {\n",
       "        vertical-align: top;\n",
       "    }\n",
       "\n",
       "    .dataframe thead th {\n",
       "        text-align: right;\n",
       "    }\n",
       "</style>\n",
       "<table border=\"1\" class=\"dataframe\">\n",
       "  <thead>\n",
       "    <tr style=\"text-align: right;\">\n",
       "      <th>HeartDisease</th>\n",
       "      <th>0</th>\n",
       "      <th>1</th>\n",
       "      <th>All</th>\n",
       "    </tr>\n",
       "    <tr>\n",
       "      <th>Stroke</th>\n",
       "      <th></th>\n",
       "      <th></th>\n",
       "      <th></th>\n",
       "    </tr>\n",
       "  </thead>\n",
       "  <tbody>\n",
       "    <tr>\n",
       "      <th>No</th>\n",
       "      <td>266781</td>\n",
       "      <td>22872</td>\n",
       "      <td>289653</td>\n",
       "    </tr>\n",
       "    <tr>\n",
       "      <th>Yes</th>\n",
       "      <td>7675</td>\n",
       "      <td>4389</td>\n",
       "      <td>12064</td>\n",
       "    </tr>\n",
       "    <tr>\n",
       "      <th>All</th>\n",
       "      <td>274456</td>\n",
       "      <td>27261</td>\n",
       "      <td>301717</td>\n",
       "    </tr>\n",
       "  </tbody>\n",
       "</table>\n",
       "</div>"
      ],
      "text/plain": [
       "HeartDisease       0      1     All\n",
       "Stroke                             \n",
       "No            266781  22872  289653\n",
       "Yes             7675   4389   12064\n",
       "All           274456  27261  301717"
      ]
     },
     "execution_count": 47,
     "metadata": {},
     "output_type": "execute_result"
    }
   ],
   "source": [
    "pd.crosstab(df.Stroke,df.HeartDisease,margins=True)"
   ]
  },
  {
   "cell_type": "code",
   "execution_count": 48,
   "id": "d8b4bf3c",
   "metadata": {},
   "outputs": [],
   "source": [
    "P=0.5\n",
    "x= 4389\n",
    "n= 27261"
   ]
  },
  {
   "cell_type": "code",
   "execution_count": 49,
   "id": "a5a4e329",
   "metadata": {},
   "outputs": [
    {
     "data": {
      "text/plain": [
       "(-152.29249355529922, 0.0)"
      ]
     },
     "execution_count": 49,
     "metadata": {},
     "output_type": "execute_result"
    }
   ],
   "source": [
    "proportions_ztest(x,n,0.5,alternative='smaller')"
   ]
  },
  {
   "cell_type": "markdown",
   "id": "bf1cf102",
   "metadata": {},
   "source": [
    "## Since p value < alpha(0.05) --> reject H0\n",
    "## We can conclude that Heart Disease proportion of stroke cases is lower "
   ]
  },
  {
   "cell_type": "code",
   "execution_count": null,
   "id": "85198e16",
   "metadata": {},
   "outputs": [],
   "source": []
  },
  {
   "cell_type": "code",
   "execution_count": null,
   "id": "3d890aa0",
   "metadata": {},
   "outputs": [],
   "source": []
  },
  {
   "cell_type": "markdown",
   "id": "b0d5426d",
   "metadata": {},
   "source": [
    "## 3) Plotting DiffWalking count plot among heart disease subjects"
   ]
  },
  {
   "cell_type": "code",
   "execution_count": 50,
   "id": "d392ea95",
   "metadata": {},
   "outputs": [
    {
     "data": {
      "text/plain": [
       "<AxesSubplot:xlabel='DiffWalking', ylabel='count'>"
      ]
     },
     "execution_count": 50,
     "metadata": {},
     "output_type": "execute_result"
    },
    {
     "data": {
      "image/png": "[encoded data removed]",
      "text/plain": [
       "<Figure size 432x288 with 1 Axes>"
      ]
     },
     "metadata": {
      "needs_background": "light"
     },
     "output_type": "display_data"
    }
   ],
   "source": [
    "sns.countplot(x=\"DiffWalking\", data=hrt_yes)"
   ]
  },
  {
   "cell_type": "code",
   "execution_count": 51,
   "id": "545342e5",
   "metadata": {},
   "outputs": [
    {
     "data": {
      "text/plain": [
       "No     63.229522\n",
       "Yes    36.770478\n",
       "Name: DiffWalking, dtype: float64"
      ]
     },
     "execution_count": 51,
     "metadata": {},
     "output_type": "execute_result"
    }
   ],
   "source": [
    "hrt_yes[\"DiffWalking\"].value_counts(normalize=True)*100"
   ]
  },
  {
   "cell_type": "markdown",
   "id": "f279f8e5",
   "metadata": {},
   "source": [
    "## From the graph, subjects who had DiffWalking are less among heart disease cases"
   ]
  },
  {
   "cell_type": "code",
   "execution_count": null,
   "id": "886a7033",
   "metadata": {},
   "outputs": [],
   "source": []
  },
  {
   "cell_type": "markdown",
   "id": "19c2cd34",
   "metadata": {},
   "source": [
    "## Hypothesis Test\n",
    "\n",
    "- Test whether the heart disease proportion is lower for DiffWalking cases\n",
    "\n",
    "## One Sample Test of proportion @ 5% significance level\n",
    "\n",
    "- H0: Heart Disease Proportion of P_DiffWalking >= 0.5\n",
    "\n",
    "- H1: Heart Disease Proportion of P_DiffWalking < 0.5\n",
    "\n"
   ]
  },
  {
   "cell_type": "code",
   "execution_count": 52,
   "id": "29a13d27",
   "metadata": {},
   "outputs": [
    {
     "data": {
      "text/html": [
       "<div>\n",
       "<style scoped>\n",
       "    .dataframe tbody tr th:only-of-type {\n",
       "        vertical-align: middle;\n",
       "    }\n",
       "\n",
       "    .dataframe tbody tr th {\n",
       "        vertical-align: top;\n",
       "    }\n",
       "\n",
       "    .dataframe thead th {\n",
       "        text-align: right;\n",
       "    }\n",
       "</style>\n",
       "<table border=\"1\" class=\"dataframe\">\n",
       "  <thead>\n",
       "    <tr style=\"text-align: right;\">\n",
       "      <th>HeartDisease</th>\n",
       "      <th>0</th>\n",
       "      <th>1</th>\n",
       "      <th>All</th>\n",
       "    </tr>\n",
       "    <tr>\n",
       "      <th>DiffWalking</th>\n",
       "      <th></th>\n",
       "      <th></th>\n",
       "      <th></th>\n",
       "    </tr>\n",
       "  </thead>\n",
       "  <tbody>\n",
       "    <tr>\n",
       "      <th>No</th>\n",
       "      <td>240125</td>\n",
       "      <td>17237</td>\n",
       "      <td>257362</td>\n",
       "    </tr>\n",
       "    <tr>\n",
       "      <th>Yes</th>\n",
       "      <td>34331</td>\n",
       "      <td>10024</td>\n",
       "      <td>44355</td>\n",
       "    </tr>\n",
       "    <tr>\n",
       "      <th>All</th>\n",
       "      <td>274456</td>\n",
       "      <td>27261</td>\n",
       "      <td>301717</td>\n",
       "    </tr>\n",
       "  </tbody>\n",
       "</table>\n",
       "</div>"
      ],
      "text/plain": [
       "HeartDisease       0      1     All\n",
       "DiffWalking                        \n",
       "No            240125  17237  257362\n",
       "Yes            34331  10024   44355\n",
       "All           274456  27261  301717"
      ]
     },
     "execution_count": 52,
     "metadata": {},
     "output_type": "execute_result"
    }
   ],
   "source": [
    "pd.crosstab(df.DiffWalking,df.HeartDisease,margins=True)"
   ]
  },
  {
   "cell_type": "code",
   "execution_count": 53,
   "id": "021e4120",
   "metadata": {},
   "outputs": [],
   "source": [
    "P=0.5\n",
    "x= 10024\n",
    "n= 27261"
   ]
  },
  {
   "cell_type": "code",
   "execution_count": 54,
   "id": "28b24c3b",
   "metadata": {},
   "outputs": [
    {
     "data": {
      "text/plain": [
       "(-45.30075686836355, 0.0)"
      ]
     },
     "execution_count": 54,
     "metadata": {},
     "output_type": "execute_result"
    }
   ],
   "source": [
    "proportions_ztest(x,n,0.5,alternative='smaller')"
   ]
  },
  {
   "cell_type": "markdown",
   "id": "7d72da73",
   "metadata": {},
   "source": [
    "## Since p value < alpha(0.05) --> reject H0\n",
    "## We can conclude that Heart Disease proportion of DiffWalking cases is lower "
   ]
  },
  {
   "cell_type": "code",
   "execution_count": null,
   "id": "9b39b290",
   "metadata": {},
   "outputs": [],
   "source": []
  },
  {
   "cell_type": "code",
   "execution_count": null,
   "id": "545466ac",
   "metadata": {},
   "outputs": [],
   "source": []
  },
  {
   "cell_type": "markdown",
   "id": "4977345f",
   "metadata": {},
   "source": [
    "## 4) Plotting Gender count plot among heart disease subjects"
   ]
  },
  {
   "cell_type": "code",
   "execution_count": 55,
   "id": "ed753ee7",
   "metadata": {},
   "outputs": [
    {
     "data": {
      "text/plain": [
       "<AxesSubplot:xlabel='Sex', ylabel='count'>"
      ]
     },
     "execution_count": 55,
     "metadata": {},
     "output_type": "execute_result"
    },
    {
     "data": {
      "image/png": "[encoded data removed]",
      "text/plain": [
       "<Figure size 432x288 with 1 Axes>"
      ]
     },
     "metadata": {
      "needs_background": "light"
     },
     "output_type": "display_data"
    }
   ],
   "source": [
    "sns.countplot(x=\"Sex\", data=hrt_yes)"
   ]
  },
  {
   "cell_type": "code",
   "execution_count": 56,
   "id": "5b14c356",
   "metadata": {},
   "outputs": [
    {
     "data": {
      "text/plain": [
       "Male      58.86798\n",
       "Female    41.13202\n",
       "Name: Sex, dtype: float64"
      ]
     },
     "execution_count": 56,
     "metadata": {},
     "output_type": "execute_result"
    }
   ],
   "source": [
    "hrt_yes[\"Sex\"].value_counts(normalize=True)*100"
   ]
  },
  {
   "cell_type": "markdown",
   "id": "0e827a04",
   "metadata": {},
   "source": [
    "## From the graph, female subjects are less among heart disease cases"
   ]
  },
  {
   "cell_type": "code",
   "execution_count": null,
   "id": "deeaaee0",
   "metadata": {},
   "outputs": [],
   "source": []
  },
  {
   "cell_type": "markdown",
   "id": "f10eb538",
   "metadata": {},
   "source": [
    "## Hypothesis Test\n",
    "\n",
    "- Test whether the heart disease proportion is lower for female case\n",
    "\n",
    "## One Sample Test of proportion @ 5% significance level\n",
    "\n",
    "- H0: Heart Disease Proportion of P_female >= 0.5\n",
    "\n",
    "- H1: Heart Disease Proportion of P_female < 0.5\n",
    "\n"
   ]
  },
  {
   "cell_type": "code",
   "execution_count": 57,
   "id": "690651a7",
   "metadata": {},
   "outputs": [
    {
     "data": {
      "text/html": [
       "<div>\n",
       "<style scoped>\n",
       "    .dataframe tbody tr th:only-of-type {\n",
       "        vertical-align: middle;\n",
       "    }\n",
       "\n",
       "    .dataframe tbody tr th {\n",
       "        vertical-align: top;\n",
       "    }\n",
       "\n",
       "    .dataframe thead th {\n",
       "        text-align: right;\n",
       "    }\n",
       "</style>\n",
       "<table border=\"1\" class=\"dataframe\">\n",
       "  <thead>\n",
       "    <tr style=\"text-align: right;\">\n",
       "      <th>HeartDisease</th>\n",
       "      <th>0</th>\n",
       "      <th>1</th>\n",
       "      <th>All</th>\n",
       "    </tr>\n",
       "    <tr>\n",
       "      <th>Sex</th>\n",
       "      <th></th>\n",
       "      <th></th>\n",
       "      <th></th>\n",
       "    </tr>\n",
       "  </thead>\n",
       "  <tbody>\n",
       "    <tr>\n",
       "      <th>Female</th>\n",
       "      <td>148458</td>\n",
       "      <td>11213</td>\n",
       "      <td>159671</td>\n",
       "    </tr>\n",
       "    <tr>\n",
       "      <th>Male</th>\n",
       "      <td>125998</td>\n",
       "      <td>16048</td>\n",
       "      <td>142046</td>\n",
       "    </tr>\n",
       "    <tr>\n",
       "      <th>All</th>\n",
       "      <td>274456</td>\n",
       "      <td>27261</td>\n",
       "      <td>301717</td>\n",
       "    </tr>\n",
       "  </tbody>\n",
       "</table>\n",
       "</div>"
      ],
      "text/plain": [
       "HeartDisease       0      1     All\n",
       "Sex                                \n",
       "Female        148458  11213  159671\n",
       "Male          125998  16048  142046\n",
       "All           274456  27261  301717"
      ]
     },
     "execution_count": 57,
     "metadata": {},
     "output_type": "execute_result"
    }
   ],
   "source": [
    "pd.crosstab(df.Sex,df.HeartDisease,margins=True)"
   ]
  },
  {
   "cell_type": "code",
   "execution_count": 58,
   "id": "593e775a",
   "metadata": {},
   "outputs": [],
   "source": [
    "P=0.5\n",
    "x= 11213\n",
    "n= 27261"
   ]
  },
  {
   "cell_type": "code",
   "execution_count": 59,
   "id": "eddd8aa4",
   "metadata": {},
   "outputs": [
    {
     "data": {
      "text/plain": [
       "(-29.755414551959824, 7.379232404310079e-195)"
      ]
     },
     "execution_count": 59,
     "metadata": {},
     "output_type": "execute_result"
    }
   ],
   "source": [
    "proportions_ztest(x,n,0.5,alternative='smaller')"
   ]
  },
  {
   "cell_type": "markdown",
   "id": "ba08bb51",
   "metadata": {},
   "source": [
    "## Since p value < alpha(0.05) --> reject H0\n",
    "## We can conclude that Heart Disease proportion of Female cases is lower "
   ]
  },
  {
   "cell_type": "code",
   "execution_count": null,
   "id": "00ff96de",
   "metadata": {},
   "outputs": [],
   "source": []
  },
  {
   "cell_type": "code",
   "execution_count": null,
   "id": "34812d1b",
   "metadata": {},
   "outputs": [],
   "source": []
  },
  {
   "cell_type": "markdown",
   "id": "af095969",
   "metadata": {},
   "source": [
    "## 5) Plotting Diabetic count plot among heart disease subjects"
   ]
  },
  {
   "cell_type": "code",
   "execution_count": 60,
   "id": "4415c311",
   "metadata": {},
   "outputs": [
    {
     "data": {
      "text/plain": [
       "<AxesSubplot:xlabel='Diabetic', ylabel='count'>"
      ]
     },
     "execution_count": 60,
     "metadata": {},
     "output_type": "execute_result"
    },
    {
     "data": {
      "image/png": "[encoded data removed]",
      "text/plain": [
       "<Figure size 432x288 with 1 Axes>"
      ]
     },
     "metadata": {
      "needs_background": "light"
     },
     "output_type": "display_data"
    }
   ],
   "source": [
    "sns.countplot(x=\"Diabetic\", data=hrt_yes)"
   ]
  },
  {
   "cell_type": "code",
   "execution_count": 61,
   "id": "691cacfd",
   "metadata": {},
   "outputs": [
    {
     "data": {
      "text/plain": [
       "No     66.780382\n",
       "Yes    33.219618\n",
       "Name: Diabetic, dtype: float64"
      ]
     },
     "execution_count": 61,
     "metadata": {},
     "output_type": "execute_result"
    }
   ],
   "source": [
    "hrt_yes[\"Diabetic\"].value_counts(normalize=True)*100"
   ]
  },
  {
   "cell_type": "markdown",
   "id": "ade1f14b",
   "metadata": {},
   "source": [
    "## From the graph, Diabetic subjects are less among heart disease cases"
   ]
  },
  {
   "cell_type": "code",
   "execution_count": null,
   "id": "ca61e5a2",
   "metadata": {},
   "outputs": [],
   "source": []
  },
  {
   "cell_type": "markdown",
   "id": "d8db3491",
   "metadata": {},
   "source": [
    "## Hypothesis Test\n",
    "\n",
    "- Test whether the heart disease proportion is lower for diabetic cases\n",
    "\n",
    "## One Sample Test of proportion @ 5% significance level\n",
    "\n",
    "- H0: Heart Disease Proportion of P_diabetic >= 0.5\n",
    "\n",
    "- H1: Heart Disease Proportion of P_diabetic < 0.5\n",
    "\n"
   ]
  },
  {
   "cell_type": "code",
   "execution_count": 62,
   "id": "9081b446",
   "metadata": {},
   "outputs": [
    {
     "data": {
      "text/html": [
       "<div>\n",
       "<style scoped>\n",
       "    .dataframe tbody tr th:only-of-type {\n",
       "        vertical-align: middle;\n",
       "    }\n",
       "\n",
       "    .dataframe tbody tr th {\n",
       "        vertical-align: top;\n",
       "    }\n",
       "\n",
       "    .dataframe thead th {\n",
       "        text-align: right;\n",
       "    }\n",
       "</style>\n",
       "<table border=\"1\" class=\"dataframe\">\n",
       "  <thead>\n",
       "    <tr style=\"text-align: right;\">\n",
       "      <th>HeartDisease</th>\n",
       "      <th>0</th>\n",
       "      <th>1</th>\n",
       "      <th>All</th>\n",
       "    </tr>\n",
       "    <tr>\n",
       "      <th>Diabetic</th>\n",
       "      <th></th>\n",
       "      <th></th>\n",
       "      <th></th>\n",
       "    </tr>\n",
       "  </thead>\n",
       "  <tbody>\n",
       "    <tr>\n",
       "      <th>No</th>\n",
       "      <td>240367</td>\n",
       "      <td>18205</td>\n",
       "      <td>258572</td>\n",
       "    </tr>\n",
       "    <tr>\n",
       "      <th>Yes</th>\n",
       "      <td>34089</td>\n",
       "      <td>9056</td>\n",
       "      <td>43145</td>\n",
       "    </tr>\n",
       "    <tr>\n",
       "      <th>All</th>\n",
       "      <td>274456</td>\n",
       "      <td>27261</td>\n",
       "      <td>301717</td>\n",
       "    </tr>\n",
       "  </tbody>\n",
       "</table>\n",
       "</div>"
      ],
      "text/plain": [
       "HeartDisease       0      1     All\n",
       "Diabetic                           \n",
       "No            240367  18205  258572\n",
       "Yes            34089   9056   43145\n",
       "All           274456  27261  301717"
      ]
     },
     "execution_count": 62,
     "metadata": {},
     "output_type": "execute_result"
    }
   ],
   "source": [
    "pd.crosstab(df.Diabetic,df.HeartDisease,margins=True)"
   ]
  },
  {
   "cell_type": "code",
   "execution_count": 63,
   "id": "9184c98c",
   "metadata": {},
   "outputs": [],
   "source": [
    "P=0.5\n",
    "x= 9056\n",
    "n= 27261"
   ]
  },
  {
   "cell_type": "code",
   "execution_count": 64,
   "id": "382d5ff4",
   "metadata": {},
   "outputs": [
    {
     "data": {
      "text/plain": [
       "(-58.82351534406924, 0.0)"
      ]
     },
     "execution_count": 64,
     "metadata": {},
     "output_type": "execute_result"
    }
   ],
   "source": [
    "proportions_ztest(x,n,0.5,alternative='smaller')"
   ]
  },
  {
   "cell_type": "markdown",
   "id": "1b24b2b7",
   "metadata": {},
   "source": [
    "## Since p value < alpha(0.05) --> reject H0\n",
    "## We can conclude that Heart Disease proportion of Diabetic cases is lower "
   ]
  },
  {
   "cell_type": "code",
   "execution_count": null,
   "id": "3027e490",
   "metadata": {},
   "outputs": [],
   "source": []
  },
  {
   "cell_type": "code",
   "execution_count": null,
   "id": "178314ea",
   "metadata": {},
   "outputs": [],
   "source": []
  },
  {
   "cell_type": "markdown",
   "id": "feddf3c1",
   "metadata": {},
   "source": [
    "## 6) Plotting Physical Activity count plot among heart disease subjects"
   ]
  },
  {
   "cell_type": "code",
   "execution_count": 65,
   "id": "f5b5c71c",
   "metadata": {},
   "outputs": [
    {
     "data": {
      "text/plain": [
       "<AxesSubplot:xlabel='PhysicalActivity', ylabel='count'>"
      ]
     },
     "execution_count": 65,
     "metadata": {},
     "output_type": "execute_result"
    },
    {
     "data": {
      "image/png": "[encoded data removed]",
      "text/plain": [
       "<Figure size 432x288 with 1 Axes>"
      ]
     },
     "metadata": {
      "needs_background": "light"
     },
     "output_type": "display_data"
    }
   ],
   "source": [
    "sns.countplot(x=\"PhysicalActivity\", data=hrt_yes)"
   ]
  },
  {
   "cell_type": "code",
   "execution_count": 66,
   "id": "4cb1e84e",
   "metadata": {},
   "outputs": [
    {
     "data": {
      "text/plain": [
       "Yes    63.750413\n",
       "No     36.249587\n",
       "Name: PhysicalActivity, dtype: float64"
      ]
     },
     "execution_count": 66,
     "metadata": {},
     "output_type": "execute_result"
    }
   ],
   "source": [
    "hrt_yes[\"PhysicalActivity\"].value_counts(normalize=True)*100"
   ]
  },
  {
   "cell_type": "markdown",
   "id": "f0c9ebb1",
   "metadata": {},
   "source": [
    "## From the graph, no PhysicalActivity are less among heart disease cases"
   ]
  },
  {
   "cell_type": "code",
   "execution_count": null,
   "id": "d0f227ed",
   "metadata": {},
   "outputs": [],
   "source": []
  },
  {
   "cell_type": "markdown",
   "id": "64cf1b5b",
   "metadata": {},
   "source": [
    "## Hypothesis Test\n",
    "\n",
    "- Test whether the heart disease proportion is higher for  PhysicalActivity\n",
    "\n",
    "## One Sample Test of proportion @ 5% significance level\n",
    "\n",
    "- H0: Heart Disease Proportion of P_PhysicalActivity <= 0.5\n",
    "\n",
    "- H1: Heart Disease Proportion of P_PhysicalActivity > 0.5\n",
    "\n"
   ]
  },
  {
   "cell_type": "code",
   "execution_count": 67,
   "id": "3fcf7898",
   "metadata": {},
   "outputs": [
    {
     "data": {
      "text/html": [
       "<div>\n",
       "<style scoped>\n",
       "    .dataframe tbody tr th:only-of-type {\n",
       "        vertical-align: middle;\n",
       "    }\n",
       "\n",
       "    .dataframe tbody tr th {\n",
       "        vertical-align: top;\n",
       "    }\n",
       "\n",
       "    .dataframe thead th {\n",
       "        text-align: right;\n",
       "    }\n",
       "</style>\n",
       "<table border=\"1\" class=\"dataframe\">\n",
       "  <thead>\n",
       "    <tr style=\"text-align: right;\">\n",
       "      <th>HeartDisease</th>\n",
       "      <th>0</th>\n",
       "      <th>1</th>\n",
       "      <th>All</th>\n",
       "    </tr>\n",
       "    <tr>\n",
       "      <th>PhysicalActivity</th>\n",
       "      <th></th>\n",
       "      <th></th>\n",
       "      <th></th>\n",
       "    </tr>\n",
       "  </thead>\n",
       "  <tbody>\n",
       "    <tr>\n",
       "      <th>No</th>\n",
       "      <td>61423</td>\n",
       "      <td>9882</td>\n",
       "      <td>71305</td>\n",
       "    </tr>\n",
       "    <tr>\n",
       "      <th>Yes</th>\n",
       "      <td>213033</td>\n",
       "      <td>17379</td>\n",
       "      <td>230412</td>\n",
       "    </tr>\n",
       "    <tr>\n",
       "      <th>All</th>\n",
       "      <td>274456</td>\n",
       "      <td>27261</td>\n",
       "      <td>301717</td>\n",
       "    </tr>\n",
       "  </tbody>\n",
       "</table>\n",
       "</div>"
      ],
      "text/plain": [
       "HeartDisease           0      1     All\n",
       "PhysicalActivity                       \n",
       "No                 61423   9882   71305\n",
       "Yes               213033  17379  230412\n",
       "All               274456  27261  301717"
      ]
     },
     "execution_count": 67,
     "metadata": {},
     "output_type": "execute_result"
    }
   ],
   "source": [
    "pd.crosstab(df.PhysicalActivity,df.HeartDisease,margins=True)"
   ]
  },
  {
   "cell_type": "code",
   "execution_count": 68,
   "id": "864ffba5",
   "metadata": {},
   "outputs": [],
   "source": [
    "P=0.5\n",
    "x= 17379\n",
    "n= 27261"
   ]
  },
  {
   "cell_type": "code",
   "execution_count": 69,
   "id": "2fb9a09d",
   "metadata": {},
   "outputs": [
    {
     "data": {
      "text/plain": [
       "(47.22735139846868, 0.0)"
      ]
     },
     "execution_count": 69,
     "metadata": {},
     "output_type": "execute_result"
    }
   ],
   "source": [
    "proportions_ztest(x,n,0.5,alternative='larger')"
   ]
  },
  {
   "cell_type": "markdown",
   "id": "f8f4093c",
   "metadata": {},
   "source": [
    "## Since p value < alpha(0.05) --> reject H0\n",
    "## We can conclude that Heart Disease proportion of PhysicalActivity cases is higher"
   ]
  },
  {
   "cell_type": "code",
   "execution_count": null,
   "id": "125d95a2",
   "metadata": {},
   "outputs": [],
   "source": []
  },
  {
   "cell_type": "code",
   "execution_count": null,
   "id": "8db6c879",
   "metadata": {},
   "outputs": [],
   "source": []
  },
  {
   "cell_type": "markdown",
   "id": "23ac0a4c",
   "metadata": {},
   "source": [
    "## 7) Plotting Asthma count plot among heart disease subjects"
   ]
  },
  {
   "cell_type": "code",
   "execution_count": 70,
   "id": "3d688e4d",
   "metadata": {},
   "outputs": [
    {
     "data": {
      "text/plain": [
       "<AxesSubplot:xlabel='Asthma', ylabel='count'>"
      ]
     },
     "execution_count": 70,
     "metadata": {},
     "output_type": "execute_result"
    },
    {
     "data": {
      "image/png": "[encoded data removed]",
      "text/plain": [
       "<Figure size 432x288 with 1 Axes>"
      ]
     },
     "metadata": {
      "needs_background": "light"
     },
     "output_type": "display_data"
    }
   ],
   "source": [
    "sns.countplot(x=\"Asthma\", data=hrt_yes)"
   ]
  },
  {
   "cell_type": "code",
   "execution_count": 71,
   "id": "2b6f3aa6",
   "metadata": {},
   "outputs": [
    {
     "data": {
      "text/plain": [
       "No     81.908221\n",
       "Yes    18.091779\n",
       "Name: Asthma, dtype: float64"
      ]
     },
     "execution_count": 71,
     "metadata": {},
     "output_type": "execute_result"
    }
   ],
   "source": [
    "hrt_yes[\"Asthma\"].value_counts(normalize=True)*100"
   ]
  },
  {
   "cell_type": "markdown",
   "id": "59141e71",
   "metadata": {},
   "source": [
    "## From the graph, Asthma cases are less among heart disease cases"
   ]
  },
  {
   "cell_type": "code",
   "execution_count": null,
   "id": "233620df",
   "metadata": {},
   "outputs": [],
   "source": []
  },
  {
   "cell_type": "markdown",
   "id": "f0953f3e",
   "metadata": {},
   "source": [
    "## Hypothesis Test\n",
    "\n",
    "- Test whether the heart disease proportion is lower for Asthma cases\n",
    "\n",
    "## One Sample Test of proportion @ 5% significance level\n",
    "\n",
    "- H0: Heart Disease Proportion of P_Asthma >= 0.5\n",
    "\n",
    "- H1: Heart Disease Proportion of P_Asthma < 0.5\n",
    "\n"
   ]
  },
  {
   "cell_type": "code",
   "execution_count": 72,
   "id": "13c9ad1c",
   "metadata": {},
   "outputs": [
    {
     "data": {
      "text/html": [
       "<div>\n",
       "<style scoped>\n",
       "    .dataframe tbody tr th:only-of-type {\n",
       "        vertical-align: middle;\n",
       "    }\n",
       "\n",
       "    .dataframe tbody tr th {\n",
       "        vertical-align: top;\n",
       "    }\n",
       "\n",
       "    .dataframe thead th {\n",
       "        text-align: right;\n",
       "    }\n",
       "</style>\n",
       "<table border=\"1\" class=\"dataframe\">\n",
       "  <thead>\n",
       "    <tr style=\"text-align: right;\">\n",
       "      <th>HeartDisease</th>\n",
       "      <th>0</th>\n",
       "      <th>1</th>\n",
       "      <th>All</th>\n",
       "    </tr>\n",
       "    <tr>\n",
       "      <th>Asthma</th>\n",
       "      <th></th>\n",
       "      <th></th>\n",
       "      <th></th>\n",
       "    </tr>\n",
       "  </thead>\n",
       "  <tbody>\n",
       "    <tr>\n",
       "      <th>No</th>\n",
       "      <td>236737</td>\n",
       "      <td>22329</td>\n",
       "      <td>259066</td>\n",
       "    </tr>\n",
       "    <tr>\n",
       "      <th>Yes</th>\n",
       "      <td>37719</td>\n",
       "      <td>4932</td>\n",
       "      <td>42651</td>\n",
       "    </tr>\n",
       "    <tr>\n",
       "      <th>All</th>\n",
       "      <td>274456</td>\n",
       "      <td>27261</td>\n",
       "      <td>301717</td>\n",
       "    </tr>\n",
       "  </tbody>\n",
       "</table>\n",
       "</div>"
      ],
      "text/plain": [
       "HeartDisease       0      1     All\n",
       "Asthma                             \n",
       "No            236737  22329  259066\n",
       "Yes            37719   4932   42651\n",
       "All           274456  27261  301717"
      ]
     },
     "execution_count": 72,
     "metadata": {},
     "output_type": "execute_result"
    }
   ],
   "source": [
    "pd.crosstab(df.Asthma,df.HeartDisease,margins=True)"
   ]
  },
  {
   "cell_type": "code",
   "execution_count": 73,
   "id": "c133da3f",
   "metadata": {},
   "outputs": [],
   "source": [
    "P=0.5\n",
    "x= 4932\n",
    "n= 27261"
   ]
  },
  {
   "cell_type": "code",
   "execution_count": 74,
   "id": "7fe0f6ac",
   "metadata": {},
   "outputs": [
    {
     "data": {
      "text/plain": [
       "(-136.85765314290603, 0.0)"
      ]
     },
     "execution_count": 74,
     "metadata": {},
     "output_type": "execute_result"
    }
   ],
   "source": [
    "proportions_ztest(x,n,0.5,alternative='smaller')"
   ]
  },
  {
   "cell_type": "markdown",
   "id": "1c7e7fd6",
   "metadata": {},
   "source": [
    "## Since p value < alpha(0.05) --> reject H0\n",
    "## We can conclude that Heart Disease proportion of Asthma cases is lower"
   ]
  },
  {
   "cell_type": "code",
   "execution_count": null,
   "id": "d3d2dde0",
   "metadata": {},
   "outputs": [],
   "source": []
  },
  {
   "cell_type": "code",
   "execution_count": null,
   "id": "58ae960b",
   "metadata": {},
   "outputs": [],
   "source": []
  },
  {
   "cell_type": "markdown",
   "id": "b6451c88",
   "metadata": {},
   "source": [
    "## 8) Plotting KidneyDisease count plot among heart disease subjects"
   ]
  },
  {
   "cell_type": "code",
   "execution_count": 75,
   "id": "79712860",
   "metadata": {},
   "outputs": [
    {
     "data": {
      "text/plain": [
       "<AxesSubplot:xlabel='KidneyDisease', ylabel='count'>"
      ]
     },
     "execution_count": 75,
     "metadata": {},
     "output_type": "execute_result"
    },
    {
     "data": {
      "image/png": "[encoded data removed]",
      "text/plain": [
       "<Figure size 432x288 with 1 Axes>"
      ]
     },
     "metadata": {
      "needs_background": "light"
     },
     "output_type": "display_data"
    }
   ],
   "source": [
    "sns.countplot(x=\"KidneyDisease\", data=hrt_yes)"
   ]
  },
  {
   "cell_type": "code",
   "execution_count": 76,
   "id": "f690783f",
   "metadata": {},
   "outputs": [
    {
     "data": {
      "text/plain": [
       "No     87.329885\n",
       "Yes    12.670115\n",
       "Name: KidneyDisease, dtype: float64"
      ]
     },
     "execution_count": 76,
     "metadata": {},
     "output_type": "execute_result"
    }
   ],
   "source": [
    "hrt_yes[\"KidneyDisease\"].value_counts(normalize=True)*100"
   ]
  },
  {
   "cell_type": "markdown",
   "id": "ee044e2b",
   "metadata": {},
   "source": [
    "## From the graph, KidneyDisease cases are less among heart disease cases"
   ]
  },
  {
   "cell_type": "code",
   "execution_count": null,
   "id": "03a847c0",
   "metadata": {},
   "outputs": [],
   "source": []
  },
  {
   "cell_type": "markdown",
   "id": "d2f86d46",
   "metadata": {},
   "source": [
    "## Hypothesis Test\n",
    "\n",
    "- Test whether the heart disease proportion is lower for KidneyDisease cases\n",
    "\n",
    "## One Sample Test of proportion @ 5% significance level\n",
    "\n",
    "- H0: Heart Disease Proportion of P_KidneyDisease >= 0.5\n",
    "\n",
    "- H1: Heart Disease Proportion of P_KidneyDisease < 0.5\n",
    "\n"
   ]
  },
  {
   "cell_type": "code",
   "execution_count": 77,
   "id": "202e0a46",
   "metadata": {},
   "outputs": [
    {
     "data": {
      "text/html": [
       "<div>\n",
       "<style scoped>\n",
       "    .dataframe tbody tr th:only-of-type {\n",
       "        vertical-align: middle;\n",
       "    }\n",
       "\n",
       "    .dataframe tbody tr th {\n",
       "        vertical-align: top;\n",
       "    }\n",
       "\n",
       "    .dataframe thead th {\n",
       "        text-align: right;\n",
       "    }\n",
       "</style>\n",
       "<table border=\"1\" class=\"dataframe\">\n",
       "  <thead>\n",
       "    <tr style=\"text-align: right;\">\n",
       "      <th>HeartDisease</th>\n",
       "      <th>0</th>\n",
       "      <th>1</th>\n",
       "      <th>All</th>\n",
       "    </tr>\n",
       "    <tr>\n",
       "      <th>KidneyDisease</th>\n",
       "      <th></th>\n",
       "      <th></th>\n",
       "      <th></th>\n",
       "    </tr>\n",
       "  </thead>\n",
       "  <tbody>\n",
       "    <tr>\n",
       "      <th>No</th>\n",
       "      <td>266134</td>\n",
       "      <td>23807</td>\n",
       "      <td>289941</td>\n",
       "    </tr>\n",
       "    <tr>\n",
       "      <th>Yes</th>\n",
       "      <td>8322</td>\n",
       "      <td>3454</td>\n",
       "      <td>11776</td>\n",
       "    </tr>\n",
       "    <tr>\n",
       "      <th>All</th>\n",
       "      <td>274456</td>\n",
       "      <td>27261</td>\n",
       "      <td>301717</td>\n",
       "    </tr>\n",
       "  </tbody>\n",
       "</table>\n",
       "</div>"
      ],
      "text/plain": [
       "HeartDisease        0      1     All\n",
       "KidneyDisease                       \n",
       "No             266134  23807  289941\n",
       "Yes              8322   3454   11776\n",
       "All            274456  27261  301717"
      ]
     },
     "execution_count": 77,
     "metadata": {},
     "output_type": "execute_result"
    }
   ],
   "source": [
    "pd.crosstab(df.KidneyDisease,df.HeartDisease,margins=True)"
   ]
  },
  {
   "cell_type": "code",
   "execution_count": 78,
   "id": "f9607ef4",
   "metadata": {},
   "outputs": [],
   "source": [
    "P=0.5\n",
    "x= 3454\n",
    "n= 27261"
   ]
  },
  {
   "cell_type": "code",
   "execution_count": 79,
   "id": "32b14268",
   "metadata": {},
   "outputs": [
    {
     "data": {
      "text/plain": [
       "(-185.29164021208538, 0.0)"
      ]
     },
     "execution_count": 79,
     "metadata": {},
     "output_type": "execute_result"
    }
   ],
   "source": [
    "proportions_ztest(x,n,0.5,alternative='smaller')"
   ]
  },
  {
   "cell_type": "markdown",
   "id": "525cabb7",
   "metadata": {},
   "source": [
    "## Since p value < alpha(0.05) --> reject H0\n",
    "## We can conclude that Heart Disease proportion of KidneyDisease cases is lower"
   ]
  },
  {
   "cell_type": "code",
   "execution_count": null,
   "id": "5739ab56",
   "metadata": {},
   "outputs": [],
   "source": []
  },
  {
   "cell_type": "code",
   "execution_count": null,
   "id": "b1f727f5",
   "metadata": {},
   "outputs": [],
   "source": []
  },
  {
   "cell_type": "markdown",
   "id": "99d7bb47",
   "metadata": {},
   "source": [
    "## 9) Plotting SkinCancer count plot among heart disease subjects"
   ]
  },
  {
   "cell_type": "code",
   "execution_count": 80,
   "id": "ecf2d215",
   "metadata": {},
   "outputs": [
    {
     "data": {
      "text/plain": [
       "<AxesSubplot:xlabel='SkinCancer', ylabel='count'>"
      ]
     },
     "execution_count": 80,
     "metadata": {},
     "output_type": "execute_result"
    },
    {
     "data": {
      "image/png": "[encoded data removed]",
      "text/plain": [
       "<Figure size 432x288 with 1 Axes>"
      ]
     },
     "metadata": {
      "needs_background": "light"
     },
     "output_type": "display_data"
    }
   ],
   "source": [
    "sns.countplot(x=\"SkinCancer\", data=hrt_yes)"
   ]
  },
  {
   "cell_type": "code",
   "execution_count": 81,
   "id": "607a78f5",
   "metadata": {},
   "outputs": [
    {
     "data": {
      "text/plain": [
       "No     81.776164\n",
       "Yes    18.223836\n",
       "Name: SkinCancer, dtype: float64"
      ]
     },
     "execution_count": 81,
     "metadata": {},
     "output_type": "execute_result"
    }
   ],
   "source": [
    "hrt_yes[\"SkinCancer\"].value_counts(normalize=True)*100"
   ]
  },
  {
   "cell_type": "markdown",
   "id": "b8c2f7d3",
   "metadata": {},
   "source": [
    "## From the graph, SkinCancer cases are less among heart disease cases"
   ]
  },
  {
   "cell_type": "code",
   "execution_count": null,
   "id": "c7192744",
   "metadata": {},
   "outputs": [],
   "source": []
  },
  {
   "cell_type": "markdown",
   "id": "efce7387",
   "metadata": {},
   "source": [
    "## Hypothesis Test\n",
    "\n",
    "- Test whether the heart disease proportion is lower for SkinCancer cases\n",
    "\n",
    "## One Sample Test of proportion @ 5% significance level\n",
    "\n",
    "- H0: Heart Disease Proportion of P_SkinCancer >= 0.5\n",
    "\n",
    "- H1: Heart Disease Proportion of P_SkinCancer < 0.5\n",
    "\n"
   ]
  },
  {
   "cell_type": "code",
   "execution_count": 82,
   "id": "dd2033ab",
   "metadata": {},
   "outputs": [
    {
     "data": {
      "text/html": [
       "<div>\n",
       "<style scoped>\n",
       "    .dataframe tbody tr th:only-of-type {\n",
       "        vertical-align: middle;\n",
       "    }\n",
       "\n",
       "    .dataframe tbody tr th {\n",
       "        vertical-align: top;\n",
       "    }\n",
       "\n",
       "    .dataframe thead th {\n",
       "        text-align: right;\n",
       "    }\n",
       "</style>\n",
       "<table border=\"1\" class=\"dataframe\">\n",
       "  <thead>\n",
       "    <tr style=\"text-align: right;\">\n",
       "      <th>HeartDisease</th>\n",
       "      <th>0</th>\n",
       "      <th>1</th>\n",
       "      <th>All</th>\n",
       "    </tr>\n",
       "    <tr>\n",
       "      <th>SkinCancer</th>\n",
       "      <th></th>\n",
       "      <th></th>\n",
       "      <th></th>\n",
       "    </tr>\n",
       "  </thead>\n",
       "  <tbody>\n",
       "    <tr>\n",
       "      <th>No</th>\n",
       "      <td>250132</td>\n",
       "      <td>22293</td>\n",
       "      <td>272425</td>\n",
       "    </tr>\n",
       "    <tr>\n",
       "      <th>Yes</th>\n",
       "      <td>24324</td>\n",
       "      <td>4968</td>\n",
       "      <td>29292</td>\n",
       "    </tr>\n",
       "    <tr>\n",
       "      <th>All</th>\n",
       "      <td>274456</td>\n",
       "      <td>27261</td>\n",
       "      <td>301717</td>\n",
       "    </tr>\n",
       "  </tbody>\n",
       "</table>\n",
       "</div>"
      ],
      "text/plain": [
       "HeartDisease       0      1     All\n",
       "SkinCancer                         \n",
       "No            250132  22293  272425\n",
       "Yes            24324   4968   29292\n",
       "All           274456  27261  301717"
      ]
     },
     "execution_count": 82,
     "metadata": {},
     "output_type": "execute_result"
    }
   ],
   "source": [
    "pd.crosstab(df.SkinCancer,df.HeartDisease,margins=True)"
   ]
  },
  {
   "cell_type": "code",
   "execution_count": 83,
   "id": "f96f3754",
   "metadata": {},
   "outputs": [],
   "source": [
    "P=0.5\n",
    "x= 4968\n",
    "n= 27261"
   ]
  },
  {
   "cell_type": "code",
   "execution_count": 84,
   "id": "3ea830ed",
   "metadata": {},
   "outputs": [
    {
     "data": {
      "text/plain": [
       "(-135.90614299595887, 0.0)"
      ]
     },
     "execution_count": 84,
     "metadata": {},
     "output_type": "execute_result"
    }
   ],
   "source": [
    "proportions_ztest(x,n,0.5,alternative='smaller')"
   ]
  },
  {
   "cell_type": "markdown",
   "id": "a383ea27",
   "metadata": {},
   "source": [
    "## Since p value < alpha(0.05) --> reject H0\n",
    "## We can conclude that Heart Disease proportion of SkinCancer cases is lower"
   ]
  },
  {
   "cell_type": "code",
   "execution_count": null,
   "id": "037bfaa3",
   "metadata": {},
   "outputs": [],
   "source": []
  },
  {
   "cell_type": "code",
   "execution_count": null,
   "id": "d92311e5",
   "metadata": {},
   "outputs": [],
   "source": []
  },
  {
   "cell_type": "markdown",
   "id": "4e15ec7d",
   "metadata": {},
   "source": [
    "## 10) Plotting Race count plot among heart disease subjects"
   ]
  },
  {
   "cell_type": "code",
   "execution_count": 85,
   "id": "da44eeb8",
   "metadata": {},
   "outputs": [
    {
     "data": {
      "image/png": "[encoded data removed]",
      "text/plain": [
       "<Figure size 864x432 with 1 Axes>"
      ]
     },
     "metadata": {
      "needs_background": "light"
     },
     "output_type": "display_data"
    }
   ],
   "source": [
    "plt.figure(figsize= (12,6))\n",
    "sns.countplot(x=\"Race\", data=hrt_yes)\n",
    "plt.xticks(rotation= 25)\n",
    "plt.show()"
   ]
  },
  {
   "cell_type": "markdown",
   "id": "50324bc8",
   "metadata": {},
   "source": [
    "## From the graph, white race subjects are more among heart disease cases"
   ]
  },
  {
   "cell_type": "code",
   "execution_count": null,
   "id": "842f05b2",
   "metadata": {},
   "outputs": [],
   "source": []
  },
  {
   "cell_type": "markdown",
   "id": "e59badaa",
   "metadata": {},
   "source": [
    "## Hypothesis Test\n",
    "\n",
    "## Chi Square test\n",
    "\n",
    "- H0: There is no association b/w Race & Heart Disease\n",
    "\n",
    "- H1: There is an association b/w Race & Heart Disease\n",
    "\n"
   ]
  },
  {
   "cell_type": "code",
   "execution_count": 86,
   "id": "793da5bb",
   "metadata": {},
   "outputs": [
    {
     "data": {
      "text/html": [
       "<div>\n",
       "<style scoped>\n",
       "    .dataframe tbody tr th:only-of-type {\n",
       "        vertical-align: middle;\n",
       "    }\n",
       "\n",
       "    .dataframe tbody tr th {\n",
       "        vertical-align: top;\n",
       "    }\n",
       "\n",
       "    .dataframe thead th {\n",
       "        text-align: right;\n",
       "    }\n",
       "</style>\n",
       "<table border=\"1\" class=\"dataframe\">\n",
       "  <thead>\n",
       "    <tr style=\"text-align: right;\">\n",
       "      <th>HeartDisease</th>\n",
       "      <th>0</th>\n",
       "      <th>1</th>\n",
       "      <th>All</th>\n",
       "    </tr>\n",
       "    <tr>\n",
       "      <th>Race</th>\n",
       "      <th></th>\n",
       "      <th></th>\n",
       "      <th></th>\n",
       "    </tr>\n",
       "  </thead>\n",
       "  <tbody>\n",
       "    <tr>\n",
       "      <th>American Indian/Alaskan Native</th>\n",
       "      <td>4650</td>\n",
       "      <td>542</td>\n",
       "      <td>5192</td>\n",
       "    </tr>\n",
       "    <tr>\n",
       "      <th>Asian</th>\n",
       "      <td>7727</td>\n",
       "      <td>266</td>\n",
       "      <td>7993</td>\n",
       "    </tr>\n",
       "    <tr>\n",
       "      <th>Black</th>\n",
       "      <td>21081</td>\n",
       "      <td>1729</td>\n",
       "      <td>22810</td>\n",
       "    </tr>\n",
       "    <tr>\n",
       "      <th>Hispanic</th>\n",
       "      <td>25664</td>\n",
       "      <td>1443</td>\n",
       "      <td>27107</td>\n",
       "    </tr>\n",
       "    <tr>\n",
       "      <th>Other</th>\n",
       "      <td>10005</td>\n",
       "      <td>886</td>\n",
       "      <td>10891</td>\n",
       "    </tr>\n",
       "    <tr>\n",
       "      <th>White</th>\n",
       "      <td>205329</td>\n",
       "      <td>22395</td>\n",
       "      <td>227724</td>\n",
       "    </tr>\n",
       "    <tr>\n",
       "      <th>All</th>\n",
       "      <td>274456</td>\n",
       "      <td>27261</td>\n",
       "      <td>301717</td>\n",
       "    </tr>\n",
       "  </tbody>\n",
       "</table>\n",
       "</div>"
      ],
      "text/plain": [
       "HeartDisease                         0      1     All\n",
       "Race                                                 \n",
       "American Indian/Alaskan Native    4650    542    5192\n",
       "Asian                             7727    266    7993\n",
       "Black                            21081   1729   22810\n",
       "Hispanic                         25664   1443   27107\n",
       "Other                            10005    886   10891\n",
       "White                           205329  22395  227724\n",
       "All                             274456  27261  301717"
      ]
     },
     "execution_count": 86,
     "metadata": {},
     "output_type": "execute_result"
    }
   ],
   "source": [
    "pd.crosstab(df.Race,df.HeartDisease,margins=True)"
   ]
  },
  {
   "cell_type": "code",
   "execution_count": 87,
   "id": "96f04039",
   "metadata": {},
   "outputs": [],
   "source": [
    "table=pd.crosstab(df.Race,df.HeartDisease,margins=True)"
   ]
  },
  {
   "cell_type": "code",
   "execution_count": 88,
   "id": "60993844",
   "metadata": {},
   "outputs": [
    {
     "data": {
      "text/plain": [
       "(1030.0583806467882,\n",
       " 6.454626186921883e-213,\n",
       " 12,\n",
       " array([[  4722.88784523,    469.11215477,   5192.        ],\n",
       "        [  7270.80942738,    722.19057262,   7993.        ],\n",
       "        [ 20749.05079926,   2060.94920074,  22810.        ],\n",
       "        [ 24657.8044724 ,   2449.1955276 ,  27107.        ],\n",
       "        [  9906.96678013,    984.03321987,  10891.        ],\n",
       "        [207148.4806756 ,  20575.5193244 , 227724.        ],\n",
       "        [274456.        ,  27261.        , 301717.        ]]))"
      ]
     },
     "execution_count": 88,
     "metadata": {},
     "output_type": "execute_result"
    }
   ],
   "source": [
    "st.chi2_contingency(table)"
   ]
  },
  {
   "cell_type": "markdown",
   "id": "d932ba36",
   "metadata": {},
   "source": [
    "### Since p value < alpha(0.05) --> reject H0\n",
    "### We can conclude that there is association between Race & Heart Disease"
   ]
  },
  {
   "cell_type": "code",
   "execution_count": null,
   "id": "88e3b484",
   "metadata": {},
   "outputs": [],
   "source": []
  },
  {
   "cell_type": "code",
   "execution_count": null,
   "id": "c5ce6dbe",
   "metadata": {},
   "outputs": [],
   "source": []
  },
  {
   "cell_type": "markdown",
   "id": "2b840170",
   "metadata": {},
   "source": [
    "## 11) Plotting Age category count plot among heart disease subjects"
   ]
  },
  {
   "cell_type": "code",
   "execution_count": 89,
   "id": "02a1fa11",
   "metadata": {},
   "outputs": [
    {
     "data": {
      "image/png": "[encoded data removed]",
      "text/plain": [
       "<Figure size 864x432 with 1 Axes>"
      ]
     },
     "metadata": {
      "needs_background": "light"
     },
     "output_type": "display_data"
    }
   ],
   "source": [
    "plt.figure(figsize= (12,6))\n",
    "sns.countplot(x=\"AgeCategory\", data=hrt_yes)\n",
    "plt.xticks(rotation= 25)\n",
    "plt.show()"
   ]
  },
  {
   "cell_type": "markdown",
   "id": "766b22b8",
   "metadata": {},
   "source": [
    "## From the graph, 70-79 age group subjects are more among heart disease cases"
   ]
  },
  {
   "cell_type": "code",
   "execution_count": null,
   "id": "64d08863",
   "metadata": {},
   "outputs": [],
   "source": []
  },
  {
   "cell_type": "markdown",
   "id": "1100aec9",
   "metadata": {},
   "source": [
    "## Hypothesis Test\n",
    "\n",
    "## Chi Square test\n",
    "\n",
    "- H0: There is no association b/w Age group & Heart Disease\n",
    "\n",
    "- H1: There is an association b/w Age group & Heart Disease\n",
    "\n"
   ]
  },
  {
   "cell_type": "code",
   "execution_count": 90,
   "id": "8e46ed52",
   "metadata": {},
   "outputs": [
    {
     "data": {
      "text/html": [
       "<div>\n",
       "<style scoped>\n",
       "    .dataframe tbody tr th:only-of-type {\n",
       "        vertical-align: middle;\n",
       "    }\n",
       "\n",
       "    .dataframe tbody tr th {\n",
       "        vertical-align: top;\n",
       "    }\n",
       "\n",
       "    .dataframe thead th {\n",
       "        text-align: right;\n",
       "    }\n",
       "</style>\n",
       "<table border=\"1\" class=\"dataframe\">\n",
       "  <thead>\n",
       "    <tr style=\"text-align: right;\">\n",
       "      <th>HeartDisease</th>\n",
       "      <th>0</th>\n",
       "      <th>1</th>\n",
       "      <th>All</th>\n",
       "    </tr>\n",
       "    <tr>\n",
       "      <th>AgeCategory</th>\n",
       "      <th></th>\n",
       "      <th></th>\n",
       "      <th></th>\n",
       "    </tr>\n",
       "  </thead>\n",
       "  <tbody>\n",
       "    <tr>\n",
       "      <th>18-29</th>\n",
       "      <td>36047</td>\n",
       "      <td>263</td>\n",
       "      <td>36310</td>\n",
       "    </tr>\n",
       "    <tr>\n",
       "      <th>30-39</th>\n",
       "      <td>36957</td>\n",
       "      <td>522</td>\n",
       "      <td>37479</td>\n",
       "    </tr>\n",
       "    <tr>\n",
       "      <th>40-49</th>\n",
       "      <td>39126</td>\n",
       "      <td>1229</td>\n",
       "      <td>40355</td>\n",
       "    </tr>\n",
       "    <tr>\n",
       "      <th>50-59</th>\n",
       "      <td>47764</td>\n",
       "      <td>3582</td>\n",
       "      <td>51346</td>\n",
       "    </tr>\n",
       "    <tr>\n",
       "      <th>60-69</th>\n",
       "      <td>55494</td>\n",
       "      <td>7395</td>\n",
       "      <td>62889</td>\n",
       "    </tr>\n",
       "    <tr>\n",
       "      <th>70-79</th>\n",
       "      <td>41142</td>\n",
       "      <td>8844</td>\n",
       "      <td>49986</td>\n",
       "    </tr>\n",
       "    <tr>\n",
       "      <th>80 or older</th>\n",
       "      <td>17926</td>\n",
       "      <td>5426</td>\n",
       "      <td>23352</td>\n",
       "    </tr>\n",
       "    <tr>\n",
       "      <th>All</th>\n",
       "      <td>274456</td>\n",
       "      <td>27261</td>\n",
       "      <td>301717</td>\n",
       "    </tr>\n",
       "  </tbody>\n",
       "</table>\n",
       "</div>"
      ],
      "text/plain": [
       "HeartDisease       0      1     All\n",
       "AgeCategory                        \n",
       "18-29          36047    263   36310\n",
       "30-39          36957    522   37479\n",
       "40-49          39126   1229   40355\n",
       "50-59          47764   3582   51346\n",
       "60-69          55494   7395   62889\n",
       "70-79          41142   8844   49986\n",
       "80 or older    17926   5426   23352\n",
       "All           274456  27261  301717"
      ]
     },
     "execution_count": 90,
     "metadata": {},
     "output_type": "execute_result"
    }
   ],
   "source": [
    "pd.crosstab(df.AgeCategory,df.HeartDisease,margins=True)"
   ]
  },
  {
   "cell_type": "code",
   "execution_count": 91,
   "id": "7e1c1e31",
   "metadata": {},
   "outputs": [],
   "source": [
    "table=pd.crosstab(df.AgeCategory,df.HeartDisease,margins=True)"
   ]
  },
  {
   "cell_type": "code",
   "execution_count": 92,
   "id": "f7b1007e",
   "metadata": {},
   "outputs": [
    {
     "data": {
      "text/plain": [
       "(18597.079288895162,\n",
       " 0.0,\n",
       " 14,\n",
       " array([[ 33029.28691456,   3280.71308544,  36310.        ],\n",
       "        [ 34092.66439743,   3386.33560257,  37479.        ],\n",
       "        [ 36708.80951355,   3646.19048645,  40355.        ],\n",
       "        [ 46706.74100564,   4639.25899436,  51346.        ],\n",
       "        [ 57206.79770779,   5682.20229221,  62889.        ],\n",
       "        [ 45469.62092292,   4516.37907708,  49986.        ],\n",
       "        [ 21242.07953811,   2109.92046189,  23352.        ],\n",
       "        [274456.        ,  27261.        , 301717.        ]]))"
      ]
     },
     "execution_count": 92,
     "metadata": {},
     "output_type": "execute_result"
    }
   ],
   "source": [
    "st.chi2_contingency(table)"
   ]
  },
  {
   "cell_type": "markdown",
   "id": "1b474958",
   "metadata": {},
   "source": [
    "### Since p value < alpha(0.05) --> reject H0\n",
    "### We can conclude that there is association between AgeCategory & Heart Disease"
   ]
  },
  {
   "cell_type": "code",
   "execution_count": null,
   "id": "c9c6f531",
   "metadata": {},
   "outputs": [],
   "source": []
  },
  {
   "cell_type": "code",
   "execution_count": null,
   "id": "a4d6d62e",
   "metadata": {},
   "outputs": [],
   "source": []
  },
  {
   "cell_type": "markdown",
   "id": "46c3def1",
   "metadata": {},
   "source": [
    "## 12) Testing whether BMI is different among Heart Disease and Non-Heart disease cases"
   ]
  },
  {
   "cell_type": "code",
   "execution_count": 93,
   "id": "8bd2f934",
   "metadata": {},
   "outputs": [],
   "source": [
    "bmi_yes = df[df[\"HeartDisease\"]==1][\"BMI\"]\n",
    "bmi_no = df[df[\"HeartDisease\"]==0][\"BMI\"]"
   ]
  },
  {
   "cell_type": "code",
   "execution_count": 94,
   "id": "4c3c0786",
   "metadata": {},
   "outputs": [
    {
     "data": {
      "image/png": "[encoded data removed]",
      "text/plain": [
       "<Figure size 432x288 with 1 Axes>"
      ]
     },
     "metadata": {
      "needs_background": "light"
     },
     "output_type": "display_data"
    }
   ],
   "source": [
    "df.groupby('HeartDisease')['BMI'].plot.density(legend=True);"
   ]
  },
  {
   "cell_type": "code",
   "execution_count": 95,
   "id": "256f6b22",
   "metadata": {},
   "outputs": [
    {
     "data": {
      "text/html": [
       "<div>\n",
       "<style scoped>\n",
       "    .dataframe tbody tr th:only-of-type {\n",
       "        vertical-align: middle;\n",
       "    }\n",
       "\n",
       "    .dataframe tbody tr th {\n",
       "        vertical-align: top;\n",
       "    }\n",
       "\n",
       "    .dataframe thead th {\n",
       "        text-align: right;\n",
       "    }\n",
       "</style>\n",
       "<table border=\"1\" class=\"dataframe\">\n",
       "  <thead>\n",
       "    <tr style=\"text-align: right;\">\n",
       "      <th></th>\n",
       "      <th>count</th>\n",
       "      <th>mean</th>\n",
       "      <th>std</th>\n",
       "      <th>min</th>\n",
       "      <th>25%</th>\n",
       "      <th>50%</th>\n",
       "      <th>75%</th>\n",
       "      <th>max</th>\n",
       "    </tr>\n",
       "    <tr>\n",
       "      <th>HeartDisease</th>\n",
       "      <th></th>\n",
       "      <th></th>\n",
       "      <th></th>\n",
       "      <th></th>\n",
       "      <th></th>\n",
       "      <th></th>\n",
       "      <th></th>\n",
       "      <th></th>\n",
       "    </tr>\n",
       "  </thead>\n",
       "  <tbody>\n",
       "    <tr>\n",
       "      <th>0</th>\n",
       "      <td>274456.0</td>\n",
       "      <td>28.345630</td>\n",
       "      <td>6.448337</td>\n",
       "      <td>12.02</td>\n",
       "      <td>23.87</td>\n",
       "      <td>27.34</td>\n",
       "      <td>31.57</td>\n",
       "      <td>94.85</td>\n",
       "    </tr>\n",
       "    <tr>\n",
       "      <th>1</th>\n",
       "      <td>27261.0</td>\n",
       "      <td>29.411893</td>\n",
       "      <td>6.586240</td>\n",
       "      <td>12.21</td>\n",
       "      <td>25.06</td>\n",
       "      <td>28.34</td>\n",
       "      <td>32.69</td>\n",
       "      <td>83.33</td>\n",
       "    </tr>\n",
       "  </tbody>\n",
       "</table>\n",
       "</div>"
      ],
      "text/plain": [
       "                 count       mean       std    min    25%    50%    75%    max\n",
       "HeartDisease                                                                  \n",
       "0             274456.0  28.345630  6.448337  12.02  23.87  27.34  31.57  94.85\n",
       "1              27261.0  29.411893  6.586240  12.21  25.06  28.34  32.69  83.33"
      ]
     },
     "execution_count": 95,
     "metadata": {},
     "output_type": "execute_result"
    }
   ],
   "source": [
    "df.groupby('HeartDisease')['BMI'].describe()"
   ]
  },
  {
   "cell_type": "code",
   "execution_count": null,
   "id": "5055e4f0",
   "metadata": {},
   "outputs": [],
   "source": []
  },
  {
   "cell_type": "code",
   "execution_count": 96,
   "id": "a105473e",
   "metadata": {},
   "outputs": [],
   "source": [
    "# Test of Normality for both Heart disease BMI & Non-Heart Disease BMI"
   ]
  },
  {
   "cell_type": "code",
   "execution_count": 97,
   "id": "32432e4d",
   "metadata": {},
   "outputs": [
    {
     "data": {
      "text/plain": [
       "ShapiroResult(statistic=0.9373605251312256, pvalue=0.0)"
      ]
     },
     "execution_count": 97,
     "metadata": {},
     "output_type": "execute_result"
    }
   ],
   "source": [
    "st.shapiro(bmi_yes)"
   ]
  },
  {
   "cell_type": "code",
   "execution_count": 98,
   "id": "b14ead79",
   "metadata": {},
   "outputs": [
    {
     "data": {
      "text/plain": [
       "ShapiroResult(statistic=0.9294950366020203, pvalue=0.0)"
      ]
     },
     "execution_count": 98,
     "metadata": {},
     "output_type": "execute_result"
    }
   ],
   "source": [
    "st.shapiro(bmi_no)"
   ]
  },
  {
   "cell_type": "markdown",
   "id": "32b3a7af",
   "metadata": {},
   "source": [
    "## Since p values for both are less than alpha (0.05)--> both populations are not following normal distribution\n",
    "\n",
    "## Hence we proceed for non parametric test"
   ]
  },
  {
   "cell_type": "code",
   "execution_count": null,
   "id": "2d711262",
   "metadata": {},
   "outputs": [],
   "source": []
  },
  {
   "cell_type": "markdown",
   "id": "7b752cac",
   "metadata": {},
   "source": [
    "## Mann Whitney U test\n",
    "\n",
    "- Ho: pop median_bmi_yes <= pop median_bmi_no\n",
    "\n",
    "- H1: pop median_bmi_yes > pop median_bmi_no\n"
   ]
  },
  {
   "cell_type": "code",
   "execution_count": 99,
   "id": "ce1be306",
   "metadata": {},
   "outputs": [
    {
     "data": {
      "text/plain": [
       "MannwhitneyuResult(statistic=4145450439.0, pvalue=1.9152506330346993e-191)"
      ]
     },
     "execution_count": 99,
     "metadata": {},
     "output_type": "execute_result"
    }
   ],
   "source": [
    "st.mannwhitneyu(bmi_yes,bmi_no,alternative='greater')"
   ]
  },
  {
   "cell_type": "markdown",
   "id": "5195e59d",
   "metadata": {},
   "source": [
    "## Since p value < alpha(0.05) --> reject H0;\n",
    "## Hence we can conclude that the bmi median for heart disease is greater than non-heart disease"
   ]
  },
  {
   "cell_type": "code",
   "execution_count": null,
   "id": "a8c9b5da",
   "metadata": {},
   "outputs": [],
   "source": []
  },
  {
   "cell_type": "code",
   "execution_count": 100,
   "id": "d358c8a8",
   "metadata": {},
   "outputs": [
    {
     "data": {
      "text/plain": [
       "<AxesSubplot:xlabel='HeartDisease'>"
      ]
     },
     "execution_count": 100,
     "metadata": {},
     "output_type": "execute_result"
    },
    {
     "data": {
      "image/png": "[encoded data removed]",
      "text/plain": [
       "<Figure size 432x288 with 1 Axes>"
      ]
     },
     "metadata": {
      "needs_background": "light"
     },
     "output_type": "display_data"
    }
   ],
   "source": [
    "df.groupby('HeartDisease')['BMI'].median().plot(kind= \"bar\")"
   ]
  },
  {
   "cell_type": "code",
   "execution_count": null,
   "id": "49d2a7f1",
   "metadata": {},
   "outputs": [],
   "source": []
  },
  {
   "cell_type": "code",
   "execution_count": null,
   "id": "ea891bd1",
   "metadata": {},
   "outputs": [],
   "source": []
  },
  {
   "cell_type": "markdown",
   "id": "8648497d",
   "metadata": {},
   "source": [
    "## 13) Testing whether Physical Health is different among Heart Disease and Non-Heart disease cases"
   ]
  },
  {
   "cell_type": "code",
   "execution_count": 101,
   "id": "575bdd51",
   "metadata": {},
   "outputs": [],
   "source": [
    "phealth_yes = df[df[\"HeartDisease\"]==1][\"PhysicalHealth\"]\n",
    "phealth_no = df[df[\"HeartDisease\"]==0][\"PhysicalHealth\"]"
   ]
  },
  {
   "cell_type": "code",
   "execution_count": 102,
   "id": "4119ed02",
   "metadata": {},
   "outputs": [
    {
     "data": {
      "image/png": "[encoded data removed]",
      "text/plain": [
       "<Figure size 432x288 with 1 Axes>"
      ]
     },
     "metadata": {
      "needs_background": "light"
     },
     "output_type": "display_data"
    }
   ],
   "source": [
    "df.groupby('HeartDisease')['PhysicalHealth'].plot.density(legend=True);"
   ]
  },
  {
   "cell_type": "code",
   "execution_count": 103,
   "id": "be26a90c",
   "metadata": {},
   "outputs": [
    {
     "data": {
      "text/plain": [
       "HeartDisease\n",
       "0    0.0\n",
       "1    0.0\n",
       "Name: PhysicalHealth, dtype: float64"
      ]
     },
     "execution_count": 103,
     "metadata": {},
     "output_type": "execute_result"
    }
   ],
   "source": [
    "df.groupby('HeartDisease')['PhysicalHealth'].median()"
   ]
  },
  {
   "cell_type": "code",
   "execution_count": 104,
   "id": "9cd04036",
   "metadata": {},
   "outputs": [
    {
     "data": {
      "text/html": [
       "<div>\n",
       "<style scoped>\n",
       "    .dataframe tbody tr th:only-of-type {\n",
       "        vertical-align: middle;\n",
       "    }\n",
       "\n",
       "    .dataframe tbody tr th {\n",
       "        vertical-align: top;\n",
       "    }\n",
       "\n",
       "    .dataframe thead th {\n",
       "        text-align: right;\n",
       "    }\n",
       "</style>\n",
       "<table border=\"1\" class=\"dataframe\">\n",
       "  <thead>\n",
       "    <tr style=\"text-align: right;\">\n",
       "      <th></th>\n",
       "      <th>count</th>\n",
       "      <th>mean</th>\n",
       "      <th>std</th>\n",
       "      <th>min</th>\n",
       "      <th>25%</th>\n",
       "      <th>50%</th>\n",
       "      <th>75%</th>\n",
       "      <th>max</th>\n",
       "    </tr>\n",
       "    <tr>\n",
       "      <th>HeartDisease</th>\n",
       "      <th></th>\n",
       "      <th></th>\n",
       "      <th></th>\n",
       "      <th></th>\n",
       "      <th></th>\n",
       "      <th></th>\n",
       "      <th></th>\n",
       "      <th></th>\n",
       "    </tr>\n",
       "  </thead>\n",
       "  <tbody>\n",
       "    <tr>\n",
       "      <th>0</th>\n",
       "      <td>274456.0</td>\n",
       "      <td>3.148366</td>\n",
       "      <td>7.597830</td>\n",
       "      <td>0.0</td>\n",
       "      <td>0.0</td>\n",
       "      <td>0.0</td>\n",
       "      <td>2.0</td>\n",
       "      <td>30.0</td>\n",
       "    </tr>\n",
       "    <tr>\n",
       "      <th>1</th>\n",
       "      <td>27261.0</td>\n",
       "      <td>7.840321</td>\n",
       "      <td>11.500464</td>\n",
       "      <td>0.0</td>\n",
       "      <td>0.0</td>\n",
       "      <td>0.0</td>\n",
       "      <td>15.0</td>\n",
       "      <td>30.0</td>\n",
       "    </tr>\n",
       "  </tbody>\n",
       "</table>\n",
       "</div>"
      ],
      "text/plain": [
       "                 count      mean        std  min  25%  50%   75%   max\n",
       "HeartDisease                                                          \n",
       "0             274456.0  3.148366   7.597830  0.0  0.0  0.0   2.0  30.0\n",
       "1              27261.0  7.840321  11.500464  0.0  0.0  0.0  15.0  30.0"
      ]
     },
     "execution_count": 104,
     "metadata": {},
     "output_type": "execute_result"
    }
   ],
   "source": [
    "df.groupby('HeartDisease')['PhysicalHealth'].describe()"
   ]
  },
  {
   "cell_type": "code",
   "execution_count": null,
   "id": "c5e79f6c",
   "metadata": {},
   "outputs": [],
   "source": []
  },
  {
   "cell_type": "code",
   "execution_count": 105,
   "id": "d12e3312",
   "metadata": {},
   "outputs": [],
   "source": [
    "# Test of Normality for both Heart disease PhysicalHealth & Non-Heart Disease PhysicalHealth"
   ]
  },
  {
   "cell_type": "code",
   "execution_count": 106,
   "id": "ae5dad38",
   "metadata": {},
   "outputs": [
    {
     "data": {
      "text/plain": [
       "ShapiroResult(statistic=0.6728900671005249, pvalue=0.0)"
      ]
     },
     "execution_count": 106,
     "metadata": {},
     "output_type": "execute_result"
    }
   ],
   "source": [
    "st.shapiro(phealth_yes)"
   ]
  },
  {
   "cell_type": "code",
   "execution_count": 107,
   "id": "26e51c02",
   "metadata": {},
   "outputs": [
    {
     "data": {
      "text/plain": [
       "ShapiroResult(statistic=0.46732836961746216, pvalue=0.0)"
      ]
     },
     "execution_count": 107,
     "metadata": {},
     "output_type": "execute_result"
    }
   ],
   "source": [
    "st.shapiro(phealth_no)"
   ]
  },
  {
   "cell_type": "markdown",
   "id": "5435479a",
   "metadata": {},
   "source": [
    "## Since p values for both are less than alpha (0.05)--> both populations are not following normal distribution\n",
    "\n"
   ]
  },
  {
   "cell_type": "code",
   "execution_count": null,
   "id": "4840a769",
   "metadata": {},
   "outputs": [],
   "source": []
  },
  {
   "cell_type": "code",
   "execution_count": 108,
   "id": "45f3c8c6",
   "metadata": {},
   "outputs": [
    {
     "data": {
      "text/html": [
       "<div>\n",
       "<style scoped>\n",
       "    .dataframe tbody tr th:only-of-type {\n",
       "        vertical-align: middle;\n",
       "    }\n",
       "\n",
       "    .dataframe tbody tr th {\n",
       "        vertical-align: top;\n",
       "    }\n",
       "\n",
       "    .dataframe thead th {\n",
       "        text-align: right;\n",
       "    }\n",
       "</style>\n",
       "<table border=\"1\" class=\"dataframe\">\n",
       "  <thead>\n",
       "    <tr style=\"text-align: right;\">\n",
       "      <th></th>\n",
       "      <th>count</th>\n",
       "      <th>mean</th>\n",
       "      <th>std</th>\n",
       "      <th>min</th>\n",
       "      <th>25%</th>\n",
       "      <th>50%</th>\n",
       "      <th>75%</th>\n",
       "      <th>max</th>\n",
       "    </tr>\n",
       "    <tr>\n",
       "      <th>HeartDisease</th>\n",
       "      <th></th>\n",
       "      <th></th>\n",
       "      <th></th>\n",
       "      <th></th>\n",
       "      <th></th>\n",
       "      <th></th>\n",
       "      <th></th>\n",
       "      <th></th>\n",
       "    </tr>\n",
       "  </thead>\n",
       "  <tbody>\n",
       "    <tr>\n",
       "      <th>0</th>\n",
       "      <td>274456.0</td>\n",
       "      <td>3.148366</td>\n",
       "      <td>7.597830</td>\n",
       "      <td>0.0</td>\n",
       "      <td>0.0</td>\n",
       "      <td>0.0</td>\n",
       "      <td>2.0</td>\n",
       "      <td>30.0</td>\n",
       "    </tr>\n",
       "    <tr>\n",
       "      <th>1</th>\n",
       "      <td>27261.0</td>\n",
       "      <td>7.840321</td>\n",
       "      <td>11.500464</td>\n",
       "      <td>0.0</td>\n",
       "      <td>0.0</td>\n",
       "      <td>0.0</td>\n",
       "      <td>15.0</td>\n",
       "      <td>30.0</td>\n",
       "    </tr>\n",
       "  </tbody>\n",
       "</table>\n",
       "</div>"
      ],
      "text/plain": [
       "                 count      mean        std  min  25%  50%   75%   max\n",
       "HeartDisease                                                          \n",
       "0             274456.0  3.148366   7.597830  0.0  0.0  0.0   2.0  30.0\n",
       "1              27261.0  7.840321  11.500464  0.0  0.0  0.0  15.0  30.0"
      ]
     },
     "execution_count": 108,
     "metadata": {},
     "output_type": "execute_result"
    }
   ],
   "source": [
    "df.groupby('HeartDisease')['PhysicalHealth'].describe()"
   ]
  },
  {
   "cell_type": "markdown",
   "id": "47221178",
   "metadata": {},
   "source": [
    "### Since medians for both populations are same (zero) Mann Whitney U test is useless"
   ]
  },
  {
   "cell_type": "code",
   "execution_count": null,
   "id": "4c1be021",
   "metadata": {},
   "outputs": [],
   "source": []
  },
  {
   "cell_type": "code",
   "execution_count": 109,
   "id": "691bc749",
   "metadata": {},
   "outputs": [
    {
     "data": {
      "image/png": "[encoded data removed]",
      "text/plain": [
       "<Figure size 576x432 with 1 Axes>"
      ]
     },
     "metadata": {
      "needs_background": "light"
     },
     "output_type": "display_data"
    }
   ],
   "source": [
    "plt.figure(figsize=(8,6))\n",
    "df.groupby('HeartDisease')['PhysicalHealth'].mean().plot(kind= \"bar\")\n",
    "plt.title(\"Mean No: of Days of Bad Physical Health\")\n",
    "plt.show()"
   ]
  },
  {
   "cell_type": "markdown",
   "id": "b8e55cfb",
   "metadata": {},
   "source": [
    "### Result: Mean number of days where the subject's physical health was not good is greater for Heart Disease cases compared to Non-Heart disease cases"
   ]
  },
  {
   "cell_type": "code",
   "execution_count": null,
   "id": "d9932e12",
   "metadata": {},
   "outputs": [],
   "source": []
  },
  {
   "cell_type": "code",
   "execution_count": null,
   "id": "4a3ef04f",
   "metadata": {},
   "outputs": [],
   "source": []
  },
  {
   "cell_type": "markdown",
   "id": "d148e404",
   "metadata": {},
   "source": [
    "## 14) Testing whether Mental Health is different among Heart Disease and Non-Heart disease cases"
   ]
  },
  {
   "cell_type": "code",
   "execution_count": 110,
   "id": "52d1c94c",
   "metadata": {},
   "outputs": [],
   "source": [
    "mhealth_yes = df[df[\"HeartDisease\"]==1][\"MentalHealth\"]\n",
    "mhealth_no = df[df[\"HeartDisease\"]==0][\"MentalHealth\"]"
   ]
  },
  {
   "cell_type": "code",
   "execution_count": 111,
   "id": "828d2ab9",
   "metadata": {},
   "outputs": [
    {
     "data": {
      "image/png": "[encoded data removed]",
      "text/plain": [
       "<Figure size 432x288 with 1 Axes>"
      ]
     },
     "metadata": {
      "needs_background": "light"
     },
     "output_type": "display_data"
    }
   ],
   "source": [
    "df.groupby('HeartDisease')['MentalHealth'].plot.density(legend=True);"
   ]
  },
  {
   "cell_type": "code",
   "execution_count": 112,
   "id": "a210b7d9",
   "metadata": {},
   "outputs": [
    {
     "data": {
      "text/html": [
       "<div>\n",
       "<style scoped>\n",
       "    .dataframe tbody tr th:only-of-type {\n",
       "        vertical-align: middle;\n",
       "    }\n",
       "\n",
       "    .dataframe tbody tr th {\n",
       "        vertical-align: top;\n",
       "    }\n",
       "\n",
       "    .dataframe thead th {\n",
       "        text-align: right;\n",
       "    }\n",
       "</style>\n",
       "<table border=\"1\" class=\"dataframe\">\n",
       "  <thead>\n",
       "    <tr style=\"text-align: right;\">\n",
       "      <th></th>\n",
       "      <th>count</th>\n",
       "      <th>mean</th>\n",
       "      <th>std</th>\n",
       "      <th>min</th>\n",
       "      <th>25%</th>\n",
       "      <th>50%</th>\n",
       "      <th>75%</th>\n",
       "      <th>max</th>\n",
       "    </tr>\n",
       "    <tr>\n",
       "      <th>HeartDisease</th>\n",
       "      <th></th>\n",
       "      <th></th>\n",
       "      <th></th>\n",
       "      <th></th>\n",
       "      <th></th>\n",
       "      <th></th>\n",
       "      <th></th>\n",
       "      <th></th>\n",
       "    </tr>\n",
       "  </thead>\n",
       "  <tbody>\n",
       "    <tr>\n",
       "      <th>0</th>\n",
       "      <td>274456.0</td>\n",
       "      <td>4.067902</td>\n",
       "      <td>8.013658</td>\n",
       "      <td>0.0</td>\n",
       "      <td>0.0</td>\n",
       "      <td>0.0</td>\n",
       "      <td>4.0</td>\n",
       "      <td>30.0</td>\n",
       "    </tr>\n",
       "    <tr>\n",
       "      <th>1</th>\n",
       "      <td>27261.0</td>\n",
       "      <td>4.660834</td>\n",
       "      <td>9.185917</td>\n",
       "      <td>0.0</td>\n",
       "      <td>0.0</td>\n",
       "      <td>0.0</td>\n",
       "      <td>4.0</td>\n",
       "      <td>30.0</td>\n",
       "    </tr>\n",
       "  </tbody>\n",
       "</table>\n",
       "</div>"
      ],
      "text/plain": [
       "                 count      mean       std  min  25%  50%  75%   max\n",
       "HeartDisease                                                        \n",
       "0             274456.0  4.067902  8.013658  0.0  0.0  0.0  4.0  30.0\n",
       "1              27261.0  4.660834  9.185917  0.0  0.0  0.0  4.0  30.0"
      ]
     },
     "execution_count": 112,
     "metadata": {},
     "output_type": "execute_result"
    }
   ],
   "source": [
    "df.groupby('HeartDisease')['MentalHealth'].describe()"
   ]
  },
  {
   "cell_type": "code",
   "execution_count": null,
   "id": "f0dbeb41",
   "metadata": {},
   "outputs": [],
   "source": []
  },
  {
   "cell_type": "code",
   "execution_count": 113,
   "id": "cf5d1e43",
   "metadata": {},
   "outputs": [],
   "source": [
    "# Test of Normality for both Heart disease BMI & Non-Heart Disease BMI"
   ]
  },
  {
   "cell_type": "code",
   "execution_count": 114,
   "id": "dd2f8183",
   "metadata": {},
   "outputs": [
    {
     "data": {
      "text/plain": [
       "ShapiroResult(statistic=0.5593920946121216, pvalue=0.0)"
      ]
     },
     "execution_count": 114,
     "metadata": {},
     "output_type": "execute_result"
    }
   ],
   "source": [
    "st.shapiro(mhealth_yes)"
   ]
  },
  {
   "cell_type": "code",
   "execution_count": 115,
   "id": "4f93ceaf",
   "metadata": {},
   "outputs": [
    {
     "data": {
      "text/plain": [
       "ShapiroResult(statistic=0.5683465003967285, pvalue=0.0)"
      ]
     },
     "execution_count": 115,
     "metadata": {},
     "output_type": "execute_result"
    }
   ],
   "source": [
    "st.shapiro(mhealth_no)"
   ]
  },
  {
   "cell_type": "markdown",
   "id": "df06e54d",
   "metadata": {},
   "source": [
    "## Since p values for both are less than alpha (0.05)--> both populations are not following normal distribution\n"
   ]
  },
  {
   "cell_type": "code",
   "execution_count": null,
   "id": "53f2e4a4",
   "metadata": {},
   "outputs": [],
   "source": []
  },
  {
   "cell_type": "code",
   "execution_count": 116,
   "id": "9bb8f992",
   "metadata": {},
   "outputs": [
    {
     "data": {
      "text/html": [
       "<div>\n",
       "<style scoped>\n",
       "    .dataframe tbody tr th:only-of-type {\n",
       "        vertical-align: middle;\n",
       "    }\n",
       "\n",
       "    .dataframe tbody tr th {\n",
       "        vertical-align: top;\n",
       "    }\n",
       "\n",
       "    .dataframe thead th {\n",
       "        text-align: right;\n",
       "    }\n",
       "</style>\n",
       "<table border=\"1\" class=\"dataframe\">\n",
       "  <thead>\n",
       "    <tr style=\"text-align: right;\">\n",
       "      <th></th>\n",
       "      <th>count</th>\n",
       "      <th>mean</th>\n",
       "      <th>std</th>\n",
       "      <th>min</th>\n",
       "      <th>25%</th>\n",
       "      <th>50%</th>\n",
       "      <th>75%</th>\n",
       "      <th>max</th>\n",
       "    </tr>\n",
       "    <tr>\n",
       "      <th>HeartDisease</th>\n",
       "      <th></th>\n",
       "      <th></th>\n",
       "      <th></th>\n",
       "      <th></th>\n",
       "      <th></th>\n",
       "      <th></th>\n",
       "      <th></th>\n",
       "      <th></th>\n",
       "    </tr>\n",
       "  </thead>\n",
       "  <tbody>\n",
       "    <tr>\n",
       "      <th>0</th>\n",
       "      <td>274456.0</td>\n",
       "      <td>4.067902</td>\n",
       "      <td>8.013658</td>\n",
       "      <td>0.0</td>\n",
       "      <td>0.0</td>\n",
       "      <td>0.0</td>\n",
       "      <td>4.0</td>\n",
       "      <td>30.0</td>\n",
       "    </tr>\n",
       "    <tr>\n",
       "      <th>1</th>\n",
       "      <td>27261.0</td>\n",
       "      <td>4.660834</td>\n",
       "      <td>9.185917</td>\n",
       "      <td>0.0</td>\n",
       "      <td>0.0</td>\n",
       "      <td>0.0</td>\n",
       "      <td>4.0</td>\n",
       "      <td>30.0</td>\n",
       "    </tr>\n",
       "  </tbody>\n",
       "</table>\n",
       "</div>"
      ],
      "text/plain": [
       "                 count      mean       std  min  25%  50%  75%   max\n",
       "HeartDisease                                                        \n",
       "0             274456.0  4.067902  8.013658  0.0  0.0  0.0  4.0  30.0\n",
       "1              27261.0  4.660834  9.185917  0.0  0.0  0.0  4.0  30.0"
      ]
     },
     "execution_count": 116,
     "metadata": {},
     "output_type": "execute_result"
    }
   ],
   "source": [
    "df.groupby('HeartDisease')['MentalHealth'].describe()"
   ]
  },
  {
   "cell_type": "markdown",
   "id": "52a4b50c",
   "metadata": {},
   "source": [
    "### Since medians for both populations are same (zero) Mann Whitney U test is useless"
   ]
  },
  {
   "cell_type": "code",
   "execution_count": null,
   "id": "c8cea70e",
   "metadata": {},
   "outputs": [],
   "source": []
  },
  {
   "cell_type": "code",
   "execution_count": 117,
   "id": "2b13ddde",
   "metadata": {},
   "outputs": [
    {
     "data": {
      "image/png": "[encoded data removed]",
      "text/plain": [
       "<Figure size 576x432 with 1 Axes>"
      ]
     },
     "metadata": {
      "needs_background": "light"
     },
     "output_type": "display_data"
    }
   ],
   "source": [
    "plt.figure(figsize=(8,6))\n",
    "df.groupby('HeartDisease')['MentalHealth'].mean().plot(kind= \"bar\")\n",
    "plt.title(\"Mean No: of Days of Bad Mental Health\")\n",
    "plt.show()"
   ]
  },
  {
   "cell_type": "markdown",
   "id": "1c8b0f99",
   "metadata": {},
   "source": [
    "### Result: Mean number of days where the subject's mental health was not good is slightly greater for Heart Disease cases compared to Non-Heart disease cases"
   ]
  },
  {
   "cell_type": "code",
   "execution_count": null,
   "id": "d8e7e815",
   "metadata": {},
   "outputs": [],
   "source": []
  },
  {
   "cell_type": "code",
   "execution_count": null,
   "id": "386cd948",
   "metadata": {},
   "outputs": [],
   "source": []
  },
  {
   "cell_type": "markdown",
   "id": "8be8ca09",
   "metadata": {},
   "source": [
    "## 15) Testing whether SleepTime is different among Heart Disease and Non-Heart disease cases"
   ]
  },
  {
   "cell_type": "code",
   "execution_count": 118,
   "id": "fb384d80",
   "metadata": {},
   "outputs": [],
   "source": [
    "sleep_yes = df[df[\"HeartDisease\"]==1][\"SleepTime\"]\n",
    "sleep_no = df[df[\"HeartDisease\"]==0][\"SleepTime\"]"
   ]
  },
  {
   "cell_type": "code",
   "execution_count": 119,
   "id": "84e58231",
   "metadata": {},
   "outputs": [
    {
     "data": {
      "image/png": "[encoded data removed]",
      "text/plain": [
       "<Figure size 432x288 with 1 Axes>"
      ]
     },
     "metadata": {
      "needs_background": "light"
     },
     "output_type": "display_data"
    }
   ],
   "source": [
    "df.groupby('HeartDisease')['SleepTime'].plot.density(legend=True);"
   ]
  },
  {
   "cell_type": "code",
   "execution_count": 120,
   "id": "d4b4afc0",
   "metadata": {},
   "outputs": [
    {
     "data": {
      "text/html": [
       "<div>\n",
       "<style scoped>\n",
       "    .dataframe tbody tr th:only-of-type {\n",
       "        vertical-align: middle;\n",
       "    }\n",
       "\n",
       "    .dataframe tbody tr th {\n",
       "        vertical-align: top;\n",
       "    }\n",
       "\n",
       "    .dataframe thead th {\n",
       "        text-align: right;\n",
       "    }\n",
       "</style>\n",
       "<table border=\"1\" class=\"dataframe\">\n",
       "  <thead>\n",
       "    <tr style=\"text-align: right;\">\n",
       "      <th></th>\n",
       "      <th>count</th>\n",
       "      <th>mean</th>\n",
       "      <th>std</th>\n",
       "      <th>min</th>\n",
       "      <th>25%</th>\n",
       "      <th>50%</th>\n",
       "      <th>75%</th>\n",
       "      <th>max</th>\n",
       "    </tr>\n",
       "    <tr>\n",
       "      <th>HeartDisease</th>\n",
       "      <th></th>\n",
       "      <th></th>\n",
       "      <th></th>\n",
       "      <th></th>\n",
       "      <th></th>\n",
       "      <th></th>\n",
       "      <th></th>\n",
       "      <th></th>\n",
       "    </tr>\n",
       "  </thead>\n",
       "  <tbody>\n",
       "    <tr>\n",
       "      <th>0</th>\n",
       "      <td>274456.0</td>\n",
       "      <td>7.079550</td>\n",
       "      <td>1.431746</td>\n",
       "      <td>1.0</td>\n",
       "      <td>6.0</td>\n",
       "      <td>7.0</td>\n",
       "      <td>8.0</td>\n",
       "      <td>24.0</td>\n",
       "    </tr>\n",
       "    <tr>\n",
       "      <th>1</th>\n",
       "      <td>27261.0</td>\n",
       "      <td>7.134991</td>\n",
       "      <td>1.783877</td>\n",
       "      <td>1.0</td>\n",
       "      <td>6.0</td>\n",
       "      <td>7.0</td>\n",
       "      <td>8.0</td>\n",
       "      <td>24.0</td>\n",
       "    </tr>\n",
       "  </tbody>\n",
       "</table>\n",
       "</div>"
      ],
      "text/plain": [
       "                 count      mean       std  min  25%  50%  75%   max\n",
       "HeartDisease                                                        \n",
       "0             274456.0  7.079550  1.431746  1.0  6.0  7.0  8.0  24.0\n",
       "1              27261.0  7.134991  1.783877  1.0  6.0  7.0  8.0  24.0"
      ]
     },
     "execution_count": 120,
     "metadata": {},
     "output_type": "execute_result"
    }
   ],
   "source": [
    "df.groupby('HeartDisease')['SleepTime'].describe()"
   ]
  },
  {
   "cell_type": "code",
   "execution_count": 121,
   "id": "0f3c43bc",
   "metadata": {},
   "outputs": [],
   "source": [
    "# Test of Normality for both Heart disease SleepTime & Non-Heart Disease SleepTime"
   ]
  },
  {
   "cell_type": "code",
   "execution_count": 122,
   "id": "fad44282",
   "metadata": {},
   "outputs": [
    {
     "data": {
      "text/plain": [
       "ShapiroResult(statistic=0.9071798920631409, pvalue=0.0)"
      ]
     },
     "execution_count": 122,
     "metadata": {},
     "output_type": "execute_result"
    }
   ],
   "source": [
    "st.shapiro(sleep_yes)"
   ]
  },
  {
   "cell_type": "code",
   "execution_count": 123,
   "id": "52eeb783",
   "metadata": {},
   "outputs": [
    {
     "data": {
      "text/plain": [
       "ShapiroResult(statistic=0.8922908306121826, pvalue=0.0)"
      ]
     },
     "execution_count": 123,
     "metadata": {},
     "output_type": "execute_result"
    }
   ],
   "source": [
    "st.shapiro(sleep_no)"
   ]
  },
  {
   "cell_type": "markdown",
   "id": "07ff2ad6",
   "metadata": {},
   "source": [
    "## Since p values for both are less than alpha (0.05)--> both populations are not following normal distribution\n",
    "\n",
    "## Hence we proceed for non parametric test"
   ]
  },
  {
   "cell_type": "code",
   "execution_count": null,
   "id": "cd0f4952",
   "metadata": {},
   "outputs": [],
   "source": []
  },
  {
   "cell_type": "markdown",
   "id": "a3813f59",
   "metadata": {},
   "source": [
    "## Mann Whitney U test\n",
    "\n",
    "- Ho: pop median_sleep_yes <= pop median_sleep_no\n",
    "\n",
    "- H1: pop median_sleep_yes > pop median_sleep_no\n"
   ]
  },
  {
   "cell_type": "code",
   "execution_count": 124,
   "id": "ea0fcca9",
   "metadata": {},
   "outputs": [
    {
     "data": {
      "text/plain": [
       "MannwhitneyuResult(statistic=3817176624.0, pvalue=4.737278627623607e-09)"
      ]
     },
     "execution_count": 124,
     "metadata": {},
     "output_type": "execute_result"
    }
   ],
   "source": [
    "st.mannwhitneyu(sleep_yes,sleep_no,alternative='greater')"
   ]
  },
  {
   "cell_type": "markdown",
   "id": "0d7ef7a4",
   "metadata": {},
   "source": [
    "## Since p value < alpha(0.05) --> reject H0;\n",
    "## Hence we can conclude that the sleep time median for heart disease is greater than non-heart disease"
   ]
  },
  {
   "cell_type": "code",
   "execution_count": null,
   "id": "8f3b71de",
   "metadata": {},
   "outputs": [],
   "source": []
  },
  {
   "cell_type": "code",
   "execution_count": 244,
   "id": "2070aac9",
   "metadata": {},
   "outputs": [],
   "source": [
    "df.to_excel(\"heart_capstone.xlsx\")"
   ]
  },
  {
   "cell_type": "code",
   "execution_count": 125,
   "id": "d277b729",
   "metadata": {},
   "outputs": [],
   "source": [
    "ht= df.copy()"
   ]
  },
  {
   "cell_type": "code",
   "execution_count": 126,
   "id": "9530e2e4",
   "metadata": {},
   "outputs": [
    {
     "name": "stdout",
     "output_type": "stream",
     "text": [
      "<class 'pandas.core.frame.DataFrame'>\n",
      "Int64Index: 301717 entries, 0 to 319794\n",
      "Data columns (total 18 columns):\n",
      " #   Column            Non-Null Count   Dtype  \n",
      "---  ------            --------------   -----  \n",
      " 0   HeartDisease      301717 non-null  int64  \n",
      " 1   BMI               301717 non-null  float64\n",
      " 2   Smoking           301717 non-null  object \n",
      " 3   AlcoholDrinking   301717 non-null  object \n",
      " 4   Stroke            301717 non-null  object \n",
      " 5   PhysicalHealth    301717 non-null  float64\n",
      " 6   MentalHealth      301717 non-null  float64\n",
      " 7   DiffWalking       301717 non-null  object \n",
      " 8   Sex               301717 non-null  object \n",
      " 9   AgeCategory       301717 non-null  object \n",
      " 10  Race              301717 non-null  object \n",
      " 11  Diabetic          301717 non-null  object \n",
      " 12  PhysicalActivity  301717 non-null  object \n",
      " 13  GenHealth         301717 non-null  object \n",
      " 14  SleepTime         301717 non-null  float64\n",
      " 15  Asthma            301717 non-null  object \n",
      " 16  KidneyDisease     301717 non-null  object \n",
      " 17  SkinCancer        301717 non-null  object \n",
      "dtypes: float64(4), int64(1), object(13)\n",
      "memory usage: 51.8+ MB\n"
     ]
    }
   ],
   "source": [
    "ht.info()"
   ]
  },
  {
   "cell_type": "code",
   "execution_count": 127,
   "id": "d90430df",
   "metadata": {},
   "outputs": [],
   "source": [
    "X= ht.drop(\"HeartDisease\", axis=1)"
   ]
  },
  {
   "cell_type": "code",
   "execution_count": 128,
   "id": "be181c5a",
   "metadata": {},
   "outputs": [
    {
     "data": {
      "text/html": [
       "<div>\n",
       "<style scoped>\n",
       "    .dataframe tbody tr th:only-of-type {\n",
       "        vertical-align: middle;\n",
       "    }\n",
       "\n",
       "    .dataframe tbody tr th {\n",
       "        vertical-align: top;\n",
       "    }\n",
       "\n",
       "    .dataframe thead th {\n",
       "        text-align: right;\n",
       "    }\n",
       "</style>\n",
       "<table border=\"1\" class=\"dataframe\">\n",
       "  <thead>\n",
       "    <tr style=\"text-align: right;\">\n",
       "      <th></th>\n",
       "      <th>BMI</th>\n",
       "      <th>Smoking</th>\n",
       "      <th>AlcoholDrinking</th>\n",
       "      <th>Stroke</th>\n",
       "      <th>PhysicalHealth</th>\n",
       "      <th>MentalHealth</th>\n",
       "      <th>DiffWalking</th>\n",
       "      <th>Sex</th>\n",
       "      <th>AgeCategory</th>\n",
       "      <th>Race</th>\n",
       "      <th>Diabetic</th>\n",
       "      <th>PhysicalActivity</th>\n",
       "      <th>GenHealth</th>\n",
       "      <th>SleepTime</th>\n",
       "      <th>Asthma</th>\n",
       "      <th>KidneyDisease</th>\n",
       "      <th>SkinCancer</th>\n",
       "    </tr>\n",
       "  </thead>\n",
       "  <tbody>\n",
       "    <tr>\n",
       "      <th>0</th>\n",
       "      <td>16.60</td>\n",
       "      <td>Yes</td>\n",
       "      <td>No</td>\n",
       "      <td>No</td>\n",
       "      <td>3.0</td>\n",
       "      <td>30.0</td>\n",
       "      <td>No</td>\n",
       "      <td>Female</td>\n",
       "      <td>50-59</td>\n",
       "      <td>White</td>\n",
       "      <td>Yes</td>\n",
       "      <td>Yes</td>\n",
       "      <td>Very good</td>\n",
       "      <td>5.0</td>\n",
       "      <td>Yes</td>\n",
       "      <td>No</td>\n",
       "      <td>Yes</td>\n",
       "    </tr>\n",
       "    <tr>\n",
       "      <th>1</th>\n",
       "      <td>20.34</td>\n",
       "      <td>No</td>\n",
       "      <td>No</td>\n",
       "      <td>Yes</td>\n",
       "      <td>0.0</td>\n",
       "      <td>0.0</td>\n",
       "      <td>No</td>\n",
       "      <td>Female</td>\n",
       "      <td>80 or older</td>\n",
       "      <td>White</td>\n",
       "      <td>No</td>\n",
       "      <td>Yes</td>\n",
       "      <td>Very good</td>\n",
       "      <td>7.0</td>\n",
       "      <td>No</td>\n",
       "      <td>No</td>\n",
       "      <td>No</td>\n",
       "    </tr>\n",
       "    <tr>\n",
       "      <th>2</th>\n",
       "      <td>26.58</td>\n",
       "      <td>Yes</td>\n",
       "      <td>No</td>\n",
       "      <td>No</td>\n",
       "      <td>20.0</td>\n",
       "      <td>30.0</td>\n",
       "      <td>No</td>\n",
       "      <td>Male</td>\n",
       "      <td>60-69</td>\n",
       "      <td>White</td>\n",
       "      <td>Yes</td>\n",
       "      <td>Yes</td>\n",
       "      <td>Fair</td>\n",
       "      <td>8.0</td>\n",
       "      <td>Yes</td>\n",
       "      <td>No</td>\n",
       "      <td>No</td>\n",
       "    </tr>\n",
       "    <tr>\n",
       "      <th>3</th>\n",
       "      <td>24.21</td>\n",
       "      <td>No</td>\n",
       "      <td>No</td>\n",
       "      <td>No</td>\n",
       "      <td>0.0</td>\n",
       "      <td>0.0</td>\n",
       "      <td>No</td>\n",
       "      <td>Female</td>\n",
       "      <td>70-79</td>\n",
       "      <td>White</td>\n",
       "      <td>No</td>\n",
       "      <td>No</td>\n",
       "      <td>Good</td>\n",
       "      <td>6.0</td>\n",
       "      <td>No</td>\n",
       "      <td>No</td>\n",
       "      <td>Yes</td>\n",
       "    </tr>\n",
       "    <tr>\n",
       "      <th>4</th>\n",
       "      <td>23.71</td>\n",
       "      <td>No</td>\n",
       "      <td>No</td>\n",
       "      <td>No</td>\n",
       "      <td>28.0</td>\n",
       "      <td>0.0</td>\n",
       "      <td>Yes</td>\n",
       "      <td>Female</td>\n",
       "      <td>40-49</td>\n",
       "      <td>White</td>\n",
       "      <td>No</td>\n",
       "      <td>Yes</td>\n",
       "      <td>Very good</td>\n",
       "      <td>8.0</td>\n",
       "      <td>No</td>\n",
       "      <td>No</td>\n",
       "      <td>No</td>\n",
       "    </tr>\n",
       "  </tbody>\n",
       "</table>\n",
       "</div>"
      ],
      "text/plain": [
       "     BMI Smoking AlcoholDrinking Stroke  PhysicalHealth  MentalHealth  \\\n",
       "0  16.60     Yes              No     No             3.0          30.0   \n",
       "1  20.34      No              No    Yes             0.0           0.0   \n",
       "2  26.58     Yes              No     No            20.0          30.0   \n",
       "3  24.21      No              No     No             0.0           0.0   \n",
       "4  23.71      No              No     No            28.0           0.0   \n",
       "\n",
       "  DiffWalking     Sex  AgeCategory   Race Diabetic PhysicalActivity  \\\n",
       "0          No  Female        50-59  White      Yes              Yes   \n",
       "1          No  Female  80 or older  White       No              Yes   \n",
       "2          No    Male        60-69  White      Yes              Yes   \n",
       "3          No  Female        70-79  White       No               No   \n",
       "4         Yes  Female        40-49  White       No              Yes   \n",
       "\n",
       "   GenHealth  SleepTime Asthma KidneyDisease SkinCancer  \n",
       "0  Very good        5.0    Yes            No        Yes  \n",
       "1  Very good        7.0     No            No         No  \n",
       "2       Fair        8.0    Yes            No         No  \n",
       "3       Good        6.0     No            No        Yes  \n",
       "4  Very good        8.0     No            No         No  "
      ]
     },
     "execution_count": 128,
     "metadata": {},
     "output_type": "execute_result"
    }
   ],
   "source": [
    "X.head()"
   ]
  },
  {
   "cell_type": "code",
   "execution_count": 129,
   "id": "425a0d86",
   "metadata": {},
   "outputs": [
    {
     "data": {
      "text/plain": [
       "(301717, 17)"
      ]
     },
     "execution_count": 129,
     "metadata": {},
     "output_type": "execute_result"
    }
   ],
   "source": [
    "X.shape"
   ]
  },
  {
   "cell_type": "code",
   "execution_count": 130,
   "id": "16ba579f",
   "metadata": {},
   "outputs": [],
   "source": [
    "y = ht[\"HeartDisease\"]"
   ]
  },
  {
   "cell_type": "code",
   "execution_count": 131,
   "id": "07835622",
   "metadata": {},
   "outputs": [
    {
     "data": {
      "text/html": [
       "<div>\n",
       "<style scoped>\n",
       "    .dataframe tbody tr th:only-of-type {\n",
       "        vertical-align: middle;\n",
       "    }\n",
       "\n",
       "    .dataframe tbody tr th {\n",
       "        vertical-align: top;\n",
       "    }\n",
       "\n",
       "    .dataframe thead th {\n",
       "        text-align: right;\n",
       "    }\n",
       "</style>\n",
       "<table border=\"1\" class=\"dataframe\">\n",
       "  <thead>\n",
       "    <tr style=\"text-align: right;\">\n",
       "      <th></th>\n",
       "      <th>BMI</th>\n",
       "      <th>PhysicalHealth</th>\n",
       "      <th>MentalHealth</th>\n",
       "      <th>SleepTime</th>\n",
       "      <th>Smoking_Yes</th>\n",
       "      <th>AlcoholDrinking_Yes</th>\n",
       "      <th>Stroke_Yes</th>\n",
       "      <th>DiffWalking_Yes</th>\n",
       "      <th>Sex_Male</th>\n",
       "      <th>AgeCategory_30-39</th>\n",
       "      <th>...</th>\n",
       "      <th>Race_White</th>\n",
       "      <th>Diabetic_Yes</th>\n",
       "      <th>PhysicalActivity_Yes</th>\n",
       "      <th>GenHealth_Fair</th>\n",
       "      <th>GenHealth_Good</th>\n",
       "      <th>GenHealth_Poor</th>\n",
       "      <th>GenHealth_Very good</th>\n",
       "      <th>Asthma_Yes</th>\n",
       "      <th>KidneyDisease_Yes</th>\n",
       "      <th>SkinCancer_Yes</th>\n",
       "    </tr>\n",
       "  </thead>\n",
       "  <tbody>\n",
       "    <tr>\n",
       "      <th>0</th>\n",
       "      <td>16.60</td>\n",
       "      <td>3.0</td>\n",
       "      <td>30.0</td>\n",
       "      <td>5.0</td>\n",
       "      <td>1</td>\n",
       "      <td>0</td>\n",
       "      <td>0</td>\n",
       "      <td>0</td>\n",
       "      <td>0</td>\n",
       "      <td>0</td>\n",
       "      <td>...</td>\n",
       "      <td>1</td>\n",
       "      <td>1</td>\n",
       "      <td>1</td>\n",
       "      <td>0</td>\n",
       "      <td>0</td>\n",
       "      <td>0</td>\n",
       "      <td>1</td>\n",
       "      <td>1</td>\n",
       "      <td>0</td>\n",
       "      <td>1</td>\n",
       "    </tr>\n",
       "    <tr>\n",
       "      <th>1</th>\n",
       "      <td>20.34</td>\n",
       "      <td>0.0</td>\n",
       "      <td>0.0</td>\n",
       "      <td>7.0</td>\n",
       "      <td>0</td>\n",
       "      <td>0</td>\n",
       "      <td>1</td>\n",
       "      <td>0</td>\n",
       "      <td>0</td>\n",
       "      <td>0</td>\n",
       "      <td>...</td>\n",
       "      <td>1</td>\n",
       "      <td>0</td>\n",
       "      <td>1</td>\n",
       "      <td>0</td>\n",
       "      <td>0</td>\n",
       "      <td>0</td>\n",
       "      <td>1</td>\n",
       "      <td>0</td>\n",
       "      <td>0</td>\n",
       "      <td>0</td>\n",
       "    </tr>\n",
       "    <tr>\n",
       "      <th>2</th>\n",
       "      <td>26.58</td>\n",
       "      <td>20.0</td>\n",
       "      <td>30.0</td>\n",
       "      <td>8.0</td>\n",
       "      <td>1</td>\n",
       "      <td>0</td>\n",
       "      <td>0</td>\n",
       "      <td>0</td>\n",
       "      <td>1</td>\n",
       "      <td>0</td>\n",
       "      <td>...</td>\n",
       "      <td>1</td>\n",
       "      <td>1</td>\n",
       "      <td>1</td>\n",
       "      <td>1</td>\n",
       "      <td>0</td>\n",
       "      <td>0</td>\n",
       "      <td>0</td>\n",
       "      <td>1</td>\n",
       "      <td>0</td>\n",
       "      <td>0</td>\n",
       "    </tr>\n",
       "    <tr>\n",
       "      <th>3</th>\n",
       "      <td>24.21</td>\n",
       "      <td>0.0</td>\n",
       "      <td>0.0</td>\n",
       "      <td>6.0</td>\n",
       "      <td>0</td>\n",
       "      <td>0</td>\n",
       "      <td>0</td>\n",
       "      <td>0</td>\n",
       "      <td>0</td>\n",
       "      <td>0</td>\n",
       "      <td>...</td>\n",
       "      <td>1</td>\n",
       "      <td>0</td>\n",
       "      <td>0</td>\n",
       "      <td>0</td>\n",
       "      <td>1</td>\n",
       "      <td>0</td>\n",
       "      <td>0</td>\n",
       "      <td>0</td>\n",
       "      <td>0</td>\n",
       "      <td>1</td>\n",
       "    </tr>\n",
       "    <tr>\n",
       "      <th>4</th>\n",
       "      <td>23.71</td>\n",
       "      <td>28.0</td>\n",
       "      <td>0.0</td>\n",
       "      <td>8.0</td>\n",
       "      <td>0</td>\n",
       "      <td>0</td>\n",
       "      <td>0</td>\n",
       "      <td>1</td>\n",
       "      <td>0</td>\n",
       "      <td>0</td>\n",
       "      <td>...</td>\n",
       "      <td>1</td>\n",
       "      <td>0</td>\n",
       "      <td>1</td>\n",
       "      <td>0</td>\n",
       "      <td>0</td>\n",
       "      <td>0</td>\n",
       "      <td>1</td>\n",
       "      <td>0</td>\n",
       "      <td>0</td>\n",
       "      <td>0</td>\n",
       "    </tr>\n",
       "  </tbody>\n",
       "</table>\n",
       "<p>5 rows × 29 columns</p>\n",
       "</div>"
      ],
      "text/plain": [
       "     BMI  PhysicalHealth  MentalHealth  SleepTime  Smoking_Yes  \\\n",
       "0  16.60             3.0          30.0        5.0            1   \n",
       "1  20.34             0.0           0.0        7.0            0   \n",
       "2  26.58            20.0          30.0        8.0            1   \n",
       "3  24.21             0.0           0.0        6.0            0   \n",
       "4  23.71            28.0           0.0        8.0            0   \n",
       "\n",
       "   AlcoholDrinking_Yes  Stroke_Yes  DiffWalking_Yes  Sex_Male  \\\n",
       "0                    0           0                0         0   \n",
       "1                    0           1                0         0   \n",
       "2                    0           0                0         1   \n",
       "3                    0           0                0         0   \n",
       "4                    0           0                1         0   \n",
       "\n",
       "   AgeCategory_30-39  ...  Race_White  Diabetic_Yes  PhysicalActivity_Yes  \\\n",
       "0                  0  ...           1             1                     1   \n",
       "1                  0  ...           1             0                     1   \n",
       "2                  0  ...           1             1                     1   \n",
       "3                  0  ...           1             0                     0   \n",
       "4                  0  ...           1             0                     1   \n",
       "\n",
       "   GenHealth_Fair  GenHealth_Good  GenHealth_Poor  GenHealth_Very good  \\\n",
       "0               0               0               0                    1   \n",
       "1               0               0               0                    1   \n",
       "2               1               0               0                    0   \n",
       "3               0               1               0                    0   \n",
       "4               0               0               0                    1   \n",
       "\n",
       "   Asthma_Yes  KidneyDisease_Yes  SkinCancer_Yes  \n",
       "0           1                  0               1  \n",
       "1           0                  0               0  \n",
       "2           1                  0               0  \n",
       "3           0                  0               1  \n",
       "4           0                  0               0  \n",
       "\n",
       "[5 rows x 29 columns]"
      ]
     },
     "execution_count": 131,
     "metadata": {},
     "output_type": "execute_result"
    }
   ],
   "source": [
    "# Encoding\n",
    "\n",
    "X = pd.get_dummies(X,drop_first=True)\n",
    "X.head()"
   ]
  },
  {
   "cell_type": "code",
   "execution_count": null,
   "id": "aacc572a",
   "metadata": {},
   "outputs": [],
   "source": []
  },
  {
   "cell_type": "code",
   "execution_count": 132,
   "id": "96b486eb",
   "metadata": {},
   "outputs": [],
   "source": [
    "#Scaling \n",
    "\n",
    "sc= StandardScaler()\n",
    "\n",
    "for i in X.columns:\n",
    "    X[i]= sc.fit_transform(X[i].values.reshape(-1,1))"
   ]
  },
  {
   "cell_type": "code",
   "execution_count": 133,
   "id": "742b431c",
   "metadata": {},
   "outputs": [
    {
     "data": {
      "text/html": [
       "<div>\n",
       "<style scoped>\n",
       "    .dataframe tbody tr th:only-of-type {\n",
       "        vertical-align: middle;\n",
       "    }\n",
       "\n",
       "    .dataframe tbody tr th {\n",
       "        vertical-align: top;\n",
       "    }\n",
       "\n",
       "    .dataframe thead th {\n",
       "        text-align: right;\n",
       "    }\n",
       "</style>\n",
       "<table border=\"1\" class=\"dataframe\">\n",
       "  <thead>\n",
       "    <tr style=\"text-align: right;\">\n",
       "      <th></th>\n",
       "      <th>BMI</th>\n",
       "      <th>PhysicalHealth</th>\n",
       "      <th>MentalHealth</th>\n",
       "      <th>SleepTime</th>\n",
       "      <th>Smoking_Yes</th>\n",
       "      <th>AlcoholDrinking_Yes</th>\n",
       "      <th>Stroke_Yes</th>\n",
       "      <th>DiffWalking_Yes</th>\n",
       "      <th>Sex_Male</th>\n",
       "      <th>AgeCategory_30-39</th>\n",
       "      <th>...</th>\n",
       "      <th>Race_White</th>\n",
       "      <th>Diabetic_Yes</th>\n",
       "      <th>PhysicalActivity_Yes</th>\n",
       "      <th>GenHealth_Fair</th>\n",
       "      <th>GenHealth_Good</th>\n",
       "      <th>GenHealth_Poor</th>\n",
       "      <th>GenHealth_Very good</th>\n",
       "      <th>Asthma_Yes</th>\n",
       "      <th>KidneyDisease_Yes</th>\n",
       "      <th>SkinCancer_Yes</th>\n",
       "    </tr>\n",
       "  </thead>\n",
       "  <tbody>\n",
       "    <tr>\n",
       "      <th>0</th>\n",
       "      <td>-1.830820</td>\n",
       "      <td>-0.070301</td>\n",
       "      <td>3.183766</td>\n",
       "      <td>-1.420852</td>\n",
       "      <td>1.169689</td>\n",
       "      <td>-0.277556</td>\n",
       "      <td>-0.204083</td>\n",
       "      <td>-0.415144</td>\n",
       "      <td>-0.943195</td>\n",
       "      <td>-0.376614</td>\n",
       "      <td>...</td>\n",
       "      <td>0.570021</td>\n",
       "      <td>2.448079</td>\n",
       "      <td>0.556298</td>\n",
       "      <td>-0.360251</td>\n",
       "      <td>-0.658396</td>\n",
       "      <td>-0.197128</td>\n",
       "      <td>1.370799</td>\n",
       "      <td>2.464567</td>\n",
       "      <td>-0.201532</td>\n",
       "      <td>3.049643</td>\n",
       "    </tr>\n",
       "    <tr>\n",
       "      <th>1</th>\n",
       "      <td>-1.252600</td>\n",
       "      <td>-0.438823</td>\n",
       "      <td>-0.507054</td>\n",
       "      <td>-0.057636</td>\n",
       "      <td>-0.854928</td>\n",
       "      <td>-0.277556</td>\n",
       "      <td>4.899969</td>\n",
       "      <td>-0.415144</td>\n",
       "      <td>-0.943195</td>\n",
       "      <td>-0.376614</td>\n",
       "      <td>...</td>\n",
       "      <td>0.570021</td>\n",
       "      <td>-0.408483</td>\n",
       "      <td>0.556298</td>\n",
       "      <td>-0.360251</td>\n",
       "      <td>-0.658396</td>\n",
       "      <td>-0.197128</td>\n",
       "      <td>1.370799</td>\n",
       "      <td>-0.405751</td>\n",
       "      <td>-0.201532</td>\n",
       "      <td>-0.327907</td>\n",
       "    </tr>\n",
       "    <tr>\n",
       "      <th>2</th>\n",
       "      <td>-0.287869</td>\n",
       "      <td>2.017986</td>\n",
       "      <td>3.183766</td>\n",
       "      <td>0.623971</td>\n",
       "      <td>1.169689</td>\n",
       "      <td>-0.277556</td>\n",
       "      <td>-0.204083</td>\n",
       "      <td>-0.415144</td>\n",
       "      <td>1.060226</td>\n",
       "      <td>-0.376614</td>\n",
       "      <td>...</td>\n",
       "      <td>0.570021</td>\n",
       "      <td>2.448079</td>\n",
       "      <td>0.556298</td>\n",
       "      <td>2.775842</td>\n",
       "      <td>-0.658396</td>\n",
       "      <td>-0.197128</td>\n",
       "      <td>-0.729502</td>\n",
       "      <td>2.464567</td>\n",
       "      <td>-0.201532</td>\n",
       "      <td>-0.327907</td>\n",
       "    </tr>\n",
       "    <tr>\n",
       "      <th>3</th>\n",
       "      <td>-0.654281</td>\n",
       "      <td>-0.438823</td>\n",
       "      <td>-0.507054</td>\n",
       "      <td>-0.739244</td>\n",
       "      <td>-0.854928</td>\n",
       "      <td>-0.277556</td>\n",
       "      <td>-0.204083</td>\n",
       "      <td>-0.415144</td>\n",
       "      <td>-0.943195</td>\n",
       "      <td>-0.376614</td>\n",
       "      <td>...</td>\n",
       "      <td>0.570021</td>\n",
       "      <td>-0.408483</td>\n",
       "      <td>-1.797598</td>\n",
       "      <td>-0.360251</td>\n",
       "      <td>1.518844</td>\n",
       "      <td>-0.197128</td>\n",
       "      <td>-0.729502</td>\n",
       "      <td>-0.405751</td>\n",
       "      <td>-0.201532</td>\n",
       "      <td>3.049643</td>\n",
       "    </tr>\n",
       "    <tr>\n",
       "      <th>4</th>\n",
       "      <td>-0.731583</td>\n",
       "      <td>3.000709</td>\n",
       "      <td>-0.507054</td>\n",
       "      <td>0.623971</td>\n",
       "      <td>-0.854928</td>\n",
       "      <td>-0.277556</td>\n",
       "      <td>-0.204083</td>\n",
       "      <td>2.408801</td>\n",
       "      <td>-0.943195</td>\n",
       "      <td>-0.376614</td>\n",
       "      <td>...</td>\n",
       "      <td>0.570021</td>\n",
       "      <td>-0.408483</td>\n",
       "      <td>0.556298</td>\n",
       "      <td>-0.360251</td>\n",
       "      <td>-0.658396</td>\n",
       "      <td>-0.197128</td>\n",
       "      <td>1.370799</td>\n",
       "      <td>-0.405751</td>\n",
       "      <td>-0.201532</td>\n",
       "      <td>-0.327907</td>\n",
       "    </tr>\n",
       "  </tbody>\n",
       "</table>\n",
       "<p>5 rows × 29 columns</p>\n",
       "</div>"
      ],
      "text/plain": [
       "        BMI  PhysicalHealth  MentalHealth  SleepTime  Smoking_Yes  \\\n",
       "0 -1.830820       -0.070301      3.183766  -1.420852     1.169689   \n",
       "1 -1.252600       -0.438823     -0.507054  -0.057636    -0.854928   \n",
       "2 -0.287869        2.017986      3.183766   0.623971     1.169689   \n",
       "3 -0.654281       -0.438823     -0.507054  -0.739244    -0.854928   \n",
       "4 -0.731583        3.000709     -0.507054   0.623971    -0.854928   \n",
       "\n",
       "   AlcoholDrinking_Yes  Stroke_Yes  DiffWalking_Yes  Sex_Male  \\\n",
       "0            -0.277556   -0.204083        -0.415144 -0.943195   \n",
       "1            -0.277556    4.899969        -0.415144 -0.943195   \n",
       "2            -0.277556   -0.204083        -0.415144  1.060226   \n",
       "3            -0.277556   -0.204083        -0.415144 -0.943195   \n",
       "4            -0.277556   -0.204083         2.408801 -0.943195   \n",
       "\n",
       "   AgeCategory_30-39  ...  Race_White  Diabetic_Yes  PhysicalActivity_Yes  \\\n",
       "0          -0.376614  ...    0.570021      2.448079              0.556298   \n",
       "1          -0.376614  ...    0.570021     -0.408483              0.556298   \n",
       "2          -0.376614  ...    0.570021      2.448079              0.556298   \n",
       "3          -0.376614  ...    0.570021     -0.408483             -1.797598   \n",
       "4          -0.376614  ...    0.570021     -0.408483              0.556298   \n",
       "\n",
       "   GenHealth_Fair  GenHealth_Good  GenHealth_Poor  GenHealth_Very good  \\\n",
       "0       -0.360251       -0.658396       -0.197128             1.370799   \n",
       "1       -0.360251       -0.658396       -0.197128             1.370799   \n",
       "2        2.775842       -0.658396       -0.197128            -0.729502   \n",
       "3       -0.360251        1.518844       -0.197128            -0.729502   \n",
       "4       -0.360251       -0.658396       -0.197128             1.370799   \n",
       "\n",
       "   Asthma_Yes  KidneyDisease_Yes  SkinCancer_Yes  \n",
       "0    2.464567          -0.201532        3.049643  \n",
       "1   -0.405751          -0.201532       -0.327907  \n",
       "2    2.464567          -0.201532       -0.327907  \n",
       "3   -0.405751          -0.201532        3.049643  \n",
       "4   -0.405751          -0.201532       -0.327907  \n",
       "\n",
       "[5 rows x 29 columns]"
      ]
     },
     "execution_count": 133,
     "metadata": {},
     "output_type": "execute_result"
    }
   ],
   "source": [
    "X.head()\n"
   ]
  },
  {
   "cell_type": "code",
   "execution_count": null,
   "id": "c7d0301d",
   "metadata": {},
   "outputs": [],
   "source": []
  },
  {
   "cell_type": "code",
   "execution_count": null,
   "id": "5c0c5a55",
   "metadata": {},
   "outputs": [],
   "source": []
  },
  {
   "cell_type": "markdown",
   "id": "b5207d2c",
   "metadata": {},
   "source": [
    "## Model Building"
   ]
  },
  {
   "cell_type": "markdown",
   "id": "e6cecf03",
   "metadata": {},
   "source": [
    "### 1) Logistic Regression without SMOTE"
   ]
  },
  {
   "cell_type": "code",
   "execution_count": 134,
   "id": "da56bfcc",
   "metadata": {},
   "outputs": [],
   "source": [
    "xtrain,xtest,ytrain,ytest= train_test_split(X,y, test_size=0.2,random_state=10, stratify=y)"
   ]
  },
  {
   "cell_type": "code",
   "execution_count": 135,
   "id": "2d195ade",
   "metadata": {},
   "outputs": [
    {
     "name": "stdout",
     "output_type": "stream",
     "text": [
      "xtrain shape:  (241373, 29)\n",
      "xtest shape:  (60344, 29)\n",
      "ytrain shape:  (241373,)\n",
      "ytest shape:  (60344,)\n"
     ]
    }
   ],
   "source": [
    "print(\"xtrain shape: \", xtrain.shape)\n",
    "print(\"xtest shape: \", xtest.shape)\n",
    "print(\"ytrain shape: \", ytrain.shape)\n",
    "print(\"ytest shape: \", ytest.shape)"
   ]
  },
  {
   "cell_type": "code",
   "execution_count": 136,
   "id": "681806be",
   "metadata": {},
   "outputs": [],
   "source": [
    "from sklearn.linear_model import LogisticRegression"
   ]
  },
  {
   "cell_type": "code",
   "execution_count": 137,
   "id": "ca3873df",
   "metadata": {
    "scrolled": true
   },
   "outputs": [
    {
     "data": {
      "text/plain": [
       "LogisticRegression()"
      ]
     },
     "execution_count": 137,
     "metadata": {},
     "output_type": "execute_result"
    }
   ],
   "source": [
    "log_model= LogisticRegression()\n",
    "log_model.fit(xtrain,ytrain)"
   ]
  },
  {
   "cell_type": "code",
   "execution_count": 138,
   "id": "040efd54",
   "metadata": {},
   "outputs": [
    {
     "data": {
      "text/plain": [
       "array([[0.66849494, 0.33150506],\n",
       "       [0.95799834, 0.04200166],\n",
       "       [0.8489311 , 0.1510689 ],\n",
       "       ...,\n",
       "       [0.95467806, 0.04532194],\n",
       "       [0.84943275, 0.15056725],\n",
       "       [0.70969158, 0.29030842]])"
      ]
     },
     "execution_count": 138,
     "metadata": {},
     "output_type": "execute_result"
    }
   ],
   "source": [
    "prob_pred_y1 = log_model.predict_proba(xtest)\n",
    "prob_pred_y1"
   ]
  },
  {
   "cell_type": "code",
   "execution_count": 139,
   "id": "1fba96b8",
   "metadata": {},
   "outputs": [
    {
     "data": {
      "text/plain": [
       "array([0, 0, 0, ..., 0, 0, 0], dtype=int64)"
      ]
     },
     "execution_count": 139,
     "metadata": {},
     "output_type": "execute_result"
    }
   ],
   "source": [
    "pred_y1 = log_model.predict(xtest)\n",
    "pred_y1"
   ]
  },
  {
   "cell_type": "code",
   "execution_count": 140,
   "id": "78c62092",
   "metadata": {},
   "outputs": [
    {
     "data": {
      "text/plain": [
       "0.9113913562243139"
      ]
     },
     "execution_count": 140,
     "metadata": {},
     "output_type": "execute_result"
    }
   ],
   "source": [
    "accuracy_score(ytest,pred_y1)"
   ]
  },
  {
   "cell_type": "code",
   "execution_count": 141,
   "id": "6a7ab146",
   "metadata": {},
   "outputs": [
    {
     "data": {
      "text/plain": [
       "0.54911131898971"
      ]
     },
     "execution_count": 141,
     "metadata": {},
     "output_type": "execute_result"
    }
   ],
   "source": [
    "precision_score(ytest,pred_y1)"
   ]
  },
  {
   "cell_type": "code",
   "execution_count": 144,
   "id": "7feccd03",
   "metadata": {},
   "outputs": [
    {
     "data": {
      "text/plain": [
       "0.10766691122523844"
      ]
     },
     "execution_count": 144,
     "metadata": {},
     "output_type": "execute_result"
    }
   ],
   "source": [
    "recall_score(ytest,pred_y1)"
   ]
  },
  {
   "cell_type": "code",
   "execution_count": 145,
   "id": "2cb2b37d",
   "metadata": {},
   "outputs": [
    {
     "data": {
      "text/plain": [
       "0.1800337371568778"
      ]
     },
     "execution_count": 145,
     "metadata": {},
     "output_type": "execute_result"
    }
   ],
   "source": [
    "f1_score(ytest,pred_y1)\n"
   ]
  },
  {
   "cell_type": "code",
   "execution_count": 146,
   "id": "27633bf8",
   "metadata": {},
   "outputs": [
    {
     "name": "stdout",
     "output_type": "stream",
     "text": [
      "              precision    recall  f1-score   support\n",
      "\n",
      "           0       0.92      0.99      0.95     54892\n",
      "           1       0.55      0.11      0.18      5452\n",
      "\n",
      "    accuracy                           0.91     60344\n",
      "   macro avg       0.73      0.55      0.57     60344\n",
      "weighted avg       0.88      0.91      0.88     60344\n",
      "\n"
     ]
    }
   ],
   "source": [
    "print(classification_report(ytest,pred_y1))"
   ]
  },
  {
   "cell_type": "code",
   "execution_count": 147,
   "id": "e7bd5bb0",
   "metadata": {},
   "outputs": [
    {
     "data": {
      "text/plain": [
       "<sklearn.metrics._plot.confusion_matrix.ConfusionMatrixDisplay at 0x1246cede910>"
      ]
     },
     "execution_count": 147,
     "metadata": {},
     "output_type": "execute_result"
    },
    {
     "data": {
      "image/png": "[encoded data removed]",
      "text/plain": [
       "<Figure size 432x288 with 2 Axes>"
      ]
     },
     "metadata": {
      "needs_background": "light"
     },
     "output_type": "display_data"
    }
   ],
   "source": [
    "plot_confusion_matrix(log_model, xtest, ytest)"
   ]
  },
  {
   "cell_type": "code",
   "execution_count": 148,
   "id": "38bdba51",
   "metadata": {},
   "outputs": [
    {
     "data": {
      "text/plain": [
       "<sklearn.metrics._plot.roc_curve.RocCurveDisplay at 0x12466504850>"
      ]
     },
     "execution_count": 148,
     "metadata": {},
     "output_type": "execute_result"
    },
    {
     "data": {
      "image/png": "[encoded data removed]",
      "text/plain": [
       "<Figure size 432x288 with 1 Axes>"
      ]
     },
     "metadata": {
      "needs_background": "light"
     },
     "output_type": "display_data"
    }
   ],
   "source": [
    "plot_roc_curve(log_model, xtest, ytest)"
   ]
  },
  {
   "cell_type": "code",
   "execution_count": 252,
   "id": "a089ef06",
   "metadata": {},
   "outputs": [],
   "source": [
    "features = X.columns"
   ]
  },
  {
   "cell_type": "code",
   "execution_count": 269,
   "id": "2b792b55",
   "metadata": {},
   "outputs": [],
   "source": [
    "#Feature importance\n",
    "importance1 = log_model.coef_[0]"
   ]
  },
  {
   "cell_type": "code",
   "execution_count": 270,
   "id": "915f9e79",
   "metadata": {},
   "outputs": [
    {
     "data": {
      "text/plain": [
       "array([ 0.0546289 ,  0.02253109,  0.03631589, -0.02976436,  0.1714576 ,\n",
       "       -0.07078327,  0.20590473,  0.07370537,  0.35367632,  0.16065014,\n",
       "        0.38892289,  0.68704773,  0.93267591,  1.03145828,  0.83791171,\n",
       "       -0.08487426, -0.09209475, -0.08217566, -0.01612747, -0.02377795,\n",
       "        0.15353391,  0.02052688,  0.46718268,  0.45929287,  0.35509846,\n",
       "        0.21820206,  0.08975474,  0.1055207 ,  0.02988491])"
      ]
     },
     "execution_count": 270,
     "metadata": {},
     "output_type": "execute_result"
    }
   ],
   "source": [
    "importance1 "
   ]
  },
  {
   "cell_type": "code",
   "execution_count": 271,
   "id": "5d7a50f8",
   "metadata": {},
   "outputs": [],
   "source": [
    "feature_imp1 = pd.DataFrame({\"Variable\": features, \"Coefficient\": importance1 } ).round(decimals=2).sort_values(\"Coefficient\", ascending=False).style.bar(color= ['red', 'green'], align= 'zero')"
   ]
  },
  {
   "cell_type": "code",
   "execution_count": 272,
   "id": "e4c1fcc8",
   "metadata": {},
   "outputs": [
    {
     "data": {
      "text/html": [
       "<style  type=\"text/css\" >\n",
       "#T_51657_row0_col1{\n",
       "            width:  10em;\n",
       "             height:  80%;\n",
       "            background:  linear-gradient(90deg, transparent 50.0%, green 50.0%, green 100.0%, transparent 100.0%);\n",
       "        }#T_51657_row1_col1{\n",
       "            width:  10em;\n",
       "             height:  80%;\n",
       "            background:  linear-gradient(90deg, transparent 50.0%, green 50.0%, green 95.1%, transparent 95.1%);\n",
       "        }#T_51657_row2_col1{\n",
       "            width:  10em;\n",
       "             height:  80%;\n",
       "            background:  linear-gradient(90deg, transparent 50.0%, green 50.0%, green 90.8%, transparent 90.8%);\n",
       "        }#T_51657_row3_col1{\n",
       "            width:  10em;\n",
       "             height:  80%;\n",
       "            background:  linear-gradient(90deg, transparent 50.0%, green 50.0%, green 83.5%, transparent 83.5%);\n",
       "        }#T_51657_row4_col1{\n",
       "            width:  10em;\n",
       "             height:  80%;\n",
       "            background:  linear-gradient(90deg, transparent 50.0%, green 50.0%, green 72.8%, transparent 72.8%);\n",
       "        }#T_51657_row5_col1{\n",
       "            width:  10em;\n",
       "             height:  80%;\n",
       "            background:  linear-gradient(90deg, transparent 50.0%, green 50.0%, green 72.3%, transparent 72.3%);\n",
       "        }#T_51657_row6_col1{\n",
       "            width:  10em;\n",
       "             height:  80%;\n",
       "            background:  linear-gradient(90deg, transparent 50.0%, green 50.0%, green 68.9%, transparent 68.9%);\n",
       "        }#T_51657_row7_col1{\n",
       "            width:  10em;\n",
       "             height:  80%;\n",
       "            background:  linear-gradient(90deg, transparent 50.0%, green 50.0%, green 67.5%, transparent 67.5%);\n",
       "        }#T_51657_row8_col1{\n",
       "            width:  10em;\n",
       "             height:  80%;\n",
       "            background:  linear-gradient(90deg, transparent 50.0%, green 50.0%, green 67.0%, transparent 67.0%);\n",
       "        }#T_51657_row9_col1{\n",
       "            width:  10em;\n",
       "             height:  80%;\n",
       "            background:  linear-gradient(90deg, transparent 50.0%, green 50.0%, green 60.7%, transparent 60.7%);\n",
       "        }#T_51657_row10_col1{\n",
       "            width:  10em;\n",
       "             height:  80%;\n",
       "            background:  linear-gradient(90deg, transparent 50.0%, green 50.0%, green 60.2%, transparent 60.2%);\n",
       "        }#T_51657_row11_col1{\n",
       "            width:  10em;\n",
       "             height:  80%;\n",
       "            background:  linear-gradient(90deg, transparent 50.0%, green 50.0%, green 58.3%, transparent 58.3%);\n",
       "        }#T_51657_row12_col1{\n",
       "            width:  10em;\n",
       "             height:  80%;\n",
       "            background:  linear-gradient(90deg, transparent 50.0%, green 50.0%, green 57.8%, transparent 57.8%);\n",
       "        }#T_51657_row13_col1{\n",
       "            width:  10em;\n",
       "             height:  80%;\n",
       "            background:  linear-gradient(90deg, transparent 50.0%, green 50.0%, green 57.3%, transparent 57.3%);\n",
       "        }#T_51657_row14_col1{\n",
       "            width:  10em;\n",
       "             height:  80%;\n",
       "            background:  linear-gradient(90deg, transparent 50.0%, green 50.0%, green 55.3%, transparent 55.3%);\n",
       "        }#T_51657_row15_col1{\n",
       "            width:  10em;\n",
       "             height:  80%;\n",
       "            background:  linear-gradient(90deg, transparent 50.0%, green 50.0%, green 54.4%, transparent 54.4%);\n",
       "        }#T_51657_row16_col1{\n",
       "            width:  10em;\n",
       "             height:  80%;\n",
       "            background:  linear-gradient(90deg, transparent 50.0%, green 50.0%, green 53.4%, transparent 53.4%);\n",
       "        }#T_51657_row17_col1{\n",
       "            width:  10em;\n",
       "             height:  80%;\n",
       "            background:  linear-gradient(90deg, transparent 50.0%, green 50.0%, green 52.4%, transparent 52.4%);\n",
       "        }#T_51657_row18_col1{\n",
       "            width:  10em;\n",
       "             height:  80%;\n",
       "            background:  linear-gradient(90deg, transparent 50.0%, green 50.0%, green 51.9%, transparent 51.9%);\n",
       "        }#T_51657_row19_col1{\n",
       "            width:  10em;\n",
       "             height:  80%;\n",
       "            background:  linear-gradient(90deg, transparent 50.0%, green 50.0%, green 51.5%, transparent 51.5%);\n",
       "        }#T_51657_row20_col1,#T_51657_row21_col1{\n",
       "            width:  10em;\n",
       "             height:  80%;\n",
       "            background:  linear-gradient(90deg, transparent 50.0%, green 50.0%, green 51.0%, transparent 51.0%);\n",
       "        }#T_51657_row22_col1,#T_51657_row23_col1{\n",
       "            width:  10em;\n",
       "             height:  80%;\n",
       "            background:  linear-gradient(90deg, transparent 49.0%, red 49.0%, red 50.0%, transparent 50.0%);\n",
       "        }#T_51657_row24_col1{\n",
       "            width:  10em;\n",
       "             height:  80%;\n",
       "            background:  linear-gradient(90deg, transparent 48.5%, red 48.5%, red 50.0%, transparent 50.0%);\n",
       "        }#T_51657_row25_col1{\n",
       "            width:  10em;\n",
       "             height:  80%;\n",
       "            background:  linear-gradient(90deg, transparent 46.6%, red 46.6%, red 50.0%, transparent 50.0%);\n",
       "        }#T_51657_row26_col1,#T_51657_row27_col1{\n",
       "            width:  10em;\n",
       "             height:  80%;\n",
       "            background:  linear-gradient(90deg, transparent 46.1%, red 46.1%, red 50.0%, transparent 50.0%);\n",
       "        }#T_51657_row28_col1{\n",
       "            width:  10em;\n",
       "             height:  80%;\n",
       "            background:  linear-gradient(90deg, transparent 45.6%, red 45.6%, red 50.0%, transparent 50.0%);\n",
       "        }</style><table id=\"T_51657_\" ><thead>    <tr>        <th class=\"blank level0\" ></th>        <th class=\"col_heading level0 col0\" >Variable</th>        <th class=\"col_heading level0 col1\" >Coefficient</th>    </tr></thead><tbody>\n",
       "                <tr>\n",
       "                        <th id=\"T_51657_level0_row0\" class=\"row_heading level0 row0\" >13</th>\n",
       "                        <td id=\"T_51657_row0_col0\" class=\"data row0 col0\" >AgeCategory_70-79</td>\n",
       "                        <td id=\"T_51657_row0_col1\" class=\"data row0 col1\" >1.030000</td>\n",
       "            </tr>\n",
       "            <tr>\n",
       "                        <th id=\"T_51657_level0_row1\" class=\"row_heading level0 row1\" >12</th>\n",
       "                        <td id=\"T_51657_row1_col0\" class=\"data row1 col0\" >AgeCategory_60-69</td>\n",
       "                        <td id=\"T_51657_row1_col1\" class=\"data row1 col1\" >0.930000</td>\n",
       "            </tr>\n",
       "            <tr>\n",
       "                        <th id=\"T_51657_level0_row2\" class=\"row_heading level0 row2\" >14</th>\n",
       "                        <td id=\"T_51657_row2_col0\" class=\"data row2 col0\" >AgeCategory_80 or older</td>\n",
       "                        <td id=\"T_51657_row2_col1\" class=\"data row2 col1\" >0.840000</td>\n",
       "            </tr>\n",
       "            <tr>\n",
       "                        <th id=\"T_51657_level0_row3\" class=\"row_heading level0 row3\" >11</th>\n",
       "                        <td id=\"T_51657_row3_col0\" class=\"data row3 col0\" >AgeCategory_50-59</td>\n",
       "                        <td id=\"T_51657_row3_col1\" class=\"data row3 col1\" >0.690000</td>\n",
       "            </tr>\n",
       "            <tr>\n",
       "                        <th id=\"T_51657_level0_row4\" class=\"row_heading level0 row4\" >22</th>\n",
       "                        <td id=\"T_51657_row4_col0\" class=\"data row4 col0\" >GenHealth_Fair</td>\n",
       "                        <td id=\"T_51657_row4_col1\" class=\"data row4 col1\" >0.470000</td>\n",
       "            </tr>\n",
       "            <tr>\n",
       "                        <th id=\"T_51657_level0_row5\" class=\"row_heading level0 row5\" >23</th>\n",
       "                        <td id=\"T_51657_row5_col0\" class=\"data row5 col0\" >GenHealth_Good</td>\n",
       "                        <td id=\"T_51657_row5_col1\" class=\"data row5 col1\" >0.460000</td>\n",
       "            </tr>\n",
       "            <tr>\n",
       "                        <th id=\"T_51657_level0_row6\" class=\"row_heading level0 row6\" >10</th>\n",
       "                        <td id=\"T_51657_row6_col0\" class=\"data row6 col0\" >AgeCategory_40-49</td>\n",
       "                        <td id=\"T_51657_row6_col1\" class=\"data row6 col1\" >0.390000</td>\n",
       "            </tr>\n",
       "            <tr>\n",
       "                        <th id=\"T_51657_level0_row7\" class=\"row_heading level0 row7\" >24</th>\n",
       "                        <td id=\"T_51657_row7_col0\" class=\"data row7 col0\" >GenHealth_Poor</td>\n",
       "                        <td id=\"T_51657_row7_col1\" class=\"data row7 col1\" >0.360000</td>\n",
       "            </tr>\n",
       "            <tr>\n",
       "                        <th id=\"T_51657_level0_row8\" class=\"row_heading level0 row8\" >8</th>\n",
       "                        <td id=\"T_51657_row8_col0\" class=\"data row8 col0\" >Sex_Male</td>\n",
       "                        <td id=\"T_51657_row8_col1\" class=\"data row8 col1\" >0.350000</td>\n",
       "            </tr>\n",
       "            <tr>\n",
       "                        <th id=\"T_51657_level0_row9\" class=\"row_heading level0 row9\" >25</th>\n",
       "                        <td id=\"T_51657_row9_col0\" class=\"data row9 col0\" >GenHealth_Very good</td>\n",
       "                        <td id=\"T_51657_row9_col1\" class=\"data row9 col1\" >0.220000</td>\n",
       "            </tr>\n",
       "            <tr>\n",
       "                        <th id=\"T_51657_level0_row10\" class=\"row_heading level0 row10\" >6</th>\n",
       "                        <td id=\"T_51657_row10_col0\" class=\"data row10 col0\" >Stroke_Yes</td>\n",
       "                        <td id=\"T_51657_row10_col1\" class=\"data row10 col1\" >0.210000</td>\n",
       "            </tr>\n",
       "            <tr>\n",
       "                        <th id=\"T_51657_level0_row11\" class=\"row_heading level0 row11\" >4</th>\n",
       "                        <td id=\"T_51657_row11_col0\" class=\"data row11 col0\" >Smoking_Yes</td>\n",
       "                        <td id=\"T_51657_row11_col1\" class=\"data row11 col1\" >0.170000</td>\n",
       "            </tr>\n",
       "            <tr>\n",
       "                        <th id=\"T_51657_level0_row12\" class=\"row_heading level0 row12\" >9</th>\n",
       "                        <td id=\"T_51657_row12_col0\" class=\"data row12 col0\" >AgeCategory_30-39</td>\n",
       "                        <td id=\"T_51657_row12_col1\" class=\"data row12 col1\" >0.160000</td>\n",
       "            </tr>\n",
       "            <tr>\n",
       "                        <th id=\"T_51657_level0_row13\" class=\"row_heading level0 row13\" >20</th>\n",
       "                        <td id=\"T_51657_row13_col0\" class=\"data row13 col0\" >Diabetic_Yes</td>\n",
       "                        <td id=\"T_51657_row13_col1\" class=\"data row13 col1\" >0.150000</td>\n",
       "            </tr>\n",
       "            <tr>\n",
       "                        <th id=\"T_51657_level0_row14\" class=\"row_heading level0 row14\" >27</th>\n",
       "                        <td id=\"T_51657_row14_col0\" class=\"data row14 col0\" >KidneyDisease_Yes</td>\n",
       "                        <td id=\"T_51657_row14_col1\" class=\"data row14 col1\" >0.110000</td>\n",
       "            </tr>\n",
       "            <tr>\n",
       "                        <th id=\"T_51657_level0_row15\" class=\"row_heading level0 row15\" >26</th>\n",
       "                        <td id=\"T_51657_row15_col0\" class=\"data row15 col0\" >Asthma_Yes</td>\n",
       "                        <td id=\"T_51657_row15_col1\" class=\"data row15 col1\" >0.090000</td>\n",
       "            </tr>\n",
       "            <tr>\n",
       "                        <th id=\"T_51657_level0_row16\" class=\"row_heading level0 row16\" >7</th>\n",
       "                        <td id=\"T_51657_row16_col0\" class=\"data row16 col0\" >DiffWalking_Yes</td>\n",
       "                        <td id=\"T_51657_row16_col1\" class=\"data row16 col1\" >0.070000</td>\n",
       "            </tr>\n",
       "            <tr>\n",
       "                        <th id=\"T_51657_level0_row17\" class=\"row_heading level0 row17\" >0</th>\n",
       "                        <td id=\"T_51657_row17_col0\" class=\"data row17 col0\" >BMI</td>\n",
       "                        <td id=\"T_51657_row17_col1\" class=\"data row17 col1\" >0.050000</td>\n",
       "            </tr>\n",
       "            <tr>\n",
       "                        <th id=\"T_51657_level0_row18\" class=\"row_heading level0 row18\" >2</th>\n",
       "                        <td id=\"T_51657_row18_col0\" class=\"data row18 col0\" >MentalHealth</td>\n",
       "                        <td id=\"T_51657_row18_col1\" class=\"data row18 col1\" >0.040000</td>\n",
       "            </tr>\n",
       "            <tr>\n",
       "                        <th id=\"T_51657_level0_row19\" class=\"row_heading level0 row19\" >28</th>\n",
       "                        <td id=\"T_51657_row19_col0\" class=\"data row19 col0\" >SkinCancer_Yes</td>\n",
       "                        <td id=\"T_51657_row19_col1\" class=\"data row19 col1\" >0.030000</td>\n",
       "            </tr>\n",
       "            <tr>\n",
       "                        <th id=\"T_51657_level0_row20\" class=\"row_heading level0 row20\" >21</th>\n",
       "                        <td id=\"T_51657_row20_col0\" class=\"data row20 col0\" >PhysicalActivity_Yes</td>\n",
       "                        <td id=\"T_51657_row20_col1\" class=\"data row20 col1\" >0.020000</td>\n",
       "            </tr>\n",
       "            <tr>\n",
       "                        <th id=\"T_51657_level0_row21\" class=\"row_heading level0 row21\" >1</th>\n",
       "                        <td id=\"T_51657_row21_col0\" class=\"data row21 col0\" >PhysicalHealth</td>\n",
       "                        <td id=\"T_51657_row21_col1\" class=\"data row21 col1\" >0.020000</td>\n",
       "            </tr>\n",
       "            <tr>\n",
       "                        <th id=\"T_51657_level0_row22\" class=\"row_heading level0 row22\" >18</th>\n",
       "                        <td id=\"T_51657_row22_col0\" class=\"data row22 col0\" >Race_Other</td>\n",
       "                        <td id=\"T_51657_row22_col1\" class=\"data row22 col1\" >-0.020000</td>\n",
       "            </tr>\n",
       "            <tr>\n",
       "                        <th id=\"T_51657_level0_row23\" class=\"row_heading level0 row23\" >19</th>\n",
       "                        <td id=\"T_51657_row23_col0\" class=\"data row23 col0\" >Race_White</td>\n",
       "                        <td id=\"T_51657_row23_col1\" class=\"data row23 col1\" >-0.020000</td>\n",
       "            </tr>\n",
       "            <tr>\n",
       "                        <th id=\"T_51657_level0_row24\" class=\"row_heading level0 row24\" >3</th>\n",
       "                        <td id=\"T_51657_row24_col0\" class=\"data row24 col0\" >SleepTime</td>\n",
       "                        <td id=\"T_51657_row24_col1\" class=\"data row24 col1\" >-0.030000</td>\n",
       "            </tr>\n",
       "            <tr>\n",
       "                        <th id=\"T_51657_level0_row25\" class=\"row_heading level0 row25\" >5</th>\n",
       "                        <td id=\"T_51657_row25_col0\" class=\"data row25 col0\" >AlcoholDrinking_Yes</td>\n",
       "                        <td id=\"T_51657_row25_col1\" class=\"data row25 col1\" >-0.070000</td>\n",
       "            </tr>\n",
       "            <tr>\n",
       "                        <th id=\"T_51657_level0_row26\" class=\"row_heading level0 row26\" >17</th>\n",
       "                        <td id=\"T_51657_row26_col0\" class=\"data row26 col0\" >Race_Hispanic</td>\n",
       "                        <td id=\"T_51657_row26_col1\" class=\"data row26 col1\" >-0.080000</td>\n",
       "            </tr>\n",
       "            <tr>\n",
       "                        <th id=\"T_51657_level0_row27\" class=\"row_heading level0 row27\" >15</th>\n",
       "                        <td id=\"T_51657_row27_col0\" class=\"data row27 col0\" >Race_Asian</td>\n",
       "                        <td id=\"T_51657_row27_col1\" class=\"data row27 col1\" >-0.080000</td>\n",
       "            </tr>\n",
       "            <tr>\n",
       "                        <th id=\"T_51657_level0_row28\" class=\"row_heading level0 row28\" >16</th>\n",
       "                        <td id=\"T_51657_row28_col0\" class=\"data row28 col0\" >Race_Black</td>\n",
       "                        <td id=\"T_51657_row28_col1\" class=\"data row28 col1\" >-0.090000</td>\n",
       "            </tr>\n",
       "    </tbody></table>"
      ],
      "text/plain": [
       "<pandas.io.formats.style.Styler at 0x1249df285e0>"
      ]
     },
     "execution_count": 272,
     "metadata": {},
     "output_type": "execute_result"
    }
   ],
   "source": [
    "feature_imp1"
   ]
  },
  {
   "cell_type": "code",
   "execution_count": null,
   "id": "8b53a458",
   "metadata": {},
   "outputs": [],
   "source": []
  },
  {
   "cell_type": "code",
   "execution_count": null,
   "id": "76e09f78",
   "metadata": {},
   "outputs": [],
   "source": []
  },
  {
   "cell_type": "markdown",
   "id": "882332b7",
   "metadata": {},
   "source": [
    "### 2) Logistic Regression after SMOTE"
   ]
  },
  {
   "cell_type": "code",
   "execution_count": 149,
   "id": "21be0a4a",
   "metadata": {},
   "outputs": [],
   "source": [
    "from imblearn.over_sampling import SMOTE"
   ]
  },
  {
   "cell_type": "code",
   "execution_count": 150,
   "id": "9936499a",
   "metadata": {},
   "outputs": [],
   "source": [
    "sm = SMOTE(random_state=10)"
   ]
  },
  {
   "cell_type": "code",
   "execution_count": 151,
   "id": "427539b1",
   "metadata": {},
   "outputs": [
    {
     "name": "stdout",
     "output_type": "stream",
     "text": [
      "Count of minority class records before upsampling: 21809\n",
      "Count of existing Majority class records: 219564\n"
     ]
    }
   ],
   "source": [
    "# Before smote\n",
    "print(f'Count of minority class records before upsampling: {xtrain[ytrain==1].shape[0]}')\n",
    "print(f'Count of existing Majority class records: {xtrain[ytrain==0].shape[0]}')"
   ]
  },
  {
   "cell_type": "code",
   "execution_count": 152,
   "id": "6b1414e8",
   "metadata": {},
   "outputs": [],
   "source": [
    "xtrain_smote, ytrain_smote = sm.fit_resample(xtrain,ytrain)"
   ]
  },
  {
   "cell_type": "code",
   "execution_count": 153,
   "id": "8406d519",
   "metadata": {},
   "outputs": [
    {
     "name": "stdout",
     "output_type": "stream",
     "text": [
      "Count of minority class(class 1) records after SMOTE : 219564\n",
      "Count of existing Majority class(class 0) records: 219564\n"
     ]
    }
   ],
   "source": [
    "# After smote\n",
    "print(f'Count of minority class(class 1) records after SMOTE : {xtrain_smote[ytrain_smote==1].shape[0]}')\n",
    "print(f'Count of existing Majority class(class 0) records: {xtrain_smote[ytrain_smote==0].shape[0]}')"
   ]
  },
  {
   "cell_type": "code",
   "execution_count": 154,
   "id": "9b6f2672",
   "metadata": {},
   "outputs": [
    {
     "data": {
      "text/plain": [
       "0    219564\n",
       "1    219564\n",
       "Name: HeartDisease, dtype: int64"
      ]
     },
     "execution_count": 154,
     "metadata": {},
     "output_type": "execute_result"
    }
   ],
   "source": [
    "ytrain_smote.value_counts()"
   ]
  },
  {
   "cell_type": "code",
   "execution_count": null,
   "id": "7ce8722b",
   "metadata": {},
   "outputs": [],
   "source": []
  },
  {
   "cell_type": "code",
   "execution_count": 155,
   "id": "7ef82904",
   "metadata": {},
   "outputs": [
    {
     "data": {
      "text/plain": [
       "LogisticRegression()"
      ]
     },
     "execution_count": 155,
     "metadata": {},
     "output_type": "execute_result"
    }
   ],
   "source": [
    "log_model2= LogisticRegression()\n",
    "log_model2.fit(xtrain_smote, ytrain_smote)"
   ]
  },
  {
   "cell_type": "code",
   "execution_count": 156,
   "id": "714ca763",
   "metadata": {},
   "outputs": [
    {
     "data": {
      "text/plain": [
       "array([[0.15813035, 0.84186965],\n",
       "       [0.70294244, 0.29705756],\n",
       "       [0.35509641, 0.64490359],\n",
       "       ...,\n",
       "       [0.6998168 , 0.3001832 ],\n",
       "       [0.34737362, 0.65262638],\n",
       "       [0.21149059, 0.78850941]])"
      ]
     },
     "execution_count": 156,
     "metadata": {},
     "output_type": "execute_result"
    }
   ],
   "source": [
    "prob_pred_y2 = log_model2.predict_proba(xtest)\n",
    "prob_pred_y2"
   ]
  },
  {
   "cell_type": "code",
   "execution_count": 157,
   "id": "7d63919a",
   "metadata": {},
   "outputs": [
    {
     "data": {
      "text/plain": [
       "array([1, 0, 1, ..., 0, 1, 1], dtype=int64)"
      ]
     },
     "execution_count": 157,
     "metadata": {},
     "output_type": "execute_result"
    }
   ],
   "source": [
    "pred_y2 = log_model2.predict(xtest)\n",
    "pred_y2"
   ]
  },
  {
   "cell_type": "code",
   "execution_count": 158,
   "id": "daaeca4e",
   "metadata": {},
   "outputs": [
    {
     "data": {
      "text/plain": [
       "0.740620442794644"
      ]
     },
     "execution_count": 158,
     "metadata": {},
     "output_type": "execute_result"
    }
   ],
   "source": [
    "accuracy_score(ytest,pred_y2)"
   ]
  },
  {
   "cell_type": "code",
   "execution_count": 159,
   "id": "3279f1a9",
   "metadata": {},
   "outputs": [
    {
     "data": {
      "text/plain": [
       "0.7899853264856933"
      ]
     },
     "execution_count": 159,
     "metadata": {},
     "output_type": "execute_result"
    }
   ],
   "source": [
    "recall_score(ytest,pred_y2)"
   ]
  },
  {
   "cell_type": "code",
   "execution_count": 160,
   "id": "ac5b963f",
   "metadata": {},
   "outputs": [
    {
     "data": {
      "text/plain": [
       "0.22892526841713617"
      ]
     },
     "execution_count": 160,
     "metadata": {},
     "output_type": "execute_result"
    }
   ],
   "source": [
    "precision_score(ytest,pred_y2)"
   ]
  },
  {
   "cell_type": "code",
   "execution_count": 161,
   "id": "ff7f1eef",
   "metadata": {},
   "outputs": [
    {
     "data": {
      "text/plain": [
       "0.35498227973295976"
      ]
     },
     "execution_count": 161,
     "metadata": {},
     "output_type": "execute_result"
    }
   ],
   "source": [
    "f1_score(ytest,pred_y2)"
   ]
  },
  {
   "cell_type": "code",
   "execution_count": 162,
   "id": "4d502d91",
   "metadata": {},
   "outputs": [
    {
     "name": "stdout",
     "output_type": "stream",
     "text": [
      "              precision    recall  f1-score   support\n",
      "\n",
      "           0       0.97      0.74      0.84     54892\n",
      "           1       0.23      0.79      0.35      5452\n",
      "\n",
      "    accuracy                           0.74     60344\n",
      "   macro avg       0.60      0.76      0.60     60344\n",
      "weighted avg       0.91      0.74      0.79     60344\n",
      "\n"
     ]
    }
   ],
   "source": [
    "print(classification_report(ytest,pred_y2))"
   ]
  },
  {
   "cell_type": "code",
   "execution_count": 163,
   "id": "6071584b",
   "metadata": {},
   "outputs": [
    {
     "data": {
      "text/plain": [
       "<sklearn.metrics._plot.roc_curve.RocCurveDisplay at 0x1246d018c40>"
      ]
     },
     "execution_count": 163,
     "metadata": {},
     "output_type": "execute_result"
    },
    {
     "data": {
      "image/png": "[encoded data removed]",
      "text/plain": [
       "<Figure size 432x288 with 1 Axes>"
      ]
     },
     "metadata": {
      "needs_background": "light"
     },
     "output_type": "display_data"
    }
   ],
   "source": [
    "plot_roc_curve(log_model2, xtest, ytest)"
   ]
  },
  {
   "cell_type": "code",
   "execution_count": 164,
   "id": "946d2cdb",
   "metadata": {},
   "outputs": [
    {
     "data": {
      "text/plain": [
       "<sklearn.metrics._plot.confusion_matrix.ConfusionMatrixDisplay at 0x124042ca1f0>"
      ]
     },
     "execution_count": 164,
     "metadata": {},
     "output_type": "execute_result"
    },
    {
     "data": {
      "image/png": "[encoded data removed]",
      "text/plain": [
       "<Figure size 432x288 with 2 Axes>"
      ]
     },
     "metadata": {
      "needs_background": "light"
     },
     "output_type": "display_data"
    }
   ],
   "source": [
    "plot_confusion_matrix(log_model2, xtest, ytest)"
   ]
  },
  {
   "cell_type": "code",
   "execution_count": 273,
   "id": "f862bce5",
   "metadata": {},
   "outputs": [],
   "source": [
    "#Feature importance\n",
    "importance2 = log_model2.coef_[0]"
   ]
  },
  {
   "cell_type": "code",
   "execution_count": 274,
   "id": "aa69411d",
   "metadata": {},
   "outputs": [],
   "source": [
    "feature_imp2 = pd.DataFrame({\"Variable\": features, \"Coefficient\": importance2 } ).round(decimals=2).sort_values(\"Coefficient\", ascending=False).style.bar(color= ['red', 'green'], align= 'zero')"
   ]
  },
  {
   "cell_type": "code",
   "execution_count": 275,
   "id": "1d2cd837",
   "metadata": {},
   "outputs": [
    {
     "data": {
      "text/html": [
       "<style  type=\"text/css\" >\n",
       "#T_4c099_row0_col1{\n",
       "            width:  10em;\n",
       "             height:  80%;\n",
       "            background:  linear-gradient(90deg, transparent 50.0%, green 50.0%, green 100.0%, transparent 100.0%);\n",
       "        }#T_4c099_row1_col1{\n",
       "            width:  10em;\n",
       "             height:  80%;\n",
       "            background:  linear-gradient(90deg, transparent 50.0%, green 50.0%, green 95.0%, transparent 95.0%);\n",
       "        }#T_4c099_row2_col1{\n",
       "            width:  10em;\n",
       "             height:  80%;\n",
       "            background:  linear-gradient(90deg, transparent 50.0%, green 50.0%, green 91.0%, transparent 91.0%);\n",
       "        }#T_4c099_row3_col1{\n",
       "            width:  10em;\n",
       "             height:  80%;\n",
       "            background:  linear-gradient(90deg, transparent 50.0%, green 50.0%, green 83.3%, transparent 83.3%);\n",
       "        }#T_4c099_row4_col1{\n",
       "            width:  10em;\n",
       "             height:  80%;\n",
       "            background:  linear-gradient(90deg, transparent 50.0%, green 50.0%, green 74.3%, transparent 74.3%);\n",
       "        }#T_4c099_row5_col1{\n",
       "            width:  10em;\n",
       "             height:  80%;\n",
       "            background:  linear-gradient(90deg, transparent 50.0%, green 50.0%, green 73.4%, transparent 73.4%);\n",
       "        }#T_4c099_row6_col1{\n",
       "            width:  10em;\n",
       "             height:  80%;\n",
       "            background:  linear-gradient(90deg, transparent 50.0%, green 50.0%, green 68.5%, transparent 68.5%);\n",
       "        }#T_4c099_row7_col1,#T_4c099_row8_col1{\n",
       "            width:  10em;\n",
       "             height:  80%;\n",
       "            background:  linear-gradient(90deg, transparent 50.0%, green 50.0%, green 68.0%, transparent 68.0%);\n",
       "        }#T_4c099_row9_col1{\n",
       "            width:  10em;\n",
       "             height:  80%;\n",
       "            background:  linear-gradient(90deg, transparent 50.0%, green 50.0%, green 61.7%, transparent 61.7%);\n",
       "        }#T_4c099_row10_col1{\n",
       "            width:  10em;\n",
       "             height:  80%;\n",
       "            background:  linear-gradient(90deg, transparent 50.0%, green 50.0%, green 60.4%, transparent 60.4%);\n",
       "        }#T_4c099_row11_col1{\n",
       "            width:  10em;\n",
       "             height:  80%;\n",
       "            background:  linear-gradient(90deg, transparent 50.0%, green 50.0%, green 59.0%, transparent 59.0%);\n",
       "        }#T_4c099_row12_col1{\n",
       "            width:  10em;\n",
       "             height:  80%;\n",
       "            background:  linear-gradient(90deg, transparent 50.0%, green 50.0%, green 58.1%, transparent 58.1%);\n",
       "        }#T_4c099_row13_col1{\n",
       "            width:  10em;\n",
       "             height:  80%;\n",
       "            background:  linear-gradient(90deg, transparent 50.0%, green 50.0%, green 57.2%, transparent 57.2%);\n",
       "        }#T_4c099_row14_col1{\n",
       "            width:  10em;\n",
       "             height:  80%;\n",
       "            background:  linear-gradient(90deg, transparent 50.0%, green 50.0%, green 56.8%, transparent 56.8%);\n",
       "        }#T_4c099_row15_col1{\n",
       "            width:  10em;\n",
       "             height:  80%;\n",
       "            background:  linear-gradient(90deg, transparent 50.0%, green 50.0%, green 55.0%, transparent 55.0%);\n",
       "        }#T_4c099_row16_col1{\n",
       "            width:  10em;\n",
       "             height:  80%;\n",
       "            background:  linear-gradient(90deg, transparent 50.0%, green 50.0%, green 54.1%, transparent 54.1%);\n",
       "        }#T_4c099_row17_col1{\n",
       "            width:  10em;\n",
       "             height:  80%;\n",
       "            background:  linear-gradient(90deg, transparent 50.0%, green 50.0%, green 53.6%, transparent 53.6%);\n",
       "        }#T_4c099_row18_col1,#T_4c099_row19_col1{\n",
       "            width:  10em;\n",
       "             height:  80%;\n",
       "            background:  linear-gradient(90deg, transparent 50.0%, green 50.0%, green 52.7%, transparent 52.7%);\n",
       "        }#T_4c099_row20_col1,#T_4c099_row21_col1{\n",
       "            width:  10em;\n",
       "             height:  80%;\n",
       "            background:  linear-gradient(90deg, transparent 50.0%, green 50.0%, green 51.8%, transparent 51.8%);\n",
       "        }#T_4c099_row22_col1{\n",
       "            width:  10em;\n",
       "             height:  80%;\n",
       "            background:  linear-gradient(90deg, transparent 50.0%, green 50.0%, green 51.4%, transparent 51.4%);\n",
       "        }#T_4c099_row23_col1,#T_4c099_row24_col1{\n",
       "            width:  10em;\n",
       "             height:  80%;\n",
       "            background:  linear-gradient(90deg, transparent 50.0%, green 50.0%, green 50.5%, transparent 50.5%);\n",
       "        }#T_4c099_row25_col1{\n",
       "            width:  10em;\n",
       "             height:  80%;\n",
       "        }#T_4c099_row26_col1{\n",
       "            width:  10em;\n",
       "             height:  80%;\n",
       "            background:  linear-gradient(90deg, transparent 49.5%, red 49.5%, red 50.0%, transparent 50.0%);\n",
       "        }#T_4c099_row27_col1{\n",
       "            width:  10em;\n",
       "             height:  80%;\n",
       "            background:  linear-gradient(90deg, transparent 48.2%, red 48.2%, red 50.0%, transparent 50.0%);\n",
       "        }#T_4c099_row28_col1{\n",
       "            width:  10em;\n",
       "             height:  80%;\n",
       "            background:  linear-gradient(90deg, transparent 45.9%, red 45.9%, red 50.0%, transparent 50.0%);\n",
       "        }</style><table id=\"T_4c099_\" ><thead>    <tr>        <th class=\"blank level0\" ></th>        <th class=\"col_heading level0 col0\" >Variable</th>        <th class=\"col_heading level0 col1\" >Coefficient</th>    </tr></thead><tbody>\n",
       "                <tr>\n",
       "                        <th id=\"T_4c099_level0_row0\" class=\"row_heading level0 row0\" >13</th>\n",
       "                        <td id=\"T_4c099_row0_col0\" class=\"data row0 col0\" >AgeCategory_70-79</td>\n",
       "                        <td id=\"T_4c099_row0_col1\" class=\"data row0 col1\" >1.110000</td>\n",
       "            </tr>\n",
       "            <tr>\n",
       "                        <th id=\"T_4c099_level0_row1\" class=\"row_heading level0 row1\" >12</th>\n",
       "                        <td id=\"T_4c099_row1_col0\" class=\"data row1 col0\" >AgeCategory_60-69</td>\n",
       "                        <td id=\"T_4c099_row1_col1\" class=\"data row1 col1\" >1.000000</td>\n",
       "            </tr>\n",
       "            <tr>\n",
       "                        <th id=\"T_4c099_level0_row2\" class=\"row_heading level0 row2\" >14</th>\n",
       "                        <td id=\"T_4c099_row2_col0\" class=\"data row2 col0\" >AgeCategory_80 or older</td>\n",
       "                        <td id=\"T_4c099_row2_col1\" class=\"data row2 col1\" >0.910000</td>\n",
       "            </tr>\n",
       "            <tr>\n",
       "                        <th id=\"T_4c099_level0_row3\" class=\"row_heading level0 row3\" >11</th>\n",
       "                        <td id=\"T_4c099_row3_col0\" class=\"data row3 col0\" >AgeCategory_50-59</td>\n",
       "                        <td id=\"T_4c099_row3_col1\" class=\"data row3 col1\" >0.740000</td>\n",
       "            </tr>\n",
       "            <tr>\n",
       "                        <th id=\"T_4c099_level0_row4\" class=\"row_heading level0 row4\" >22</th>\n",
       "                        <td id=\"T_4c099_row4_col0\" class=\"data row4 col0\" >GenHealth_Fair</td>\n",
       "                        <td id=\"T_4c099_row4_col1\" class=\"data row4 col1\" >0.540000</td>\n",
       "            </tr>\n",
       "            <tr>\n",
       "                        <th id=\"T_4c099_level0_row5\" class=\"row_heading level0 row5\" >23</th>\n",
       "                        <td id=\"T_4c099_row5_col0\" class=\"data row5 col0\" >GenHealth_Good</td>\n",
       "                        <td id=\"T_4c099_row5_col1\" class=\"data row5 col1\" >0.520000</td>\n",
       "            </tr>\n",
       "            <tr>\n",
       "                        <th id=\"T_4c099_level0_row6\" class=\"row_heading level0 row6\" >10</th>\n",
       "                        <td id=\"T_4c099_row6_col0\" class=\"data row6 col0\" >AgeCategory_40-49</td>\n",
       "                        <td id=\"T_4c099_row6_col1\" class=\"data row6 col1\" >0.410000</td>\n",
       "            </tr>\n",
       "            <tr>\n",
       "                        <th id=\"T_4c099_level0_row7\" class=\"row_heading level0 row7\" >8</th>\n",
       "                        <td id=\"T_4c099_row7_col0\" class=\"data row7 col0\" >Sex_Male</td>\n",
       "                        <td id=\"T_4c099_row7_col1\" class=\"data row7 col1\" >0.400000</td>\n",
       "            </tr>\n",
       "            <tr>\n",
       "                        <th id=\"T_4c099_level0_row8\" class=\"row_heading level0 row8\" >24</th>\n",
       "                        <td id=\"T_4c099_row8_col0\" class=\"data row8 col0\" >GenHealth_Poor</td>\n",
       "                        <td id=\"T_4c099_row8_col1\" class=\"data row8 col1\" >0.400000</td>\n",
       "            </tr>\n",
       "            <tr>\n",
       "                        <th id=\"T_4c099_level0_row9\" class=\"row_heading level0 row9\" >25</th>\n",
       "                        <td id=\"T_4c099_row9_col0\" class=\"data row9 col0\" >GenHealth_Very good</td>\n",
       "                        <td id=\"T_4c099_row9_col1\" class=\"data row9 col1\" >0.260000</td>\n",
       "            </tr>\n",
       "            <tr>\n",
       "                        <th id=\"T_4c099_level0_row10\" class=\"row_heading level0 row10\" >6</th>\n",
       "                        <td id=\"T_4c099_row10_col0\" class=\"data row10 col0\" >Stroke_Yes</td>\n",
       "                        <td id=\"T_4c099_row10_col1\" class=\"data row10 col1\" >0.230000</td>\n",
       "            </tr>\n",
       "            <tr>\n",
       "                        <th id=\"T_4c099_level0_row11\" class=\"row_heading level0 row11\" >4</th>\n",
       "                        <td id=\"T_4c099_row11_col0\" class=\"data row11 col0\" >Smoking_Yes</td>\n",
       "                        <td id=\"T_4c099_row11_col1\" class=\"data row11 col1\" >0.200000</td>\n",
       "            </tr>\n",
       "            <tr>\n",
       "                        <th id=\"T_4c099_level0_row12\" class=\"row_heading level0 row12\" >9</th>\n",
       "                        <td id=\"T_4c099_row12_col0\" class=\"data row12 col0\" >AgeCategory_30-39</td>\n",
       "                        <td id=\"T_4c099_row12_col1\" class=\"data row12 col1\" >0.180000</td>\n",
       "            </tr>\n",
       "            <tr>\n",
       "                        <th id=\"T_4c099_level0_row13\" class=\"row_heading level0 row13\" >19</th>\n",
       "                        <td id=\"T_4c099_row13_col0\" class=\"data row13 col0\" >Race_White</td>\n",
       "                        <td id=\"T_4c099_row13_col1\" class=\"data row13 col1\" >0.160000</td>\n",
       "            </tr>\n",
       "            <tr>\n",
       "                        <th id=\"T_4c099_level0_row14\" class=\"row_heading level0 row14\" >20</th>\n",
       "                        <td id=\"T_4c099_row14_col0\" class=\"data row14 col0\" >Diabetic_Yes</td>\n",
       "                        <td id=\"T_4c099_row14_col1\" class=\"data row14 col1\" >0.150000</td>\n",
       "            </tr>\n",
       "            <tr>\n",
       "                        <th id=\"T_4c099_level0_row15\" class=\"row_heading level0 row15\" >27</th>\n",
       "                        <td id=\"T_4c099_row15_col0\" class=\"data row15 col0\" >KidneyDisease_Yes</td>\n",
       "                        <td id=\"T_4c099_row15_col1\" class=\"data row15 col1\" >0.110000</td>\n",
       "            </tr>\n",
       "            <tr>\n",
       "                        <th id=\"T_4c099_level0_row16\" class=\"row_heading level0 row16\" >7</th>\n",
       "                        <td id=\"T_4c099_row16_col0\" class=\"data row16 col0\" >DiffWalking_Yes</td>\n",
       "                        <td id=\"T_4c099_row16_col1\" class=\"data row16 col1\" >0.090000</td>\n",
       "            </tr>\n",
       "            <tr>\n",
       "                        <th id=\"T_4c099_level0_row17\" class=\"row_heading level0 row17\" >26</th>\n",
       "                        <td id=\"T_4c099_row17_col0\" class=\"data row17 col0\" >Asthma_Yes</td>\n",
       "                        <td id=\"T_4c099_row17_col1\" class=\"data row17 col1\" >0.080000</td>\n",
       "            </tr>\n",
       "            <tr>\n",
       "                        <th id=\"T_4c099_level0_row18\" class=\"row_heading level0 row18\" >17</th>\n",
       "                        <td id=\"T_4c099_row18_col0\" class=\"data row18 col0\" >Race_Hispanic</td>\n",
       "                        <td id=\"T_4c099_row18_col1\" class=\"data row18 col1\" >0.060000</td>\n",
       "            </tr>\n",
       "            <tr>\n",
       "                        <th id=\"T_4c099_level0_row19\" class=\"row_heading level0 row19\" >18</th>\n",
       "                        <td id=\"T_4c099_row19_col0\" class=\"data row19 col0\" >Race_Other</td>\n",
       "                        <td id=\"T_4c099_row19_col1\" class=\"data row19 col1\" >0.060000</td>\n",
       "            </tr>\n",
       "            <tr>\n",
       "                        <th id=\"T_4c099_level0_row20\" class=\"row_heading level0 row20\" >21</th>\n",
       "                        <td id=\"T_4c099_row20_col0\" class=\"data row20 col0\" >PhysicalActivity_Yes</td>\n",
       "                        <td id=\"T_4c099_row20_col1\" class=\"data row20 col1\" >0.040000</td>\n",
       "            </tr>\n",
       "            <tr>\n",
       "                        <th id=\"T_4c099_level0_row21\" class=\"row_heading level0 row21\" >0</th>\n",
       "                        <td id=\"T_4c099_row21_col0\" class=\"data row21 col0\" >BMI</td>\n",
       "                        <td id=\"T_4c099_row21_col1\" class=\"data row21 col1\" >0.040000</td>\n",
       "            </tr>\n",
       "            <tr>\n",
       "                        <th id=\"T_4c099_level0_row22\" class=\"row_heading level0 row22\" >16</th>\n",
       "                        <td id=\"T_4c099_row22_col0\" class=\"data row22 col0\" >Race_Black</td>\n",
       "                        <td id=\"T_4c099_row22_col1\" class=\"data row22 col1\" >0.030000</td>\n",
       "            </tr>\n",
       "            <tr>\n",
       "                        <th id=\"T_4c099_level0_row23\" class=\"row_heading level0 row23\" >2</th>\n",
       "                        <td id=\"T_4c099_row23_col0\" class=\"data row23 col0\" >MentalHealth</td>\n",
       "                        <td id=\"T_4c099_row23_col1\" class=\"data row23 col1\" >0.010000</td>\n",
       "            </tr>\n",
       "            <tr>\n",
       "                        <th id=\"T_4c099_level0_row24\" class=\"row_heading level0 row24\" >28</th>\n",
       "                        <td id=\"T_4c099_row24_col0\" class=\"data row24 col0\" >SkinCancer_Yes</td>\n",
       "                        <td id=\"T_4c099_row24_col1\" class=\"data row24 col1\" >0.010000</td>\n",
       "            </tr>\n",
       "            <tr>\n",
       "                        <th id=\"T_4c099_level0_row25\" class=\"row_heading level0 row25\" >1</th>\n",
       "                        <td id=\"T_4c099_row25_col0\" class=\"data row25 col0\" >PhysicalHealth</td>\n",
       "                        <td id=\"T_4c099_row25_col1\" class=\"data row25 col1\" >0.000000</td>\n",
       "            </tr>\n",
       "            <tr>\n",
       "                        <th id=\"T_4c099_level0_row26\" class=\"row_heading level0 row26\" >15</th>\n",
       "                        <td id=\"T_4c099_row26_col0\" class=\"data row26 col0\" >Race_Asian</td>\n",
       "                        <td id=\"T_4c099_row26_col1\" class=\"data row26 col1\" >-0.010000</td>\n",
       "            </tr>\n",
       "            <tr>\n",
       "                        <th id=\"T_4c099_level0_row27\" class=\"row_heading level0 row27\" >3</th>\n",
       "                        <td id=\"T_4c099_row27_col0\" class=\"data row27 col0\" >SleepTime</td>\n",
       "                        <td id=\"T_4c099_row27_col1\" class=\"data row27 col1\" >-0.040000</td>\n",
       "            </tr>\n",
       "            <tr>\n",
       "                        <th id=\"T_4c099_level0_row28\" class=\"row_heading level0 row28\" >5</th>\n",
       "                        <td id=\"T_4c099_row28_col0\" class=\"data row28 col0\" >AlcoholDrinking_Yes</td>\n",
       "                        <td id=\"T_4c099_row28_col1\" class=\"data row28 col1\" >-0.090000</td>\n",
       "            </tr>\n",
       "    </tbody></table>"
      ],
      "text/plain": [
       "<pandas.io.formats.style.Styler at 0x1249df4c730>"
      ]
     },
     "execution_count": 275,
     "metadata": {},
     "output_type": "execute_result"
    }
   ],
   "source": [
    "feature_imp2"
   ]
  },
  {
   "cell_type": "code",
   "execution_count": null,
   "id": "decea3ed",
   "metadata": {},
   "outputs": [],
   "source": []
  },
  {
   "cell_type": "markdown",
   "id": "e4a92361",
   "metadata": {},
   "source": [
    "### Result: Logistic Regression after SMOTE yields lower False Negatives (hence a better recall_score) which is a better result\n"
   ]
  },
  {
   "cell_type": "code",
   "execution_count": null,
   "id": "a6affb9c",
   "metadata": {},
   "outputs": [],
   "source": []
  },
  {
   "cell_type": "code",
   "execution_count": null,
   "id": "47e97f95",
   "metadata": {},
   "outputs": [],
   "source": []
  },
  {
   "cell_type": "markdown",
   "id": "4eb2d0c4",
   "metadata": {},
   "source": [
    "## 3) KNN Classifier without SMOTE"
   ]
  },
  {
   "cell_type": "code",
   "execution_count": 174,
   "id": "fd302f7e",
   "metadata": {},
   "outputs": [],
   "source": [
    "from sklearn.neighbors import KNeighborsClassifier"
   ]
  },
  {
   "cell_type": "code",
   "execution_count": 175,
   "id": "a2a8cb81",
   "metadata": {},
   "outputs": [],
   "source": [
    "knn = KNeighborsClassifier()"
   ]
  },
  {
   "cell_type": "code",
   "execution_count": 176,
   "id": "4e494d44",
   "metadata": {},
   "outputs": [],
   "source": [
    "knn.fit(xtrain,ytrain)\n",
    "y_pred_knn = knn.predict(xtest)"
   ]
  },
  {
   "cell_type": "code",
   "execution_count": null,
   "id": "0a64d554",
   "metadata": {},
   "outputs": [],
   "source": []
  },
  {
   "cell_type": "code",
   "execution_count": 177,
   "id": "a359543a",
   "metadata": {},
   "outputs": [
    {
     "data": {
      "text/plain": [
       "0.9010506429802466"
      ]
     },
     "execution_count": 177,
     "metadata": {},
     "output_type": "execute_result"
    }
   ],
   "source": [
    "accuracy_score(ytest,y_pred_knn)"
   ]
  },
  {
   "cell_type": "code",
   "execution_count": 178,
   "id": "ef6beeb0",
   "metadata": {},
   "outputs": [
    {
     "data": {
      "text/plain": [
       "0.37799717912552894"
      ]
     },
     "execution_count": 178,
     "metadata": {},
     "output_type": "execute_result"
    }
   ],
   "source": [
    "precision_score(ytest,y_pred_knn)"
   ]
  },
  {
   "cell_type": "code",
   "execution_count": 179,
   "id": "a1604751",
   "metadata": {},
   "outputs": [
    {
     "data": {
      "text/plain": [
       "0.1474688187820983"
      ]
     },
     "execution_count": 179,
     "metadata": {},
     "output_type": "execute_result"
    }
   ],
   "source": [
    "recall_score(ytest,y_pred_knn)"
   ]
  },
  {
   "cell_type": "code",
   "execution_count": 180,
   "id": "fb5b48a6",
   "metadata": {},
   "outputs": [
    {
     "data": {
      "text/plain": [
       "0.21216519329726877"
      ]
     },
     "execution_count": 180,
     "metadata": {},
     "output_type": "execute_result"
    }
   ],
   "source": [
    "f1_score(ytest,y_pred_knn)\n"
   ]
  },
  {
   "cell_type": "code",
   "execution_count": 181,
   "id": "efe32851",
   "metadata": {},
   "outputs": [
    {
     "name": "stdout",
     "output_type": "stream",
     "text": [
      "              precision    recall  f1-score   support\n",
      "\n",
      "           0       0.92      0.98      0.95     54892\n",
      "           1       0.38      0.15      0.21      5452\n",
      "\n",
      "    accuracy                           0.90     60344\n",
      "   macro avg       0.65      0.56      0.58     60344\n",
      "weighted avg       0.87      0.90      0.88     60344\n",
      "\n"
     ]
    }
   ],
   "source": [
    "print(classification_report(ytest,y_pred_knn))"
   ]
  },
  {
   "cell_type": "code",
   "execution_count": 182,
   "id": "0d2c47b2",
   "metadata": {},
   "outputs": [
    {
     "data": {
      "text/plain": [
       "<sklearn.metrics._plot.confusion_matrix.ConfusionMatrixDisplay at 0x124660f0760>"
      ]
     },
     "execution_count": 182,
     "metadata": {},
     "output_type": "execute_result"
    },
    {
     "data": {
      "image/png": "[encoded data removed]",
      "text/plain": [
       "<Figure size 432x288 with 2 Axes>"
      ]
     },
     "metadata": {
      "needs_background": "light"
     },
     "output_type": "display_data"
    }
   ],
   "source": [
    "plot_confusion_matrix(knn, xtest, ytest)"
   ]
  },
  {
   "cell_type": "code",
   "execution_count": 183,
   "id": "acf073a2",
   "metadata": {},
   "outputs": [
    {
     "data": {
      "text/plain": [
       "<sklearn.metrics._plot.roc_curve.RocCurveDisplay at 0x1246ce58eb0>"
      ]
     },
     "execution_count": 183,
     "metadata": {},
     "output_type": "execute_result"
    },
    {
     "data": {
      "image/png": "[encoded data removed]",
      "text/plain": [
       "<Figure size 432x288 with 1 Axes>"
      ]
     },
     "metadata": {
      "needs_background": "light"
     },
     "output_type": "display_data"
    }
   ],
   "source": [
    "plot_roc_curve(knn, xtest, ytest)"
   ]
  },
  {
   "cell_type": "code",
   "execution_count": null,
   "id": "d9d680ca",
   "metadata": {},
   "outputs": [],
   "source": []
  },
  {
   "cell_type": "markdown",
   "id": "818d0a33",
   "metadata": {},
   "source": [
    "## 4) KNN Classifier after SMOTE"
   ]
  },
  {
   "cell_type": "code",
   "execution_count": 184,
   "id": "787cb51d",
   "metadata": {},
   "outputs": [],
   "source": [
    "knn2 = KNeighborsClassifier()"
   ]
  },
  {
   "cell_type": "code",
   "execution_count": 185,
   "id": "0cd46705",
   "metadata": {},
   "outputs": [
    {
     "data": {
      "text/plain": [
       "KNeighborsClassifier()"
      ]
     },
     "execution_count": 185,
     "metadata": {},
     "output_type": "execute_result"
    }
   ],
   "source": [
    "knn2.fit(xtrain_smote, ytrain_smote)"
   ]
  },
  {
   "cell_type": "code",
   "execution_count": 186,
   "id": "e5d3b599",
   "metadata": {},
   "outputs": [],
   "source": [
    "y_pred_knn2 = knn2.predict(xtest)"
   ]
  },
  {
   "cell_type": "code",
   "execution_count": 187,
   "id": "79e0665a",
   "metadata": {},
   "outputs": [
    {
     "data": {
      "text/plain": [
       "0.7765146493437625"
      ]
     },
     "execution_count": 187,
     "metadata": {},
     "output_type": "execute_result"
    }
   ],
   "source": [
    "accuracy_score(ytest,y_pred_knn2)"
   ]
  },
  {
   "cell_type": "code",
   "execution_count": 188,
   "id": "a29f4639",
   "metadata": {},
   "outputs": [
    {
     "data": {
      "text/plain": [
       "0.21595248196860417"
      ]
     },
     "execution_count": 188,
     "metadata": {},
     "output_type": "execute_result"
    }
   ],
   "source": [
    "precision_score(ytest,y_pred_knn2)"
   ]
  },
  {
   "cell_type": "code",
   "execution_count": 189,
   "id": "58754812",
   "metadata": {},
   "outputs": [
    {
     "data": {
      "text/plain": [
       "0.5601614086573734"
      ]
     },
     "execution_count": 189,
     "metadata": {},
     "output_type": "execute_result"
    }
   ],
   "source": [
    "recall_score(ytest,y_pred_knn2)"
   ]
  },
  {
   "cell_type": "code",
   "execution_count": 190,
   "id": "164b3b4a",
   "metadata": {},
   "outputs": [
    {
     "data": {
      "text/plain": [
       "0.3117280800244973"
      ]
     },
     "execution_count": 190,
     "metadata": {},
     "output_type": "execute_result"
    }
   ],
   "source": [
    "f1_score(ytest,y_pred_knn2)\n"
   ]
  },
  {
   "cell_type": "code",
   "execution_count": 191,
   "id": "00e17a97",
   "metadata": {},
   "outputs": [
    {
     "name": "stdout",
     "output_type": "stream",
     "text": [
      "              precision    recall  f1-score   support\n",
      "\n",
      "           0       0.95      0.80      0.87     54892\n",
      "           1       0.22      0.56      0.31      5452\n",
      "\n",
      "    accuracy                           0.78     60344\n",
      "   macro avg       0.58      0.68      0.59     60344\n",
      "weighted avg       0.88      0.78      0.82     60344\n",
      "\n"
     ]
    }
   ],
   "source": [
    "print(classification_report(ytest,y_pred_knn2))"
   ]
  },
  {
   "cell_type": "code",
   "execution_count": 192,
   "id": "6331b19e",
   "metadata": {},
   "outputs": [
    {
     "data": {
      "text/plain": [
       "<sklearn.metrics._plot.confusion_matrix.ConfusionMatrixDisplay at 0x1240432c1c0>"
      ]
     },
     "execution_count": 192,
     "metadata": {},
     "output_type": "execute_result"
    },
    {
     "data": {
      "image/png": "[encoded data removed]",
      "text/plain": [
       "<Figure size 432x288 with 2 Axes>"
      ]
     },
     "metadata": {
      "needs_background": "light"
     },
     "output_type": "display_data"
    }
   ],
   "source": [
    "plot_confusion_matrix(knn2, xtest, ytest)"
   ]
  },
  {
   "cell_type": "code",
   "execution_count": 193,
   "id": "592ab3ee",
   "metadata": {},
   "outputs": [
    {
     "data": {
      "text/plain": [
       "<sklearn.metrics._plot.roc_curve.RocCurveDisplay at 0x124043b6af0>"
      ]
     },
     "execution_count": 193,
     "metadata": {},
     "output_type": "execute_result"
    },
    {
     "data": {
      "image/png": "[encoded data removed]",
      "text/plain": [
       "<Figure size 432x288 with 1 Axes>"
      ]
     },
     "metadata": {
      "needs_background": "light"
     },
     "output_type": "display_data"
    }
   ],
   "source": [
    "plot_roc_curve(knn2, xtest, ytest)"
   ]
  },
  {
   "cell_type": "markdown",
   "id": "f0c27177",
   "metadata": {},
   "source": [
    "## Result: KNN Classifier after SMOTE yields lower False Negatives (hence a better recall_score) and a better ROC-AUC Score (0.73 vs 0.71)"
   ]
  },
  {
   "cell_type": "code",
   "execution_count": null,
   "id": "05635f53",
   "metadata": {},
   "outputs": [],
   "source": []
  },
  {
   "cell_type": "code",
   "execution_count": null,
   "id": "77e2ef1a",
   "metadata": {},
   "outputs": [],
   "source": []
  },
  {
   "cell_type": "markdown",
   "id": "94591901",
   "metadata": {},
   "source": [
    "## 5) Naive Bayes without SMOTE"
   ]
  },
  {
   "cell_type": "code",
   "execution_count": 194,
   "id": "8978a017",
   "metadata": {},
   "outputs": [],
   "source": [
    "from sklearn.naive_bayes import GaussianNB"
   ]
  },
  {
   "cell_type": "code",
   "execution_count": 195,
   "id": "2954196d",
   "metadata": {},
   "outputs": [],
   "source": [
    "gnb = GaussianNB()"
   ]
  },
  {
   "cell_type": "code",
   "execution_count": 196,
   "id": "e2f2e115",
   "metadata": {},
   "outputs": [
    {
     "data": {
      "text/plain": [
       "GaussianNB()"
      ]
     },
     "execution_count": 196,
     "metadata": {},
     "output_type": "execute_result"
    }
   ],
   "source": [
    "gnb.fit(xtrain,ytrain)"
   ]
  },
  {
   "cell_type": "code",
   "execution_count": 197,
   "id": "a552be8d",
   "metadata": {},
   "outputs": [],
   "source": [
    "y_pred_nb = gnb.predict(xtest)"
   ]
  },
  {
   "cell_type": "code",
   "execution_count": null,
   "id": "a6b1e98f",
   "metadata": {},
   "outputs": [],
   "source": []
  },
  {
   "cell_type": "code",
   "execution_count": 198,
   "id": "5ce6fff9",
   "metadata": {},
   "outputs": [
    {
     "data": {
      "text/plain": [
       "0.8116465597242476"
      ]
     },
     "execution_count": 198,
     "metadata": {},
     "output_type": "execute_result"
    }
   ],
   "source": [
    "accuracy_score(ytest,y_pred_nb)"
   ]
  },
  {
   "cell_type": "code",
   "execution_count": 199,
   "id": "fa29947c",
   "metadata": {},
   "outputs": [
    {
     "data": {
      "text/plain": [
       "0.2573444936812736"
      ]
     },
     "execution_count": 199,
     "metadata": {},
     "output_type": "execute_result"
    }
   ],
   "source": [
    "precision_score(ytest,y_pred_nb)"
   ]
  },
  {
   "cell_type": "code",
   "execution_count": 200,
   "id": "b6149b96",
   "metadata": {},
   "outputs": [
    {
     "data": {
      "text/plain": [
       "0.5752017608217168"
      ]
     },
     "execution_count": 200,
     "metadata": {},
     "output_type": "execute_result"
    }
   ],
   "source": [
    "recall_score(ytest,y_pred_nb)"
   ]
  },
  {
   "cell_type": "code",
   "execution_count": 201,
   "id": "a70b7935",
   "metadata": {},
   "outputs": [
    {
     "data": {
      "text/plain": [
       "0.3555958725479079"
      ]
     },
     "execution_count": 201,
     "metadata": {},
     "output_type": "execute_result"
    }
   ],
   "source": [
    "f1_score(ytest,y_pred_nb)\n"
   ]
  },
  {
   "cell_type": "code",
   "execution_count": 202,
   "id": "5d062b1a",
   "metadata": {},
   "outputs": [
    {
     "name": "stdout",
     "output_type": "stream",
     "text": [
      "              precision    recall  f1-score   support\n",
      "\n",
      "           0       0.95      0.84      0.89     54892\n",
      "           1       0.26      0.58      0.36      5452\n",
      "\n",
      "    accuracy                           0.81     60344\n",
      "   macro avg       0.60      0.71      0.62     60344\n",
      "weighted avg       0.89      0.81      0.84     60344\n",
      "\n"
     ]
    }
   ],
   "source": [
    "print(classification_report(ytest,y_pred_nb))"
   ]
  },
  {
   "cell_type": "code",
   "execution_count": 203,
   "id": "2651f498",
   "metadata": {},
   "outputs": [
    {
     "data": {
      "text/plain": [
       "<sklearn.metrics._plot.confusion_matrix.ConfusionMatrixDisplay at 0x1240b1aea30>"
      ]
     },
     "execution_count": 203,
     "metadata": {},
     "output_type": "execute_result"
    },
    {
     "data": {
      "image/png": "[encoded data removed]",
      "text/plain": [
       "<Figure size 432x288 with 2 Axes>"
      ]
     },
     "metadata": {
      "needs_background": "light"
     },
     "output_type": "display_data"
    }
   ],
   "source": [
    "plot_confusion_matrix(gnb, xtest, ytest)"
   ]
  },
  {
   "cell_type": "code",
   "execution_count": 204,
   "id": "1c3c3a2d",
   "metadata": {},
   "outputs": [
    {
     "data": {
      "text/plain": [
       "<sklearn.metrics._plot.roc_curve.RocCurveDisplay at 0x1246cdb4d00>"
      ]
     },
     "execution_count": 204,
     "metadata": {},
     "output_type": "execute_result"
    },
    {
     "data": {
      "image/png": "[encoded data removed]",
      "text/plain": [
       "<Figure size 432x288 with 1 Axes>"
      ]
     },
     "metadata": {
      "needs_background": "light"
     },
     "output_type": "display_data"
    }
   ],
   "source": [
    "plot_roc_curve(gnb, xtest, ytest)"
   ]
  },
  {
   "cell_type": "code",
   "execution_count": null,
   "id": "ed4f2798",
   "metadata": {},
   "outputs": [],
   "source": []
  },
  {
   "cell_type": "code",
   "execution_count": null,
   "id": "f891049c",
   "metadata": {},
   "outputs": [],
   "source": []
  },
  {
   "cell_type": "markdown",
   "id": "afcee090",
   "metadata": {},
   "source": [
    "## 6) Naive Bayes after SMOTE"
   ]
  },
  {
   "cell_type": "code",
   "execution_count": 205,
   "id": "8e829b73",
   "metadata": {},
   "outputs": [],
   "source": [
    "gnb2 = GaussianNB()"
   ]
  },
  {
   "cell_type": "code",
   "execution_count": 206,
   "id": "1a5bf8de",
   "metadata": {},
   "outputs": [
    {
     "data": {
      "text/plain": [
       "GaussianNB()"
      ]
     },
     "execution_count": 206,
     "metadata": {},
     "output_type": "execute_result"
    }
   ],
   "source": [
    "gnb2.fit(xtrain_smote,ytrain_smote)"
   ]
  },
  {
   "cell_type": "code",
   "execution_count": 207,
   "id": "96bbcdfb",
   "metadata": {},
   "outputs": [],
   "source": [
    "y_pred_nb2 = gnb2.predict(xtest)"
   ]
  },
  {
   "cell_type": "code",
   "execution_count": 208,
   "id": "88179324",
   "metadata": {},
   "outputs": [
    {
     "data": {
      "text/plain": [
       "0.7454427946440408"
      ]
     },
     "execution_count": 208,
     "metadata": {},
     "output_type": "execute_result"
    }
   ],
   "source": [
    "accuracy_score(ytest,y_pred_nb2)"
   ]
  },
  {
   "cell_type": "code",
   "execution_count": 209,
   "id": "2cf5663a",
   "metadata": {},
   "outputs": [
    {
     "data": {
      "text/plain": [
       "0.22076311784929267"
      ]
     },
     "execution_count": 209,
     "metadata": {},
     "output_type": "execute_result"
    }
   ],
   "source": [
    "precision_score(ytest,y_pred_nb2)"
   ]
  },
  {
   "cell_type": "code",
   "execution_count": 210,
   "id": "3c230d24",
   "metadata": {},
   "outputs": [
    {
     "data": {
      "text/plain": [
       "0.7184519442406456"
      ]
     },
     "execution_count": 210,
     "metadata": {},
     "output_type": "execute_result"
    }
   ],
   "source": [
    "recall_score(ytest,y_pred_nb2)"
   ]
  },
  {
   "cell_type": "code",
   "execution_count": 211,
   "id": "59184af5",
   "metadata": {},
   "outputs": [
    {
     "data": {
      "text/plain": [
       "0.3377452037076956"
      ]
     },
     "execution_count": 211,
     "metadata": {},
     "output_type": "execute_result"
    }
   ],
   "source": [
    "f1_score(ytest,y_pred_nb2)\n"
   ]
  },
  {
   "cell_type": "code",
   "execution_count": 212,
   "id": "14e574dc",
   "metadata": {},
   "outputs": [
    {
     "name": "stdout",
     "output_type": "stream",
     "text": [
      "              precision    recall  f1-score   support\n",
      "\n",
      "           0       0.96      0.75      0.84     54892\n",
      "           1       0.22      0.72      0.34      5452\n",
      "\n",
      "    accuracy                           0.75     60344\n",
      "   macro avg       0.59      0.73      0.59     60344\n",
      "weighted avg       0.90      0.75      0.80     60344\n",
      "\n"
     ]
    }
   ],
   "source": [
    "print(classification_report(ytest,y_pred_nb2))"
   ]
  },
  {
   "cell_type": "code",
   "execution_count": 213,
   "id": "f464051d",
   "metadata": {},
   "outputs": [
    {
     "data": {
      "text/plain": [
       "<sklearn.metrics._plot.confusion_matrix.ConfusionMatrixDisplay at 0x124042f7fa0>"
      ]
     },
     "execution_count": 213,
     "metadata": {},
     "output_type": "execute_result"
    },
    {
     "data": {
      "image/png": "[encoded data removed]",
      "text/plain": [
       "<Figure size 432x288 with 2 Axes>"
      ]
     },
     "metadata": {
      "needs_background": "light"
     },
     "output_type": "display_data"
    }
   ],
   "source": [
    "plot_confusion_matrix(gnb2, xtest, ytest)"
   ]
  },
  {
   "cell_type": "code",
   "execution_count": 214,
   "id": "707584b6",
   "metadata": {},
   "outputs": [
    {
     "data": {
      "text/plain": [
       "<sklearn.metrics._plot.roc_curve.RocCurveDisplay at 0x124049f3f10>"
      ]
     },
     "execution_count": 214,
     "metadata": {},
     "output_type": "execute_result"
    },
    {
     "data": {
      "image/png": "[encoded data removed]",
      "text/plain": [
       "<Figure size 432x288 with 1 Axes>"
      ]
     },
     "metadata": {
      "needs_background": "light"
     },
     "output_type": "display_data"
    }
   ],
   "source": [
    "plot_roc_curve(gnb2, xtest, ytest)"
   ]
  },
  {
   "cell_type": "markdown",
   "id": "1d3d5c89",
   "metadata": {},
   "source": [
    "## Result: Naive Bayes after SMOTE yields lower False Negatives (hence a better recall_score) which is a better result"
   ]
  },
  {
   "cell_type": "code",
   "execution_count": null,
   "id": "7f20c216",
   "metadata": {},
   "outputs": [],
   "source": []
  },
  {
   "cell_type": "code",
   "execution_count": null,
   "id": "2122a29a",
   "metadata": {},
   "outputs": [],
   "source": []
  },
  {
   "cell_type": "markdown",
   "id": "e44c7c7c",
   "metadata": {},
   "source": [
    "## 7) Random Forest Classifier"
   ]
  },
  {
   "cell_type": "code",
   "execution_count": 215,
   "id": "21201caa",
   "metadata": {},
   "outputs": [],
   "source": [
    "from sklearn.ensemble import RandomForestClassifier"
   ]
  },
  {
   "cell_type": "code",
   "execution_count": 216,
   "id": "e4543fbd",
   "metadata": {},
   "outputs": [],
   "source": [
    "rf = RandomForestClassifier(n_estimators=80,oob_score=True,random_state=40) "
   ]
  },
  {
   "cell_type": "code",
   "execution_count": 217,
   "id": "0da3643b",
   "metadata": {},
   "outputs": [
    {
     "data": {
      "text/plain": [
       "RandomForestClassifier(n_estimators=80, oob_score=True, random_state=40)"
      ]
     },
     "execution_count": 217,
     "metadata": {},
     "output_type": "execute_result"
    }
   ],
   "source": [
    "rf.fit(xtrain_smote,ytrain_smote)"
   ]
  },
  {
   "cell_type": "code",
   "execution_count": 218,
   "id": "eda249b2",
   "metadata": {},
   "outputs": [
    {
     "data": {
      "text/plain": [
       "0.9163797343826857"
      ]
     },
     "execution_count": 218,
     "metadata": {},
     "output_type": "execute_result"
    }
   ],
   "source": [
    "rf.oob_score_\n"
   ]
  },
  {
   "cell_type": "code",
   "execution_count": 219,
   "id": "993a6509",
   "metadata": {},
   "outputs": [
    {
     "name": "stdout",
     "output_type": "stream",
     "text": [
      "For n_estimators =  20\n",
      "OOB score is  0.9076761217685959\n",
      "************************\n",
      "For n_estimators =  30\n",
      "OOB score is  0.9119869377493578\n",
      "************************\n",
      "For n_estimators =  40\n",
      "OOB score is  0.9138679382776775\n",
      "************************\n",
      "For n_estimators =  50\n",
      "OOB score is  0.915120420469658\n",
      "************************\n",
      "For n_estimators =  60\n",
      "OOB score is  0.9156897305569219\n",
      "************************\n",
      "For n_estimators =  70\n",
      "OOB score is  0.9161633965495254\n",
      "************************\n",
      "For n_estimators =  80\n",
      "OOB score is  0.916311417172214\n",
      "************************\n",
      "For n_estimators =  90\n",
      "OOB score is  0.9164389426317612\n",
      "************************\n",
      "For n_estimators =  100\n",
      "OOB score is  0.9167463700788836\n",
      "************************\n",
      "For n_estimators =  110\n",
      "OOB score is  0.9170014209979778\n",
      "************************\n",
      "For n_estimators =  120\n",
      "OOB score is  0.9171608278224117\n",
      "************************\n",
      "For n_estimators =  130\n",
      "OOB score is  0.9170401340839117\n",
      "************************\n",
      "For n_estimators =  140\n",
      "OOB score is  0.9172245905521852\n",
      "************************\n",
      "For n_estimators =  150\n",
      "OOB score is  0.917254194676723\n",
      "************************\n",
      "For n_estimators =  160\n",
      "OOB score is  0.9173430070503361\n",
      "************************\n",
      "For n_estimators =  170\n",
      "OOB score is  0.9173521160117324\n",
      "************************\n",
      "For n_estimators =  180\n",
      "OOB score is  0.9174545918274398\n",
      "************************\n",
      "For n_estimators =  190\n",
      "OOB score is  0.9173680566941758\n",
      "************************\n",
      "For n_estimators =  200\n",
      "OOB score is  0.9173748884152229\n",
      "************************\n",
      "For n_estimators =  210\n",
      "OOB score is  0.9173999380590625\n",
      "************************\n",
      "For n_estimators =  220\n",
      "OOB score is  0.9174340966642983\n",
      "************************\n",
      "For n_estimators =  230\n",
      "OOB score is  0.9175274635186096\n",
      "************************\n",
      "For n_estimators =  240\n",
      "OOB score is  0.9175388497203549\n",
      "************************\n",
      "For n_estimators =  250\n",
      "OOB score is  0.9175320179993077\n",
      "************************\n",
      "For n_estimators =  260\n",
      "OOB score is  0.9176777613816473\n",
      "************************\n",
      "For n_estimators =  270\n",
      "OOB score is  0.9177392468710718\n",
      "************************\n",
      "For n_estimators =  280\n",
      "OOB score is  0.9177597420342133\n",
      "************************\n",
      "For n_estimators =  290\n",
      "OOB score is  0.9176390482957133\n",
      "************************\n"
     ]
    }
   ],
   "source": [
    "#Parameter tuning\n",
    "ls=[]\n",
    "for w in range(20,300,10):\n",
    "    clf=RandomForestClassifier(oob_score=True,n_estimators=w,random_state=400)\n",
    "    clf.fit(xtrain_smote,ytrain_smote)\n",
    "    oob=clf.oob_score_\n",
    "    print('For n_estimators = ', w)\n",
    "    print('OOB score is ', oob)\n",
    "    print('************************')\n",
    "    ls.append((oob,w))"
   ]
  },
  {
   "cell_type": "code",
   "execution_count": 220,
   "id": "92860780",
   "metadata": {},
   "outputs": [
    {
     "name": "stdout",
     "output_type": "stream",
     "text": [
      "(0.9177597420342133, 280)\n"
     ]
    }
   ],
   "source": [
    "print(max(ls))  # To get n_estimators having Max oob_score "
   ]
  },
  {
   "cell_type": "code",
   "execution_count": 221,
   "id": "97623205",
   "metadata": {},
   "outputs": [],
   "source": [
    "clf=RandomForestClassifier(oob_score=True,n_estimators=280,random_state=40)"
   ]
  },
  {
   "cell_type": "code",
   "execution_count": 222,
   "id": "5bdcb089",
   "metadata": {},
   "outputs": [
    {
     "data": {
      "text/plain": [
       "RandomForestClassifier(n_estimators=280, oob_score=True, random_state=40)"
      ]
     },
     "execution_count": 222,
     "metadata": {},
     "output_type": "execute_result"
    }
   ],
   "source": [
    "clf.fit(xtrain_smote,ytrain_smote)"
   ]
  },
  {
   "cell_type": "code",
   "execution_count": 223,
   "id": "e0646c4e",
   "metadata": {},
   "outputs": [
    {
     "data": {
      "text/plain": [
       "0.9176959793044397"
      ]
     },
     "execution_count": 223,
     "metadata": {},
     "output_type": "execute_result"
    }
   ],
   "source": [
    "clf.oob_score_"
   ]
  },
  {
   "cell_type": "code",
   "execution_count": 224,
   "id": "f1e442ac",
   "metadata": {},
   "outputs": [],
   "source": [
    "y_pred_rf = clf.predict(xtest)\n"
   ]
  },
  {
   "cell_type": "code",
   "execution_count": null,
   "id": "f32963ce",
   "metadata": {},
   "outputs": [],
   "source": []
  },
  {
   "cell_type": "code",
   "execution_count": 225,
   "id": "9f7cc123",
   "metadata": {},
   "outputs": [
    {
     "data": {
      "text/plain": [
       "0.861378098899642"
      ]
     },
     "execution_count": 225,
     "metadata": {},
     "output_type": "execute_result"
    }
   ],
   "source": [
    "accuracy_score(ytest,y_pred_rf)"
   ]
  },
  {
   "cell_type": "code",
   "execution_count": 226,
   "id": "04993679",
   "metadata": {},
   "outputs": [
    {
     "data": {
      "text/plain": [
       "0.2519161982626469"
      ]
     },
     "execution_count": 226,
     "metadata": {},
     "output_type": "execute_result"
    }
   ],
   "source": [
    "precision_score(ytest,y_pred_rf)"
   ]
  },
  {
   "cell_type": "code",
   "execution_count": 227,
   "id": "a42cb8df",
   "metadata": {},
   "outputs": [
    {
     "data": {
      "text/plain": [
       "0.2712765957446808"
      ]
     },
     "execution_count": 227,
     "metadata": {},
     "output_type": "execute_result"
    }
   ],
   "source": [
    "recall_score(ytest,y_pred_rf)"
   ]
  },
  {
   "cell_type": "code",
   "execution_count": 228,
   "id": "12405239",
   "metadata": {},
   "outputs": [
    {
     "data": {
      "text/plain": [
       "0.26123818775942764"
      ]
     },
     "execution_count": 228,
     "metadata": {},
     "output_type": "execute_result"
    }
   ],
   "source": [
    "f1_score(ytest,y_pred_rf)\n"
   ]
  },
  {
   "cell_type": "code",
   "execution_count": 229,
   "id": "f925e44a",
   "metadata": {},
   "outputs": [
    {
     "name": "stdout",
     "output_type": "stream",
     "text": [
      "              precision    recall  f1-score   support\n",
      "\n",
      "           0       0.93      0.92      0.92     54892\n",
      "           1       0.25      0.27      0.26      5452\n",
      "\n",
      "    accuracy                           0.86     60344\n",
      "   macro avg       0.59      0.60      0.59     60344\n",
      "weighted avg       0.87      0.86      0.86     60344\n",
      "\n"
     ]
    }
   ],
   "source": [
    "print(classification_report(ytest,y_pred_rf))"
   ]
  },
  {
   "cell_type": "code",
   "execution_count": 230,
   "id": "c10e6fcf",
   "metadata": {},
   "outputs": [
    {
     "data": {
      "text/plain": [
       "<sklearn.metrics._plot.confusion_matrix.ConfusionMatrixDisplay at 0x1240b37e100>"
      ]
     },
     "execution_count": 230,
     "metadata": {},
     "output_type": "execute_result"
    },
    {
     "data": {
      "image/png": "[encoded data removed]",
      "text/plain": [
       "<Figure size 432x288 with 2 Axes>"
      ]
     },
     "metadata": {
      "needs_background": "light"
     },
     "output_type": "display_data"
    }
   ],
   "source": [
    "plot_confusion_matrix(clf, xtest, ytest)"
   ]
  },
  {
   "cell_type": "code",
   "execution_count": 231,
   "id": "d8f47a01",
   "metadata": {},
   "outputs": [
    {
     "data": {
      "text/plain": [
       "<sklearn.metrics._plot.roc_curve.RocCurveDisplay at 0x1246d3f9dc0>"
      ]
     },
     "execution_count": 231,
     "metadata": {},
     "output_type": "execute_result"
    },
    {
     "data": {
      "image/png": "[encoded data removed]",
      "text/plain": [
       "<Figure size 432x288 with 1 Axes>"
      ]
     },
     "metadata": {
      "needs_background": "light"
     },
     "output_type": "display_data"
    }
   ],
   "source": [
    "plot_roc_curve(clf, xtest, ytest)"
   ]
  },
  {
   "cell_type": "code",
   "execution_count": 279,
   "id": "8e336f14",
   "metadata": {},
   "outputs": [],
   "source": [
    "importance_rf = clf.feature_importances_"
   ]
  },
  {
   "cell_type": "code",
   "execution_count": 283,
   "id": "8c18e9fe",
   "metadata": {},
   "outputs": [],
   "source": [
    "feature_imp_rf = pd.DataFrame({\"Variable\": features, \"feature_importance\": importance_rf } ).round(decimals=2).sort_values(\"feature_importance\", ascending=False).style.bar(color= ['red', 'green'], align= 'zero')"
   ]
  },
  {
   "cell_type": "code",
   "execution_count": 284,
   "id": "83e0cebb",
   "metadata": {},
   "outputs": [
    {
     "data": {
      "text/html": [
       "<style  type=\"text/css\" >\n",
       "#T_8cf16_row0_col1{\n",
       "            width:  10em;\n",
       "             height:  80%;\n",
       "            background:  linear-gradient(90deg, transparent 50.0%, green 50.0%, green 100.0%, transparent 100.0%);\n",
       "        }#T_8cf16_row1_col1{\n",
       "            width:  10em;\n",
       "             height:  80%;\n",
       "            background:  linear-gradient(90deg, transparent 50.0%, green 50.0%, green 77.5%, transparent 77.5%);\n",
       "        }#T_8cf16_row2_col1{\n",
       "            width:  10em;\n",
       "             height:  80%;\n",
       "            background:  linear-gradient(90deg, transparent 50.0%, green 50.0%, green 75.0%, transparent 75.0%);\n",
       "        }#T_8cf16_row3_col1,#T_8cf16_row4_col1,#T_8cf16_row5_col1{\n",
       "            width:  10em;\n",
       "             height:  80%;\n",
       "            background:  linear-gradient(90deg, transparent 50.0%, green 50.0%, green 65.0%, transparent 65.0%);\n",
       "        }#T_8cf16_row6_col1{\n",
       "            width:  10em;\n",
       "             height:  80%;\n",
       "            background:  linear-gradient(90deg, transparent 50.0%, green 50.0%, green 62.5%, transparent 62.5%);\n",
       "        }#T_8cf16_row7_col1,#T_8cf16_row8_col1{\n",
       "            width:  10em;\n",
       "             height:  80%;\n",
       "            background:  linear-gradient(90deg, transparent 50.0%, green 50.0%, green 60.0%, transparent 60.0%);\n",
       "        }#T_8cf16_row9_col1{\n",
       "            width:  10em;\n",
       "             height:  80%;\n",
       "            background:  linear-gradient(90deg, transparent 50.0%, green 50.0%, green 57.5%, transparent 57.5%);\n",
       "        }#T_8cf16_row10_col1,#T_8cf16_row11_col1,#T_8cf16_row12_col1,#T_8cf16_row13_col1,#T_8cf16_row14_col1,#T_8cf16_row15_col1,#T_8cf16_row16_col1,#T_8cf16_row17_col1,#T_8cf16_row18_col1{\n",
       "            width:  10em;\n",
       "             height:  80%;\n",
       "            background:  linear-gradient(90deg, transparent 50.0%, green 50.0%, green 55.0%, transparent 55.0%);\n",
       "        }#T_8cf16_row19_col1,#T_8cf16_row20_col1,#T_8cf16_row21_col1,#T_8cf16_row22_col1,#T_8cf16_row23_col1,#T_8cf16_row24_col1{\n",
       "            width:  10em;\n",
       "             height:  80%;\n",
       "            background:  linear-gradient(90deg, transparent 50.0%, green 50.0%, green 52.5%, transparent 52.5%);\n",
       "        }#T_8cf16_row25_col1,#T_8cf16_row26_col1,#T_8cf16_row27_col1,#T_8cf16_row28_col1{\n",
       "            width:  10em;\n",
       "             height:  80%;\n",
       "        }</style><table id=\"T_8cf16_\" ><thead>    <tr>        <th class=\"blank level0\" ></th>        <th class=\"col_heading level0 col0\" >Variable</th>        <th class=\"col_heading level0 col1\" >feature_importance</th>    </tr></thead><tbody>\n",
       "                <tr>\n",
       "                        <th id=\"T_8cf16_level0_row0\" class=\"row_heading level0 row0\" >0</th>\n",
       "                        <td id=\"T_8cf16_row0_col0\" class=\"data row0 col0\" >BMI</td>\n",
       "                        <td id=\"T_8cf16_row0_col1\" class=\"data row0 col1\" >0.200000</td>\n",
       "            </tr>\n",
       "            <tr>\n",
       "                        <th id=\"T_8cf16_level0_row1\" class=\"row_heading level0 row1\" >3</th>\n",
       "                        <td id=\"T_8cf16_row1_col0\" class=\"data row1 col0\" >SleepTime</td>\n",
       "                        <td id=\"T_8cf16_row1_col1\" class=\"data row1 col1\" >0.110000</td>\n",
       "            </tr>\n",
       "            <tr>\n",
       "                        <th id=\"T_8cf16_level0_row2\" class=\"row_heading level0 row2\" >1</th>\n",
       "                        <td id=\"T_8cf16_row2_col0\" class=\"data row2 col0\" >PhysicalHealth</td>\n",
       "                        <td id=\"T_8cf16_row2_col1\" class=\"data row2 col1\" >0.100000</td>\n",
       "            </tr>\n",
       "            <tr>\n",
       "                        <th id=\"T_8cf16_level0_row3\" class=\"row_heading level0 row3\" >2</th>\n",
       "                        <td id=\"T_8cf16_row3_col0\" class=\"data row3 col0\" >MentalHealth</td>\n",
       "                        <td id=\"T_8cf16_row3_col1\" class=\"data row3 col1\" >0.060000</td>\n",
       "            </tr>\n",
       "            <tr>\n",
       "                        <th id=\"T_8cf16_level0_row4\" class=\"row_heading level0 row4\" >4</th>\n",
       "                        <td id=\"T_8cf16_row4_col0\" class=\"data row4 col0\" >Smoking_Yes</td>\n",
       "                        <td id=\"T_8cf16_row4_col1\" class=\"data row4 col1\" >0.060000</td>\n",
       "            </tr>\n",
       "            <tr>\n",
       "                        <th id=\"T_8cf16_level0_row5\" class=\"row_heading level0 row5\" >8</th>\n",
       "                        <td id=\"T_8cf16_row5_col0\" class=\"data row5 col0\" >Sex_Male</td>\n",
       "                        <td id=\"T_8cf16_row5_col1\" class=\"data row5 col1\" >0.060000</td>\n",
       "            </tr>\n",
       "            <tr>\n",
       "                        <th id=\"T_8cf16_level0_row6\" class=\"row_heading level0 row6\" >7</th>\n",
       "                        <td id=\"T_8cf16_row6_col0\" class=\"data row6 col0\" >DiffWalking_Yes</td>\n",
       "                        <td id=\"T_8cf16_row6_col1\" class=\"data row6 col1\" >0.050000</td>\n",
       "            </tr>\n",
       "            <tr>\n",
       "                        <th id=\"T_8cf16_level0_row7\" class=\"row_heading level0 row7\" >13</th>\n",
       "                        <td id=\"T_8cf16_row7_col0\" class=\"data row7 col0\" >AgeCategory_70-79</td>\n",
       "                        <td id=\"T_8cf16_row7_col1\" class=\"data row7 col1\" >0.040000</td>\n",
       "            </tr>\n",
       "            <tr>\n",
       "                        <th id=\"T_8cf16_level0_row8\" class=\"row_heading level0 row8\" >20</th>\n",
       "                        <td id=\"T_8cf16_row8_col0\" class=\"data row8 col0\" >Diabetic_Yes</td>\n",
       "                        <td id=\"T_8cf16_row8_col1\" class=\"data row8 col1\" >0.040000</td>\n",
       "            </tr>\n",
       "            <tr>\n",
       "                        <th id=\"T_8cf16_level0_row9\" class=\"row_heading level0 row9\" >14</th>\n",
       "                        <td id=\"T_8cf16_row9_col0\" class=\"data row9 col0\" >AgeCategory_80 or older</td>\n",
       "                        <td id=\"T_8cf16_row9_col1\" class=\"data row9 col1\" >0.030000</td>\n",
       "            </tr>\n",
       "            <tr>\n",
       "                        <th id=\"T_8cf16_level0_row10\" class=\"row_heading level0 row10\" >19</th>\n",
       "                        <td id=\"T_8cf16_row10_col0\" class=\"data row10 col0\" >Race_White</td>\n",
       "                        <td id=\"T_8cf16_row10_col1\" class=\"data row10 col1\" >0.020000</td>\n",
       "            </tr>\n",
       "            <tr>\n",
       "                        <th id=\"T_8cf16_level0_row11\" class=\"row_heading level0 row11\" >21</th>\n",
       "                        <td id=\"T_8cf16_row11_col0\" class=\"data row11 col0\" >PhysicalActivity_Yes</td>\n",
       "                        <td id=\"T_8cf16_row11_col1\" class=\"data row11 col1\" >0.020000</td>\n",
       "            </tr>\n",
       "            <tr>\n",
       "                        <th id=\"T_8cf16_level0_row12\" class=\"row_heading level0 row12\" >12</th>\n",
       "                        <td id=\"T_8cf16_row12_col0\" class=\"data row12 col0\" >AgeCategory_60-69</td>\n",
       "                        <td id=\"T_8cf16_row12_col1\" class=\"data row12 col1\" >0.020000</td>\n",
       "            </tr>\n",
       "            <tr>\n",
       "                        <th id=\"T_8cf16_level0_row13\" class=\"row_heading level0 row13\" >9</th>\n",
       "                        <td id=\"T_8cf16_row13_col0\" class=\"data row13 col0\" >AgeCategory_30-39</td>\n",
       "                        <td id=\"T_8cf16_row13_col1\" class=\"data row13 col1\" >0.020000</td>\n",
       "            </tr>\n",
       "            <tr>\n",
       "                        <th id=\"T_8cf16_level0_row14\" class=\"row_heading level0 row14\" >6</th>\n",
       "                        <td id=\"T_8cf16_row14_col0\" class=\"data row14 col0\" >Stroke_Yes</td>\n",
       "                        <td id=\"T_8cf16_row14_col1\" class=\"data row14 col1\" >0.020000</td>\n",
       "            </tr>\n",
       "            <tr>\n",
       "                        <th id=\"T_8cf16_level0_row15\" class=\"row_heading level0 row15\" >26</th>\n",
       "                        <td id=\"T_8cf16_row15_col0\" class=\"data row15 col0\" >Asthma_Yes</td>\n",
       "                        <td id=\"T_8cf16_row15_col1\" class=\"data row15 col1\" >0.020000</td>\n",
       "            </tr>\n",
       "            <tr>\n",
       "                        <th id=\"T_8cf16_level0_row16\" class=\"row_heading level0 row16\" >25</th>\n",
       "                        <td id=\"T_8cf16_row16_col0\" class=\"data row16 col0\" >GenHealth_Very good</td>\n",
       "                        <td id=\"T_8cf16_row16_col1\" class=\"data row16 col1\" >0.020000</td>\n",
       "            </tr>\n",
       "            <tr>\n",
       "                        <th id=\"T_8cf16_level0_row17\" class=\"row_heading level0 row17\" >23</th>\n",
       "                        <td id=\"T_8cf16_row17_col0\" class=\"data row17 col0\" >GenHealth_Good</td>\n",
       "                        <td id=\"T_8cf16_row17_col1\" class=\"data row17 col1\" >0.020000</td>\n",
       "            </tr>\n",
       "            <tr>\n",
       "                        <th id=\"T_8cf16_level0_row18\" class=\"row_heading level0 row18\" >22</th>\n",
       "                        <td id=\"T_8cf16_row18_col0\" class=\"data row18 col0\" >GenHealth_Fair</td>\n",
       "                        <td id=\"T_8cf16_row18_col1\" class=\"data row18 col1\" >0.020000</td>\n",
       "            </tr>\n",
       "            <tr>\n",
       "                        <th id=\"T_8cf16_level0_row19\" class=\"row_heading level0 row19\" >27</th>\n",
       "                        <td id=\"T_8cf16_row19_col0\" class=\"data row19 col0\" >KidneyDisease_Yes</td>\n",
       "                        <td id=\"T_8cf16_row19_col1\" class=\"data row19 col1\" >0.010000</td>\n",
       "            </tr>\n",
       "            <tr>\n",
       "                        <th id=\"T_8cf16_level0_row20\" class=\"row_heading level0 row20\" >24</th>\n",
       "                        <td id=\"T_8cf16_row20_col0\" class=\"data row20 col0\" >GenHealth_Poor</td>\n",
       "                        <td id=\"T_8cf16_row20_col1\" class=\"data row20 col1\" >0.010000</td>\n",
       "            </tr>\n",
       "            <tr>\n",
       "                        <th id=\"T_8cf16_level0_row21\" class=\"row_heading level0 row21\" >10</th>\n",
       "                        <td id=\"T_8cf16_row21_col0\" class=\"data row21 col0\" >AgeCategory_40-49</td>\n",
       "                        <td id=\"T_8cf16_row21_col1\" class=\"data row21 col1\" >0.010000</td>\n",
       "            </tr>\n",
       "            <tr>\n",
       "                        <th id=\"T_8cf16_level0_row22\" class=\"row_heading level0 row22\" >5</th>\n",
       "                        <td id=\"T_8cf16_row22_col0\" class=\"data row22 col0\" >AlcoholDrinking_Yes</td>\n",
       "                        <td id=\"T_8cf16_row22_col1\" class=\"data row22 col1\" >0.010000</td>\n",
       "            </tr>\n",
       "            <tr>\n",
       "                        <th id=\"T_8cf16_level0_row23\" class=\"row_heading level0 row23\" >11</th>\n",
       "                        <td id=\"T_8cf16_row23_col0\" class=\"data row23 col0\" >AgeCategory_50-59</td>\n",
       "                        <td id=\"T_8cf16_row23_col1\" class=\"data row23 col1\" >0.010000</td>\n",
       "            </tr>\n",
       "            <tr>\n",
       "                        <th id=\"T_8cf16_level0_row24\" class=\"row_heading level0 row24\" >28</th>\n",
       "                        <td id=\"T_8cf16_row24_col0\" class=\"data row24 col0\" >SkinCancer_Yes</td>\n",
       "                        <td id=\"T_8cf16_row24_col1\" class=\"data row24 col1\" >0.010000</td>\n",
       "            </tr>\n",
       "            <tr>\n",
       "                        <th id=\"T_8cf16_level0_row25\" class=\"row_heading level0 row25\" >18</th>\n",
       "                        <td id=\"T_8cf16_row25_col0\" class=\"data row25 col0\" >Race_Other</td>\n",
       "                        <td id=\"T_8cf16_row25_col1\" class=\"data row25 col1\" >0.000000</td>\n",
       "            </tr>\n",
       "            <tr>\n",
       "                        <th id=\"T_8cf16_level0_row26\" class=\"row_heading level0 row26\" >17</th>\n",
       "                        <td id=\"T_8cf16_row26_col0\" class=\"data row26 col0\" >Race_Hispanic</td>\n",
       "                        <td id=\"T_8cf16_row26_col1\" class=\"data row26 col1\" >0.000000</td>\n",
       "            </tr>\n",
       "            <tr>\n",
       "                        <th id=\"T_8cf16_level0_row27\" class=\"row_heading level0 row27\" >16</th>\n",
       "                        <td id=\"T_8cf16_row27_col0\" class=\"data row27 col0\" >Race_Black</td>\n",
       "                        <td id=\"T_8cf16_row27_col1\" class=\"data row27 col1\" >0.000000</td>\n",
       "            </tr>\n",
       "            <tr>\n",
       "                        <th id=\"T_8cf16_level0_row28\" class=\"row_heading level0 row28\" >15</th>\n",
       "                        <td id=\"T_8cf16_row28_col0\" class=\"data row28 col0\" >Race_Asian</td>\n",
       "                        <td id=\"T_8cf16_row28_col1\" class=\"data row28 col1\" >0.000000</td>\n",
       "            </tr>\n",
       "    </tbody></table>"
      ],
      "text/plain": [
       "<pandas.io.formats.style.Styler at 0x124c1cd1130>"
      ]
     },
     "execution_count": 284,
     "metadata": {},
     "output_type": "execute_result"
    }
   ],
   "source": [
    "feature_imp_rf"
   ]
  },
  {
   "cell_type": "code",
   "execution_count": null,
   "id": "11093510",
   "metadata": {},
   "outputs": [],
   "source": []
  },
  {
   "cell_type": "code",
   "execution_count": null,
   "id": "9b6d15a9",
   "metadata": {},
   "outputs": [],
   "source": []
  },
  {
   "cell_type": "markdown",
   "id": "e2f00f99",
   "metadata": {},
   "source": [
    "## Summary Table (Modelling)"
   ]
  },
  {
   "cell_type": "code",
   "execution_count": 242,
   "id": "16e74b09",
   "metadata": {
    "scrolled": true
   },
   "outputs": [],
   "source": [
    "summary = pd.DataFrame({\"Model\" : [\"Logistic Regression (with SMOTE)\",\"Logistic Regression (without SMOTE)\", \"Naive Bayes (with SMOTE)\", \n",
    "                                  \"Naive Bayes (without SMOTE)\", \"Random Forest (with SMOTE)\", \"KNN Classifier (with SMOTE)\",\n",
    "                                  \"KNN Classifier (without SMOTE)\"], \n",
    "                       \"ROC_AUC Score\": [0.84,0.84, 0.80,0.80, 0.78, 0.73,0.71], \n",
    "                       \"Recall Score\": [0.79, 0.11, 0.72,0.57,0.27,0.56,0.15]}, index= range(1,8))"
   ]
  },
  {
   "cell_type": "code",
   "execution_count": 243,
   "id": "e0791115",
   "metadata": {},
   "outputs": [
    {
     "data": {
      "text/html": [
       "<div>\n",
       "<style scoped>\n",
       "    .dataframe tbody tr th:only-of-type {\n",
       "        vertical-align: middle;\n",
       "    }\n",
       "\n",
       "    .dataframe tbody tr th {\n",
       "        vertical-align: top;\n",
       "    }\n",
       "\n",
       "    .dataframe thead th {\n",
       "        text-align: right;\n",
       "    }\n",
       "</style>\n",
       "<table border=\"1\" class=\"dataframe\">\n",
       "  <thead>\n",
       "    <tr style=\"text-align: right;\">\n",
       "      <th></th>\n",
       "      <th>Model</th>\n",
       "      <th>ROC_AUC Score</th>\n",
       "      <th>Recall Score</th>\n",
       "    </tr>\n",
       "  </thead>\n",
       "  <tbody>\n",
       "    <tr>\n",
       "      <th>1</th>\n",
       "      <td>Logistic Regression (with SMOTE)</td>\n",
       "      <td>0.84</td>\n",
       "      <td>0.79</td>\n",
       "    </tr>\n",
       "    <tr>\n",
       "      <th>2</th>\n",
       "      <td>Logistic Regression (without SMOTE)</td>\n",
       "      <td>0.84</td>\n",
       "      <td>0.11</td>\n",
       "    </tr>\n",
       "    <tr>\n",
       "      <th>3</th>\n",
       "      <td>Naive Bayes (with SMOTE)</td>\n",
       "      <td>0.80</td>\n",
       "      <td>0.72</td>\n",
       "    </tr>\n",
       "    <tr>\n",
       "      <th>4</th>\n",
       "      <td>Naive Bayes (without SMOTE)</td>\n",
       "      <td>0.80</td>\n",
       "      <td>0.57</td>\n",
       "    </tr>\n",
       "    <tr>\n",
       "      <th>5</th>\n",
       "      <td>Random Forest (with SMOTE)</td>\n",
       "      <td>0.78</td>\n",
       "      <td>0.27</td>\n",
       "    </tr>\n",
       "    <tr>\n",
       "      <th>6</th>\n",
       "      <td>KNN Classifier (with SMOTE)</td>\n",
       "      <td>0.73</td>\n",
       "      <td>0.56</td>\n",
       "    </tr>\n",
       "    <tr>\n",
       "      <th>7</th>\n",
       "      <td>KNN Classifier (without SMOTE)</td>\n",
       "      <td>0.71</td>\n",
       "      <td>0.15</td>\n",
       "    </tr>\n",
       "  </tbody>\n",
       "</table>\n",
       "</div>"
      ],
      "text/plain": [
       "                                 Model  ROC_AUC Score  Recall Score\n",
       "1     Logistic Regression (with SMOTE)           0.84          0.79\n",
       "2  Logistic Regression (without SMOTE)           0.84          0.11\n",
       "3             Naive Bayes (with SMOTE)           0.80          0.72\n",
       "4          Naive Bayes (without SMOTE)           0.80          0.57\n",
       "5           Random Forest (with SMOTE)           0.78          0.27\n",
       "6          KNN Classifier (with SMOTE)           0.73          0.56\n",
       "7       KNN Classifier (without SMOTE)           0.71          0.15"
      ]
     },
     "execution_count": 243,
     "metadata": {},
     "output_type": "execute_result"
    }
   ],
   "source": [
    "summary"
   ]
  },
  {
   "cell_type": "code",
   "execution_count": null,
   "id": "24b2ffe5",
   "metadata": {},
   "outputs": [],
   "source": []
  },
  {
   "cell_type": "markdown",
   "id": "890a0bea",
   "metadata": {},
   "source": [
    "## Comments\n",
    "\n",
    "- In Heart Disease cases it's better to have a False Positive (Informing a patient falsely that he/she has disease) rather than False Negative (Informing a patient falsely that he/she does not have Heart Disease)\n",
    "\n",
    "\n",
    "- In False Negative case, the patient's illness remains undetected and may prove to be dangerous in the future\n",
    "\n",
    "\n",
    "- Best results are given by Logistic Regression (with SMOTE) having ROC_AUC score of 0.84 and recall score of 0.789\n",
    "\n",
    "\n",
    "- Second best model is Naive Bayes (with SMOTE) having ROC_AUC score of 0.80 and recall score of 0.72\n",
    "\n",
    "\n",
    "- Highest accuracy score is given by Logistic Regression (without SMOTE) of 0.91, while suffering from lowest recall score of 0.11\n",
    "\n",
    "\n",
    "- Balancing the data on target variable with SMOTE helps in getting a better Recall Score\n",
    "\n",
    "\n",
    "- Important parameters which affects the target variable are:\n",
    "\n",
    "   a) BMI\n",
    "   \n",
    "   b) Sleep Time\n",
    "   \n",
    "   c) Physical Health\n",
    "   \n",
    "   d) Mental Health\n",
    "   \n",
    "   e) Smoking\n",
    "   \n",
    "   f) Sex\n",
    "   \n",
    "   g) Diff. Walking\n",
    "   \n",
    "   h) Age Category"
   ]
  },
  {
   "cell_type": "code",
   "execution_count": null,
   "id": "c6636762",
   "metadata": {},
   "outputs": [],
   "source": []
  },
  {
   "cell_type": "code",
   "execution_count": null,
   "id": "c1753b31",
   "metadata": {},
   "outputs": [],
   "source": []
  }
 ],
 "metadata": {
  "kernelspec": {
   "display_name": "Python 3",
   "language": "python",
   "name": "python3"
  },
  "language_info": {
   "codemirror_mode": {
    "name": "ipython",
    "version": 3
   },
   "file_extension": ".py",
   "mimetype": "text/x-python",
   "name": "python",
   "nbconvert_exporter": "python",
   "pygments_lexer": "ipython3",
   "version": "3.8.8"
  }
 },
 "nbformat": 4,
 "nbformat_minor": 5
}
